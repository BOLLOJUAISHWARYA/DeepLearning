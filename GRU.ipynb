{
  "nbformat": 4,
  "nbformat_minor": 0,
  "metadata": {
    "colab": {
      "name": "GRU.ipynb",
      "provenance": [],
      "collapsed_sections": [],
      "mount_file_id": "13kvYHARbP_1-LcDooxItN2DpMfahpGzx",
      "authorship_tag": "ABX9TyOCGMSpob5mXhEQNqcAJjc3",
      "include_colab_link": true
    },
    "kernelspec": {
      "name": "python3",
      "display_name": "Python 3"
    },
    "language_info": {
      "name": "python"
    }
  },
  "cells": [
    {
      "cell_type": "markdown",
      "metadata": {
        "id": "view-in-github",
        "colab_type": "text"
      },
      "source": [
        "<a href=\"https://colab.research.google.com/github/BOLLOJUAISHWARYA/DeepLearning/blob/main/GRU.ipynb\" target=\"_parent\"><img src=\"https://colab.research.google.com/assets/colab-badge.svg\" alt=\"Open In Colab\"/></a>"
      ]
    },
    {
      "cell_type": "code",
      "execution_count": 1,
      "metadata": {
        "id": "xBQHmin81IKh"
      },
      "outputs": [],
      "source": [
        "# Importing the libraries  \n",
        "import numpy as np  \n",
        "import matplotlib.pyplot as plt  \n",
        "import pandas as pd  "
      ]
    },
    {
      "cell_type": "code",
      "source": [
        "# Importing the training set  \n",
        "dataset_train = pd.read_csv('/content/drive/MyDrive/Datasets/Google_Stock_Price_Train.csv')  \n",
        "training_set = dataset_train.iloc[:, 1:2].values  "
      ],
      "metadata": {
        "id": "lf5EDU_A1NAk"
      },
      "execution_count": 2,
      "outputs": []
    },
    {
      "cell_type": "code",
      "source": [
        "print(dataset_train.shape,training_set.shape)"
      ],
      "metadata": {
        "colab": {
          "base_uri": "https://localhost:8080/"
        },
        "id": "itZBGQgPHVLD",
        "outputId": "9ba178cc-bf1c-4dfa-b43d-f539955987d4"
      },
      "execution_count": 3,
      "outputs": [
        {
          "output_type": "stream",
          "name": "stdout",
          "text": [
            "(1258, 6) (1258, 1)\n"
          ]
        }
      ]
    },
    {
      "cell_type": "code",
      "source": [
        "# Feature Scaling  \n",
        "from sklearn.preprocessing import MinMaxScaler  \n",
        "sc = MinMaxScaler(feature_range = (0, 1))  \n",
        "training_set_scaled = sc.fit_transform(training_set)  "
      ],
      "metadata": {
        "id": "QSxqgVwk1NDG"
      },
      "execution_count": 4,
      "outputs": []
    },
    {
      "cell_type": "code",
      "source": [
        "# Creating a data structure with 10 timesteps and 1 output  \n",
        "X_train = []  \n",
        "y_train = []  \n",
        "for i in range(10, 1258):  \n",
        "    X_train.append(training_set_scaled[i-10:i, 0])  \n",
        "    y_train.append(training_set_scaled[i, 0])  \n",
        "X_train, y_train = np.array(X_train), np.array(y_train)  "
      ],
      "metadata": {
        "id": "LNhP_w3I1NFl"
      },
      "execution_count": 5,
      "outputs": []
    },
    {
      "cell_type": "code",
      "source": [
        "# Reshaping  \n",
        "X_train = np.reshape(X_train, (X_train.shape[0], X_train.shape[1], 1))  "
      ],
      "metadata": {
        "id": "WLDyIfxo1NIX"
      },
      "execution_count": 6,
      "outputs": []
    },
    {
      "cell_type": "code",
      "source": [
        "print(X_train.shape,y_train.shape)"
      ],
      "metadata": {
        "id": "0QEEtTWgHddD",
        "outputId": "a0358afb-5f6b-4efa-d1b8-ff772eb53fd7",
        "colab": {
          "base_uri": "https://localhost:8080/"
        }
      },
      "execution_count": 7,
      "outputs": [
        {
          "output_type": "stream",
          "name": "stdout",
          "text": [
            "(1248, 10, 1) (1248,)\n"
          ]
        }
      ]
    },
    {
      "cell_type": "code",
      "source": [
        "# Importing the Keras libraries and packages  \n",
        "from keras.models import Sequential  \n",
        "from keras.layers import Dense  \n",
        "from keras.layers import LSTM,GRU\n",
        "from keras.layers import Dropout  "
      ],
      "metadata": {
        "id": "p4z7gJt41NKw"
      },
      "execution_count": 8,
      "outputs": []
    },
    {
      "cell_type": "code",
      "source": [
        "# Initialising the RNN  \n",
        "regressor = Sequential()  \n",
        "# Adding the first GRU layer and some Dropout regularization  \n",
        "regressor.add(GRU(units = 50, return_sequences = True, input_shape = (X_train.shape[1], 1)))  \n",
        "regressor.add(Dropout(0.2))  \n",
        "# Adding a second GRU layer and some Dropout regularization  \n",
        "regressor.add(GRU(units = 50, return_sequences = True))  \n",
        "regressor.add(Dropout(0.2))  \n",
        "# Adding a third GRU layer and some Dropout regularization  \n",
        "regressor.add(GRU(units = 50, return_sequences = True))  \n",
        "regressor.add(Dropout(0.2))  \n",
        "# Adding a fourth GRU layer and some Dropout regularization  \n",
        "regressor.add(GRU(units = 50))  \n",
        "regressor.add(Dropout(0.2))  \n",
        "# Adding the output layer  \n",
        "regressor.add(Dense(units = 1))  \n",
        "# Compiling the RNN  \n",
        "regressor.compile(optimizer = 'adam', loss = 'mean_squared_error')  \n",
        "# Fitting the RNN to the Training set  \n",
        "history = regressor.fit(X_train, y_train, epochs = 100,validation_split=0.2, batch_size = 32)  "
      ],
      "metadata": {
        "colab": {
          "base_uri": "https://localhost:8080/"
        },
        "id": "J6mRl_bY1c81",
        "outputId": "bc28e71f-f529-42ca-9a3d-df57ec9cf981"
      },
      "execution_count": 9,
      "outputs": [
        {
          "output_type": "stream",
          "name": "stdout",
          "text": [
            "Epoch 1/100\n",
            "32/32 [==============================] - 23s 177ms/step - loss: 0.0286 - val_loss: 0.0074\n",
            "Epoch 2/100\n",
            "32/32 [==============================] - 1s 34ms/step - loss: 0.0045 - val_loss: 0.0022\n",
            "Epoch 3/100\n",
            "32/32 [==============================] - 1s 31ms/step - loss: 0.0043 - val_loss: 0.0043\n",
            "Epoch 4/100\n",
            "32/32 [==============================] - 1s 30ms/step - loss: 0.0039 - val_loss: 0.0012\n",
            "Epoch 5/100\n",
            "32/32 [==============================] - 1s 30ms/step - loss: 0.0032 - val_loss: 0.0015\n",
            "Epoch 6/100\n",
            "32/32 [==============================] - 1s 30ms/step - loss: 0.0033 - val_loss: 0.0022\n",
            "Epoch 7/100\n",
            "32/32 [==============================] - 1s 30ms/step - loss: 0.0029 - val_loss: 0.0012\n",
            "Epoch 8/100\n",
            "32/32 [==============================] - 1s 30ms/step - loss: 0.0029 - val_loss: 0.0014\n",
            "Epoch 9/100\n",
            "32/32 [==============================] - 1s 31ms/step - loss: 0.0025 - val_loss: 0.0012\n",
            "Epoch 10/100\n",
            "32/32 [==============================] - 1s 29ms/step - loss: 0.0025 - val_loss: 0.0029\n",
            "Epoch 11/100\n",
            "32/32 [==============================] - 1s 31ms/step - loss: 0.0026 - val_loss: 0.0013\n",
            "Epoch 12/100\n",
            "32/32 [==============================] - 1s 30ms/step - loss: 0.0027 - val_loss: 0.0013\n",
            "Epoch 13/100\n",
            "32/32 [==============================] - 1s 30ms/step - loss: 0.0023 - val_loss: 0.0013\n",
            "Epoch 14/100\n",
            "32/32 [==============================] - 1s 30ms/step - loss: 0.0026 - val_loss: 0.0022\n",
            "Epoch 15/100\n",
            "32/32 [==============================] - 1s 30ms/step - loss: 0.0027 - val_loss: 0.0075\n",
            "Epoch 16/100\n",
            "32/32 [==============================] - 1s 30ms/step - loss: 0.0025 - val_loss: 0.0054\n",
            "Epoch 17/100\n",
            "32/32 [==============================] - 1s 30ms/step - loss: 0.0024 - val_loss: 0.0011\n",
            "Epoch 18/100\n",
            "32/32 [==============================] - 1s 30ms/step - loss: 0.0019 - val_loss: 0.0038\n",
            "Epoch 19/100\n",
            "32/32 [==============================] - 1s 30ms/step - loss: 0.0021 - val_loss: 0.0013\n",
            "Epoch 20/100\n",
            "32/32 [==============================] - 1s 30ms/step - loss: 0.0020 - val_loss: 0.0030\n",
            "Epoch 21/100\n",
            "32/32 [==============================] - 1s 30ms/step - loss: 0.0020 - val_loss: 0.0027\n",
            "Epoch 22/100\n",
            "32/32 [==============================] - 1s 31ms/step - loss: 0.0018 - val_loss: 0.0014\n",
            "Epoch 23/100\n",
            "32/32 [==============================] - 1s 30ms/step - loss: 0.0021 - val_loss: 0.0012\n",
            "Epoch 24/100\n",
            "32/32 [==============================] - 1s 30ms/step - loss: 0.0019 - val_loss: 0.0019\n",
            "Epoch 25/100\n",
            "32/32 [==============================] - 1s 31ms/step - loss: 0.0018 - val_loss: 0.0035\n",
            "Epoch 26/100\n",
            "32/32 [==============================] - 1s 29ms/step - loss: 0.0025 - val_loss: 0.0034\n",
            "Epoch 27/100\n",
            "32/32 [==============================] - 1s 30ms/step - loss: 0.0019 - val_loss: 0.0013\n",
            "Epoch 28/100\n",
            "32/32 [==============================] - 1s 29ms/step - loss: 0.0018 - val_loss: 0.0061\n",
            "Epoch 29/100\n",
            "32/32 [==============================] - 1s 30ms/step - loss: 0.0020 - val_loss: 9.8611e-04\n",
            "Epoch 30/100\n",
            "32/32 [==============================] - 1s 30ms/step - loss: 0.0018 - val_loss: 0.0027\n",
            "Epoch 31/100\n",
            "32/32 [==============================] - 1s 30ms/step - loss: 0.0019 - val_loss: 0.0011\n",
            "Epoch 32/100\n",
            "32/32 [==============================] - 1s 30ms/step - loss: 0.0020 - val_loss: 0.0013\n",
            "Epoch 33/100\n",
            "32/32 [==============================] - 1s 31ms/step - loss: 0.0015 - val_loss: 0.0015\n",
            "Epoch 34/100\n",
            "32/32 [==============================] - 1s 30ms/step - loss: 0.0018 - val_loss: 8.7091e-04\n",
            "Epoch 35/100\n",
            "32/32 [==============================] - 1s 29ms/step - loss: 0.0017 - val_loss: 0.0031\n",
            "Epoch 36/100\n",
            "32/32 [==============================] - 1s 30ms/step - loss: 0.0020 - val_loss: 0.0053\n",
            "Epoch 37/100\n",
            "32/32 [==============================] - 1s 29ms/step - loss: 0.0018 - val_loss: 0.0018\n",
            "Epoch 38/100\n",
            "32/32 [==============================] - 1s 30ms/step - loss: 0.0016 - val_loss: 0.0013\n",
            "Epoch 39/100\n",
            "32/32 [==============================] - 1s 30ms/step - loss: 0.0018 - val_loss: 0.0025\n",
            "Epoch 40/100\n",
            "32/32 [==============================] - 1s 31ms/step - loss: 0.0018 - val_loss: 0.0012\n",
            "Epoch 41/100\n",
            "32/32 [==============================] - 1s 29ms/step - loss: 0.0014 - val_loss: 0.0014\n",
            "Epoch 42/100\n",
            "32/32 [==============================] - 1s 29ms/step - loss: 0.0016 - val_loss: 0.0012\n",
            "Epoch 43/100\n",
            "32/32 [==============================] - 1s 30ms/step - loss: 0.0016 - val_loss: 0.0015\n",
            "Epoch 44/100\n",
            "32/32 [==============================] - 1s 30ms/step - loss: 0.0015 - val_loss: 0.0030\n",
            "Epoch 45/100\n",
            "32/32 [==============================] - 1s 30ms/step - loss: 0.0016 - val_loss: 8.2041e-04\n",
            "Epoch 46/100\n",
            "32/32 [==============================] - 1s 30ms/step - loss: 0.0015 - val_loss: 0.0017\n",
            "Epoch 47/100\n",
            "32/32 [==============================] - 1s 30ms/step - loss: 0.0015 - val_loss: 8.5479e-04\n",
            "Epoch 48/100\n",
            "32/32 [==============================] - 1s 32ms/step - loss: 0.0013 - val_loss: 0.0010\n",
            "Epoch 49/100\n",
            "32/32 [==============================] - 1s 31ms/step - loss: 0.0016 - val_loss: 7.5487e-04\n",
            "Epoch 50/100\n",
            "32/32 [==============================] - 1s 31ms/step - loss: 0.0017 - val_loss: 0.0014\n",
            "Epoch 51/100\n",
            "32/32 [==============================] - 1s 30ms/step - loss: 0.0017 - val_loss: 0.0011\n",
            "Epoch 52/100\n",
            "32/32 [==============================] - 1s 30ms/step - loss: 0.0015 - val_loss: 6.9411e-04\n",
            "Epoch 53/100\n",
            "32/32 [==============================] - 1s 41ms/step - loss: 0.0014 - val_loss: 7.3396e-04\n",
            "Epoch 54/100\n",
            "32/32 [==============================] - 1s 31ms/step - loss: 0.0013 - val_loss: 7.5813e-04\n",
            "Epoch 55/100\n",
            "32/32 [==============================] - 1s 30ms/step - loss: 0.0014 - val_loss: 6.6462e-04\n",
            "Epoch 56/100\n",
            "32/32 [==============================] - 1s 30ms/step - loss: 0.0015 - val_loss: 0.0010\n",
            "Epoch 57/100\n",
            "32/32 [==============================] - 1s 30ms/step - loss: 0.0014 - val_loss: 6.3382e-04\n",
            "Epoch 58/100\n",
            "32/32 [==============================] - 1s 30ms/step - loss: 0.0013 - val_loss: 0.0017\n",
            "Epoch 59/100\n",
            "32/32 [==============================] - 1s 33ms/step - loss: 0.0013 - val_loss: 0.0017\n",
            "Epoch 60/100\n",
            "32/32 [==============================] - 1s 31ms/step - loss: 0.0014 - val_loss: 7.4533e-04\n",
            "Epoch 61/100\n",
            "32/32 [==============================] - 1s 30ms/step - loss: 0.0013 - val_loss: 5.9717e-04\n",
            "Epoch 62/100\n",
            "32/32 [==============================] - 1s 31ms/step - loss: 0.0013 - val_loss: 8.2361e-04\n",
            "Epoch 63/100\n",
            "32/32 [==============================] - 1s 30ms/step - loss: 0.0013 - val_loss: 6.1802e-04\n",
            "Epoch 64/100\n",
            "32/32 [==============================] - 1s 30ms/step - loss: 0.0012 - val_loss: 6.1892e-04\n",
            "Epoch 65/100\n",
            "32/32 [==============================] - 1s 29ms/step - loss: 0.0014 - val_loss: 7.5612e-04\n",
            "Epoch 66/100\n",
            "32/32 [==============================] - 1s 30ms/step - loss: 0.0013 - val_loss: 0.0023\n",
            "Epoch 67/100\n",
            "32/32 [==============================] - 1s 29ms/step - loss: 0.0016 - val_loss: 0.0019\n",
            "Epoch 68/100\n",
            "32/32 [==============================] - 1s 29ms/step - loss: 0.0012 - val_loss: 0.0012\n",
            "Epoch 69/100\n",
            "32/32 [==============================] - 1s 30ms/step - loss: 0.0011 - val_loss: 0.0032\n",
            "Epoch 70/100\n",
            "32/32 [==============================] - 1s 29ms/step - loss: 0.0011 - val_loss: 8.7999e-04\n",
            "Epoch 71/100\n",
            "32/32 [==============================] - 1s 29ms/step - loss: 0.0013 - val_loss: 0.0025\n",
            "Epoch 72/100\n",
            "32/32 [==============================] - 1s 29ms/step - loss: 0.0016 - val_loss: 6.4070e-04\n",
            "Epoch 73/100\n",
            "32/32 [==============================] - 1s 30ms/step - loss: 0.0013 - val_loss: 5.4512e-04\n",
            "Epoch 74/100\n",
            "32/32 [==============================] - 1s 29ms/step - loss: 0.0012 - val_loss: 7.1714e-04\n",
            "Epoch 75/100\n",
            "32/32 [==============================] - 1s 30ms/step - loss: 0.0012 - val_loss: 7.1052e-04\n",
            "Epoch 76/100\n",
            "32/32 [==============================] - 1s 30ms/step - loss: 0.0011 - val_loss: 0.0018\n",
            "Epoch 77/100\n",
            "32/32 [==============================] - 1s 30ms/step - loss: 0.0013 - val_loss: 8.5547e-04\n",
            "Epoch 78/100\n",
            "32/32 [==============================] - 1s 32ms/step - loss: 0.0014 - val_loss: 8.3657e-04\n",
            "Epoch 79/100\n",
            "32/32 [==============================] - 1s 32ms/step - loss: 0.0011 - val_loss: 6.9865e-04\n",
            "Epoch 80/100\n",
            "32/32 [==============================] - 1s 30ms/step - loss: 0.0010 - val_loss: 5.7902e-04\n",
            "Epoch 81/100\n",
            "32/32 [==============================] - 1s 30ms/step - loss: 0.0011 - val_loss: 6.8282e-04\n",
            "Epoch 82/100\n",
            "32/32 [==============================] - 1s 31ms/step - loss: 0.0011 - val_loss: 0.0016\n",
            "Epoch 83/100\n",
            "32/32 [==============================] - 1s 30ms/step - loss: 0.0012 - val_loss: 8.8574e-04\n",
            "Epoch 84/100\n",
            "32/32 [==============================] - 1s 31ms/step - loss: 0.0011 - val_loss: 5.3143e-04\n",
            "Epoch 85/100\n",
            "32/32 [==============================] - 1s 31ms/step - loss: 0.0012 - val_loss: 0.0019\n",
            "Epoch 86/100\n",
            "32/32 [==============================] - 1s 31ms/step - loss: 0.0011 - val_loss: 5.1532e-04\n",
            "Epoch 87/100\n",
            "32/32 [==============================] - 1s 30ms/step - loss: 0.0010 - val_loss: 0.0013\n",
            "Epoch 88/100\n",
            "32/32 [==============================] - 1s 29ms/step - loss: 0.0011 - val_loss: 0.0011\n",
            "Epoch 89/100\n",
            "32/32 [==============================] - 1s 30ms/step - loss: 0.0011 - val_loss: 9.6468e-04\n",
            "Epoch 90/100\n",
            "32/32 [==============================] - 1s 30ms/step - loss: 0.0011 - val_loss: 7.7308e-04\n",
            "Epoch 91/100\n",
            "32/32 [==============================] - 1s 30ms/step - loss: 0.0012 - val_loss: 4.5111e-04\n",
            "Epoch 92/100\n",
            "32/32 [==============================] - 1s 30ms/step - loss: 0.0012 - val_loss: 0.0024\n",
            "Epoch 93/100\n",
            "32/32 [==============================] - 1s 30ms/step - loss: 0.0011 - val_loss: 0.0015\n",
            "Epoch 94/100\n",
            "32/32 [==============================] - 1s 30ms/step - loss: 9.9693e-04 - val_loss: 4.9938e-04\n",
            "Epoch 95/100\n",
            "32/32 [==============================] - 1s 30ms/step - loss: 9.9523e-04 - val_loss: 0.0017\n",
            "Epoch 96/100\n",
            "32/32 [==============================] - 1s 30ms/step - loss: 0.0011 - val_loss: 0.0025\n",
            "Epoch 97/100\n",
            "32/32 [==============================] - 1s 30ms/step - loss: 0.0011 - val_loss: 9.4737e-04\n",
            "Epoch 98/100\n",
            "32/32 [==============================] - 1s 30ms/step - loss: 0.0011 - val_loss: 6.6345e-04\n",
            "Epoch 99/100\n",
            "32/32 [==============================] - 1s 30ms/step - loss: 0.0010 - val_loss: 0.0011\n",
            "Epoch 100/100\n",
            "32/32 [==============================] - 1s 30ms/step - loss: 0.0010 - val_loss: 7.0534e-04\n"
          ]
        }
      ]
    },
    {
      "cell_type": "code",
      "source": [
        "plt.plot(history.history['loss'], label='train')\n",
        "plt.plot(history.history['val_loss'], label='test')\n",
        "plt.legend();"
      ],
      "metadata": {
        "colab": {
          "base_uri": "https://localhost:8080/",
          "height": 269
        },
        "id": "pCs2BSzO5x5W",
        "outputId": "5bd0c48a-c34a-416a-9f12-5f8c90265288"
      },
      "execution_count": 10,
      "outputs": [
        {
          "output_type": "display_data",
          "data": {
            "text/plain": [
              "<Figure size 432x288 with 1 Axes>"
            ],
            "image/png": "[encoded data removed]"
          },
          "metadata": {
            "needs_background": "light"
          }
        }
      ]
    },
    {
      "cell_type": "code",
      "source": [
        "# Creating a data structure with 30 timesteps and 1 output  \n",
        "X_train = []  \n",
        "y_train = []  \n",
        "for i in range(30, 1258):  \n",
        "    X_train.append(training_set_scaled[i-30:i, 0])  \n",
        "    y_train.append(training_set_scaled[i, 0])  \n",
        "X_train, y_train = np.array(X_train), np.array(y_train)  \n",
        "X_train = np.reshape(X_train, (X_train.shape[0], X_train.shape[1], 1))  \n",
        "# Initialising the RNN  \n",
        "regressor = Sequential()  \n",
        "# Adding the first LSTM layer and some Dropout regularization  \n",
        "regressor.add(LSTM(units = 50, return_sequences = True, input_shape = (X_train.shape[1], 1)))  \n",
        "regressor.add(Dropout(0.2))  \n",
        "# Adding a second LSTM layer and some Dropout regularization  \n",
        "regressor.add(LSTM(units = 50, return_sequences = True))  \n",
        "regressor.add(Dropout(0.2))  \n",
        "# Adding a third LSTM layer and some Dropout regularization  \n",
        "regressor.add(LSTM(units = 50, return_sequences = True))  \n",
        "regressor.add(Dropout(0.2))  \n",
        "# Adding a fourth LSTM layer and some Dropout regularization  \n",
        "regressor.add(LSTM(units = 50))  \n",
        "regressor.add(Dropout(0.2))  \n",
        "# Adding the output layer  \n",
        "regressor.add(Dense(units = 1))  \n",
        "# Compiling the RNN  \n",
        "regressor.compile(optimizer = 'adam', loss = 'mean_squared_error')  \n",
        "# Fitting the RNN to the Training set  \n",
        "history = regressor.fit(X_train, y_train, epochs = 100,validation_split=0.2, batch_size = 32)  "
      ],
      "metadata": {
        "colab": {
          "base_uri": "https://localhost:8080/"
        },
        "id": "Wr3Lt5iBwQf3",
        "outputId": "37a1684c-fec4-4e6b-c4de-0d27cedfd354"
      },
      "execution_count": 11,
      "outputs": [
        {
          "output_type": "stream",
          "name": "stdout",
          "text": [
            "Epoch 1/100\n",
            "31/31 [==============================] - 12s 129ms/step - loss: 0.0331 - val_loss: 0.0418\n",
            "Epoch 2/100\n",
            "31/31 [==============================] - 2s 73ms/step - loss: 0.0052 - val_loss: 0.0033\n",
            "Epoch 3/100\n",
            "31/31 [==============================] - 2s 73ms/step - loss: 0.0044 - val_loss: 0.0028\n",
            "Epoch 4/100\n",
            "31/31 [==============================] - 2s 73ms/step - loss: 0.0038 - val_loss: 0.0022\n",
            "Epoch 5/100\n",
            "31/31 [==============================] - 2s 72ms/step - loss: 0.0040 - val_loss: 0.0051\n",
            "Epoch 6/100\n",
            "31/31 [==============================] - 2s 75ms/step - loss: 0.0038 - val_loss: 0.0042\n",
            "Epoch 7/100\n",
            "31/31 [==============================] - 2s 74ms/step - loss: 0.0039 - val_loss: 0.0042\n",
            "Epoch 8/100\n",
            "31/31 [==============================] - 2s 74ms/step - loss: 0.0038 - val_loss: 0.0035\n",
            "Epoch 9/100\n",
            "31/31 [==============================] - 2s 74ms/step - loss: 0.0034 - val_loss: 0.0088\n",
            "Epoch 10/100\n",
            "31/31 [==============================] - 2s 73ms/step - loss: 0.0035 - val_loss: 0.0020\n",
            "Epoch 11/100\n",
            "31/31 [==============================] - 2s 75ms/step - loss: 0.0032 - val_loss: 0.0057\n",
            "Epoch 12/100\n",
            "31/31 [==============================] - 2s 75ms/step - loss: 0.0032 - val_loss: 0.0021\n",
            "Epoch 13/100\n",
            "31/31 [==============================] - 2s 73ms/step - loss: 0.0031 - val_loss: 0.0026\n",
            "Epoch 14/100\n",
            "31/31 [==============================] - 2s 75ms/step - loss: 0.0032 - val_loss: 0.0024\n",
            "Epoch 15/100\n",
            "31/31 [==============================] - 2s 73ms/step - loss: 0.0025 - val_loss: 0.0023\n",
            "Epoch 16/100\n",
            "31/31 [==============================] - 2s 73ms/step - loss: 0.0030 - val_loss: 0.0019\n",
            "Epoch 17/100\n",
            "31/31 [==============================] - 2s 73ms/step - loss: 0.0029 - val_loss: 0.0035\n",
            "Epoch 18/100\n",
            "31/31 [==============================] - 2s 74ms/step - loss: 0.0031 - val_loss: 0.0043\n",
            "Epoch 19/100\n",
            "31/31 [==============================] - 2s 73ms/step - loss: 0.0028 - val_loss: 0.0023\n",
            "Epoch 20/100\n",
            "31/31 [==============================] - 2s 73ms/step - loss: 0.0032 - val_loss: 0.0084\n",
            "Epoch 21/100\n",
            "31/31 [==============================] - 2s 73ms/step - loss: 0.0027 - val_loss: 0.0016\n",
            "Epoch 22/100\n",
            "31/31 [==============================] - 2s 77ms/step - loss: 0.0026 - val_loss: 0.0047\n",
            "Epoch 23/100\n",
            "31/31 [==============================] - 2s 74ms/step - loss: 0.0033 - val_loss: 0.0019\n",
            "Epoch 24/100\n",
            "31/31 [==============================] - 2s 74ms/step - loss: 0.0023 - val_loss: 0.0034\n",
            "Epoch 25/100\n",
            "31/31 [==============================] - 2s 72ms/step - loss: 0.0023 - val_loss: 0.0016\n",
            "Epoch 26/100\n",
            "31/31 [==============================] - 2s 72ms/step - loss: 0.0022 - val_loss: 0.0019\n",
            "Epoch 27/100\n",
            "31/31 [==============================] - 4s 111ms/step - loss: 0.0021 - val_loss: 0.0015\n",
            "Epoch 28/100\n",
            "31/31 [==============================] - 2s 74ms/step - loss: 0.0021 - val_loss: 0.0015\n",
            "Epoch 29/100\n",
            "31/31 [==============================] - 2s 74ms/step - loss: 0.0022 - val_loss: 0.0044\n",
            "Epoch 30/100\n",
            "31/31 [==============================] - 2s 73ms/step - loss: 0.0023 - val_loss: 0.0016\n",
            "Epoch 31/100\n",
            "31/31 [==============================] - 2s 76ms/step - loss: 0.0022 - val_loss: 0.0033\n",
            "Epoch 32/100\n",
            "31/31 [==============================] - 2s 74ms/step - loss: 0.0025 - val_loss: 0.0015\n",
            "Epoch 33/100\n",
            "31/31 [==============================] - 2s 74ms/step - loss: 0.0021 - val_loss: 0.0014\n",
            "Epoch 34/100\n",
            "31/31 [==============================] - 2s 73ms/step - loss: 0.0026 - val_loss: 0.0031\n",
            "Epoch 35/100\n",
            "31/31 [==============================] - 2s 75ms/step - loss: 0.0025 - val_loss: 0.0040\n",
            "Epoch 36/100\n",
            "31/31 [==============================] - 2s 75ms/step - loss: 0.0024 - val_loss: 0.0029\n",
            "Epoch 37/100\n",
            "31/31 [==============================] - 2s 75ms/step - loss: 0.0018 - val_loss: 0.0018\n",
            "Epoch 38/100\n",
            "31/31 [==============================] - 2s 75ms/step - loss: 0.0019 - val_loss: 0.0013\n",
            "Epoch 39/100\n",
            "31/31 [==============================] - 2s 75ms/step - loss: 0.0020 - val_loss: 0.0032\n",
            "Epoch 40/100\n",
            "31/31 [==============================] - 2s 74ms/step - loss: 0.0023 - val_loss: 0.0019\n",
            "Epoch 41/100\n",
            "31/31 [==============================] - 2s 74ms/step - loss: 0.0018 - val_loss: 0.0014\n",
            "Epoch 42/100\n",
            "31/31 [==============================] - 2s 73ms/step - loss: 0.0022 - val_loss: 0.0023\n",
            "Epoch 43/100\n",
            "31/31 [==============================] - 2s 73ms/step - loss: 0.0019 - val_loss: 0.0021\n",
            "Epoch 44/100\n",
            "31/31 [==============================] - 2s 72ms/step - loss: 0.0020 - val_loss: 0.0023\n",
            "Epoch 45/100\n",
            "31/31 [==============================] - 2s 76ms/step - loss: 0.0020 - val_loss: 0.0012\n",
            "Epoch 46/100\n",
            "31/31 [==============================] - 2s 75ms/step - loss: 0.0017 - val_loss: 0.0017\n",
            "Epoch 47/100\n",
            "31/31 [==============================] - 2s 74ms/step - loss: 0.0018 - val_loss: 0.0066\n",
            "Epoch 48/100\n",
            "31/31 [==============================] - 2s 76ms/step - loss: 0.0018 - val_loss: 0.0019\n",
            "Epoch 49/100\n",
            "31/31 [==============================] - 2s 74ms/step - loss: 0.0018 - val_loss: 0.0015\n",
            "Epoch 50/100\n",
            "31/31 [==============================] - 2s 76ms/step - loss: 0.0018 - val_loss: 0.0021\n",
            "Epoch 51/100\n",
            "31/31 [==============================] - 2s 75ms/step - loss: 0.0018 - val_loss: 0.0012\n",
            "Epoch 52/100\n",
            "31/31 [==============================] - 2s 75ms/step - loss: 0.0019 - val_loss: 0.0016\n",
            "Epoch 53/100\n",
            "31/31 [==============================] - 2s 73ms/step - loss: 0.0018 - val_loss: 0.0014\n",
            "Epoch 54/100\n",
            "31/31 [==============================] - 2s 73ms/step - loss: 0.0018 - val_loss: 0.0011\n",
            "Epoch 55/100\n",
            "31/31 [==============================] - 2s 73ms/step - loss: 0.0018 - val_loss: 0.0018\n",
            "Epoch 56/100\n",
            "31/31 [==============================] - 2s 74ms/step - loss: 0.0019 - val_loss: 0.0018\n",
            "Epoch 57/100\n",
            "31/31 [==============================] - 2s 74ms/step - loss: 0.0016 - val_loss: 0.0010\n",
            "Epoch 58/100\n",
            "31/31 [==============================] - 2s 73ms/step - loss: 0.0017 - val_loss: 0.0011\n",
            "Epoch 59/100\n",
            "31/31 [==============================] - 2s 75ms/step - loss: 0.0016 - val_loss: 0.0010\n",
            "Epoch 60/100\n",
            "31/31 [==============================] - 2s 76ms/step - loss: 0.0018 - val_loss: 0.0019\n",
            "Epoch 61/100\n",
            "31/31 [==============================] - 2s 78ms/step - loss: 0.0018 - val_loss: 0.0017\n",
            "Epoch 62/100\n",
            "31/31 [==============================] - 2s 76ms/step - loss: 0.0017 - val_loss: 0.0011\n",
            "Epoch 63/100\n",
            "31/31 [==============================] - 2s 75ms/step - loss: 0.0017 - val_loss: 0.0027\n",
            "Epoch 64/100\n",
            "31/31 [==============================] - 2s 74ms/step - loss: 0.0014 - val_loss: 0.0013\n",
            "Epoch 65/100\n",
            "31/31 [==============================] - 2s 75ms/step - loss: 0.0014 - val_loss: 0.0011\n",
            "Epoch 66/100\n",
            "31/31 [==============================] - 2s 74ms/step - loss: 0.0016 - val_loss: 0.0021\n",
            "Epoch 67/100\n",
            "31/31 [==============================] - 2s 74ms/step - loss: 0.0016 - val_loss: 0.0013\n",
            "Epoch 68/100\n",
            "31/31 [==============================] - 2s 74ms/step - loss: 0.0014 - val_loss: 9.2877e-04\n",
            "Epoch 69/100\n",
            "31/31 [==============================] - 2s 75ms/step - loss: 0.0014 - val_loss: 0.0014\n",
            "Epoch 70/100\n",
            "31/31 [==============================] - 2s 77ms/step - loss: 0.0014 - val_loss: 8.7231e-04\n",
            "Epoch 71/100\n",
            "31/31 [==============================] - 2s 79ms/step - loss: 0.0015 - val_loss: 0.0012\n",
            "Epoch 72/100\n",
            "31/31 [==============================] - 2s 75ms/step - loss: 0.0016 - val_loss: 0.0037\n",
            "Epoch 73/100\n",
            "31/31 [==============================] - 2s 75ms/step - loss: 0.0016 - val_loss: 8.5667e-04\n",
            "Epoch 74/100\n",
            "31/31 [==============================] - 2s 75ms/step - loss: 0.0014 - val_loss: 0.0011\n",
            "Epoch 75/100\n",
            "31/31 [==============================] - 2s 75ms/step - loss: 0.0014 - val_loss: 0.0029\n",
            "Epoch 76/100\n",
            "31/31 [==============================] - 2s 76ms/step - loss: 0.0013 - val_loss: 8.9384e-04\n",
            "Epoch 77/100\n",
            "31/31 [==============================] - 2s 77ms/step - loss: 0.0014 - val_loss: 0.0018\n",
            "Epoch 78/100\n",
            "31/31 [==============================] - 2s 76ms/step - loss: 0.0011 - val_loss: 7.8408e-04\n",
            "Epoch 79/100\n",
            "31/31 [==============================] - 2s 77ms/step - loss: 0.0014 - val_loss: 0.0025\n",
            "Epoch 80/100\n",
            "31/31 [==============================] - 2s 76ms/step - loss: 0.0013 - val_loss: 0.0011\n",
            "Epoch 81/100\n",
            "31/31 [==============================] - 2s 75ms/step - loss: 0.0012 - val_loss: 7.5606e-04\n",
            "Epoch 82/100\n",
            "31/31 [==============================] - 2s 76ms/step - loss: 0.0013 - val_loss: 7.5053e-04\n",
            "Epoch 83/100\n",
            "31/31 [==============================] - 2s 76ms/step - loss: 0.0012 - val_loss: 7.3926e-04\n",
            "Epoch 84/100\n",
            "31/31 [==============================] - 2s 77ms/step - loss: 0.0013 - val_loss: 0.0020\n",
            "Epoch 85/100\n",
            "31/31 [==============================] - 2s 75ms/step - loss: 0.0013 - val_loss: 0.0025\n",
            "Epoch 86/100\n",
            "31/31 [==============================] - 2s 74ms/step - loss: 0.0013 - val_loss: 8.2546e-04\n",
            "Epoch 87/100\n",
            "31/31 [==============================] - 2s 77ms/step - loss: 0.0014 - val_loss: 0.0023\n",
            "Epoch 88/100\n",
            "31/31 [==============================] - 2s 78ms/step - loss: 0.0011 - val_loss: 0.0011\n",
            "Epoch 89/100\n",
            "31/31 [==============================] - 2s 76ms/step - loss: 0.0013 - val_loss: 9.8354e-04\n",
            "Epoch 90/100\n",
            "31/31 [==============================] - 2s 75ms/step - loss: 0.0011 - val_loss: 9.4640e-04\n",
            "Epoch 91/100\n",
            "31/31 [==============================] - 2s 76ms/step - loss: 0.0012 - val_loss: 0.0016\n",
            "Epoch 92/100\n",
            "31/31 [==============================] - 2s 77ms/step - loss: 0.0012 - val_loss: 9.5121e-04\n",
            "Epoch 93/100\n",
            "31/31 [==============================] - 2s 81ms/step - loss: 0.0013 - val_loss: 8.5619e-04\n",
            "Epoch 94/100\n",
            "31/31 [==============================] - 2s 79ms/step - loss: 0.0011 - val_loss: 0.0015\n",
            "Epoch 95/100\n",
            "31/31 [==============================] - 2s 76ms/step - loss: 0.0014 - val_loss: 6.6568e-04\n",
            "Epoch 96/100\n",
            "31/31 [==============================] - 2s 78ms/step - loss: 0.0013 - val_loss: 7.3073e-04\n",
            "Epoch 97/100\n",
            "31/31 [==============================] - 2s 78ms/step - loss: 0.0012 - val_loss: 9.4626e-04\n",
            "Epoch 98/100\n",
            "31/31 [==============================] - 2s 75ms/step - loss: 0.0011 - val_loss: 7.8994e-04\n",
            "Epoch 99/100\n",
            "31/31 [==============================] - 2s 75ms/step - loss: 0.0011 - val_loss: 9.5987e-04\n",
            "Epoch 100/100\n",
            "31/31 [==============================] - 2s 76ms/step - loss: 9.7642e-04 - val_loss: 6.7736e-04\n"
          ]
        }
      ]
    },
    {
      "cell_type": "code",
      "source": [
        "plt.plot(history.history['loss'], label='train')\n",
        "plt.plot(history.history['val_loss'], label='test')\n",
        "plt.title('Loss Graph') \n",
        "plt.xlabel('Epochs')  \n",
        "plt.ylabel('Loss') \n",
        "plt.legend();"
      ],
      "metadata": {
        "colab": {
          "base_uri": "https://localhost:8080/",
          "height": 295
        },
        "id": "vhVEObAdwQis",
        "outputId": "b277d3ad-6d4f-488d-feb5-6be9f7c3a57c"
      },
      "execution_count": 12,
      "outputs": [
        {
          "output_type": "display_data",
          "data": {
            "text/plain": [
              "<Figure size 432x288 with 1 Axes>"
            ],
            "image/png": "[encoded data removed]"
          },
          "metadata": {
            "needs_background": "light"
          }
        }
      ]
    },
    {
      "cell_type": "code",
      "source": [
        "# Creating a data structure with 60 timesteps and 1 output  \n",
        "X_train = []  \n",
        "y_train = []  \n",
        "for i in range(60, 1258):  \n",
        "    X_train.append(training_set_scaled[i-60:i, 0])  \n",
        "    y_train.append(training_set_scaled[i, 0])  \n",
        "X_train, y_train = np.array(X_train), np.array(y_train)  \n",
        "X_train = np.reshape(X_train, (X_train.shape[0], X_train.shape[1], 1))  \n",
        "# Initialising the RNN  \n",
        "regressor = Sequential()  \n",
        "# Adding the first LSTM layer and some Dropout regularization  \n",
        "regressor.add(LSTM(units = 50, return_sequences = True, input_shape = (X_train.shape[1], 1)))  \n",
        "regressor.add(Dropout(0.2))  \n",
        "# Adding a second LSTM layer and some Dropout regularization  \n",
        "regressor.add(LSTM(units = 50, return_sequences = True))  \n",
        "regressor.add(Dropout(0.2))  \n",
        "# Adding a third LSTM layer and some Dropout regularization  \n",
        "regressor.add(LSTM(units = 50, return_sequences = True))  \n",
        "regressor.add(Dropout(0.2))  \n",
        "# Adding a fourth LSTM layer and some Dropout regularization  \n",
        "regressor.add(LSTM(units = 50))  \n",
        "regressor.add(Dropout(0.2))  \n",
        "# Adding the output layer  \n",
        "regressor.add(Dense(units = 1))  \n",
        "# Compiling the RNN  \n",
        "regressor.compile(optimizer = 'adam', loss = 'mean_squared_error')  \n",
        "# Fitting the RNN to the Training set  \n",
        "history = regressor.fit(X_train, y_train, epochs = 100,validation_split=0.2, batch_size = 32)  \n"
      ],
      "metadata": {
        "colab": {
          "base_uri": "https://localhost:8080/"
        },
        "id": "ZZOFmu0WwQlS",
        "outputId": "295ff1a3-bdbe-41f4-cbd5-38c121440bed"
      },
      "execution_count": 13,
      "outputs": [
        {
          "output_type": "stream",
          "name": "stdout",
          "text": [
            "Epoch 1/100\n",
            "30/30 [==============================] - 15s 211ms/step - loss: 0.0321 - val_loss: 0.0288\n",
            "Epoch 2/100\n",
            "30/30 [==============================] - 4s 142ms/step - loss: 0.0058 - val_loss: 0.0022\n",
            "Epoch 3/100\n",
            "30/30 [==============================] - 4s 139ms/step - loss: 0.0041 - val_loss: 0.0021\n",
            "Epoch 4/100\n",
            "30/30 [==============================] - 4s 141ms/step - loss: 0.0042 - val_loss: 0.0044\n",
            "Epoch 5/100\n",
            "30/30 [==============================] - 4s 141ms/step - loss: 0.0046 - val_loss: 0.0063\n",
            "Epoch 6/100\n",
            "30/30 [==============================] - 4s 142ms/step - loss: 0.0046 - val_loss: 0.0118\n",
            "Epoch 7/100\n",
            "30/30 [==============================] - 4s 142ms/step - loss: 0.0037 - val_loss: 0.0019\n",
            "Epoch 8/100\n",
            "30/30 [==============================] - 4s 141ms/step - loss: 0.0035 - val_loss: 0.0019\n",
            "Epoch 9/100\n",
            "30/30 [==============================] - 4s 138ms/step - loss: 0.0035 - val_loss: 0.0020\n",
            "Epoch 10/100\n",
            "30/30 [==============================] - 4s 139ms/step - loss: 0.0030 - val_loss: 0.0018\n",
            "Epoch 11/100\n",
            "30/30 [==============================] - 4s 141ms/step - loss: 0.0032 - val_loss: 0.0023\n",
            "Epoch 12/100\n",
            "30/30 [==============================] - 4s 142ms/step - loss: 0.0035 - val_loss: 0.0017\n",
            "Epoch 13/100\n",
            "30/30 [==============================] - 4s 141ms/step - loss: 0.0029 - val_loss: 0.0064\n",
            "Epoch 14/100\n",
            "30/30 [==============================] - 4s 139ms/step - loss: 0.0032 - val_loss: 0.0024\n",
            "Epoch 15/100\n",
            "30/30 [==============================] - 4s 140ms/step - loss: 0.0030 - val_loss: 0.0017\n",
            "Epoch 16/100\n",
            "30/30 [==============================] - 4s 140ms/step - loss: 0.0029 - val_loss: 0.0057\n",
            "Epoch 17/100\n",
            "30/30 [==============================] - 4s 142ms/step - loss: 0.0028 - val_loss: 0.0030\n",
            "Epoch 18/100\n",
            "30/30 [==============================] - 4s 147ms/step - loss: 0.0033 - val_loss: 0.0026\n",
            "Epoch 19/100\n",
            "30/30 [==============================] - 4s 142ms/step - loss: 0.0032 - val_loss: 0.0066\n",
            "Epoch 20/100\n",
            "30/30 [==============================] - 4s 141ms/step - loss: 0.0034 - val_loss: 0.0016\n",
            "Epoch 21/100\n",
            "30/30 [==============================] - 4s 138ms/step - loss: 0.0029 - val_loss: 0.0016\n",
            "Epoch 22/100\n",
            "30/30 [==============================] - 4s 139ms/step - loss: 0.0024 - val_loss: 0.0016\n",
            "Epoch 23/100\n",
            "30/30 [==============================] - 4s 143ms/step - loss: 0.0027 - val_loss: 0.0017\n",
            "Epoch 24/100\n",
            "30/30 [==============================] - 4s 141ms/step - loss: 0.0027 - val_loss: 0.0017\n",
            "Epoch 25/100\n",
            "30/30 [==============================] - 4s 141ms/step - loss: 0.0026 - val_loss: 0.0033\n",
            "Epoch 26/100\n",
            "30/30 [==============================] - 4s 139ms/step - loss: 0.0027 - val_loss: 0.0015\n",
            "Epoch 27/100\n",
            "30/30 [==============================] - 4s 140ms/step - loss: 0.0025 - val_loss: 0.0052\n",
            "Epoch 28/100\n",
            "30/30 [==============================] - 4s 140ms/step - loss: 0.0025 - val_loss: 0.0047\n",
            "Epoch 29/100\n",
            "30/30 [==============================] - 4s 140ms/step - loss: 0.0024 - val_loss: 0.0087\n",
            "Epoch 30/100\n",
            "30/30 [==============================] - 4s 139ms/step - loss: 0.0024 - val_loss: 0.0054\n",
            "Epoch 31/100\n",
            "30/30 [==============================] - 4s 140ms/step - loss: 0.0026 - val_loss: 0.0055\n",
            "Epoch 32/100\n",
            "30/30 [==============================] - 4s 138ms/step - loss: 0.0023 - val_loss: 0.0037\n",
            "Epoch 33/100\n",
            "30/30 [==============================] - 4s 140ms/step - loss: 0.0022 - val_loss: 0.0033\n",
            "Epoch 34/100\n",
            "30/30 [==============================] - 4s 141ms/step - loss: 0.0024 - val_loss: 0.0041\n",
            "Epoch 35/100\n",
            "30/30 [==============================] - 4s 140ms/step - loss: 0.0024 - val_loss: 0.0086\n",
            "Epoch 36/100\n",
            "30/30 [==============================] - 4s 140ms/step - loss: 0.0022 - val_loss: 0.0020\n",
            "Epoch 37/100\n",
            "30/30 [==============================] - 4s 141ms/step - loss: 0.0024 - val_loss: 0.0013\n",
            "Epoch 38/100\n",
            "30/30 [==============================] - 4s 140ms/step - loss: 0.0022 - val_loss: 0.0016\n",
            "Epoch 39/100\n",
            "30/30 [==============================] - 4s 140ms/step - loss: 0.0020 - val_loss: 0.0030\n",
            "Epoch 40/100\n",
            "30/30 [==============================] - 4s 139ms/step - loss: 0.0022 - val_loss: 0.0032\n",
            "Epoch 41/100\n",
            "30/30 [==============================] - 4s 138ms/step - loss: 0.0021 - val_loss: 0.0017\n",
            "Epoch 42/100\n",
            "30/30 [==============================] - 4s 139ms/step - loss: 0.0021 - val_loss: 0.0015\n",
            "Epoch 43/100\n",
            "30/30 [==============================] - 4s 137ms/step - loss: 0.0019 - val_loss: 0.0015\n",
            "Epoch 44/100\n",
            "30/30 [==============================] - 4s 140ms/step - loss: 0.0023 - val_loss: 0.0021\n",
            "Epoch 45/100\n",
            "30/30 [==============================] - 4s 139ms/step - loss: 0.0022 - val_loss: 0.0025\n",
            "Epoch 46/100\n",
            "30/30 [==============================] - 4s 138ms/step - loss: 0.0022 - val_loss: 0.0021\n",
            "Epoch 47/100\n",
            "30/30 [==============================] - 4s 139ms/step - loss: 0.0021 - val_loss: 0.0013\n",
            "Epoch 48/100\n",
            "30/30 [==============================] - 4s 142ms/step - loss: 0.0019 - val_loss: 0.0016\n",
            "Epoch 49/100\n",
            "30/30 [==============================] - 4s 138ms/step - loss: 0.0019 - val_loss: 0.0041\n",
            "Epoch 50/100\n",
            "30/30 [==============================] - 4s 139ms/step - loss: 0.0024 - val_loss: 0.0028\n",
            "Epoch 51/100\n",
            "30/30 [==============================] - 4s 141ms/step - loss: 0.0021 - val_loss: 0.0012\n",
            "Epoch 52/100\n",
            "30/30 [==============================] - 4s 139ms/step - loss: 0.0019 - val_loss: 0.0025\n",
            "Epoch 53/100\n",
            "30/30 [==============================] - 4s 140ms/step - loss: 0.0020 - val_loss: 0.0012\n",
            "Epoch 54/100\n",
            "30/30 [==============================] - 4s 143ms/step - loss: 0.0020 - val_loss: 0.0012\n",
            "Epoch 55/100\n",
            "30/30 [==============================] - 4s 144ms/step - loss: 0.0018 - val_loss: 0.0012\n",
            "Epoch 56/100\n",
            "30/30 [==============================] - 4s 147ms/step - loss: 0.0019 - val_loss: 0.0020\n",
            "Epoch 57/100\n",
            "30/30 [==============================] - 4s 139ms/step - loss: 0.0022 - val_loss: 0.0032\n",
            "Epoch 58/100\n",
            "30/30 [==============================] - 4s 142ms/step - loss: 0.0018 - val_loss: 0.0015\n",
            "Epoch 59/100\n",
            "30/30 [==============================] - 4s 143ms/step - loss: 0.0020 - val_loss: 0.0034\n",
            "Epoch 60/100\n",
            "30/30 [==============================] - 4s 145ms/step - loss: 0.0019 - val_loss: 0.0013\n",
            "Epoch 61/100\n",
            "30/30 [==============================] - 4s 143ms/step - loss: 0.0018 - val_loss: 0.0012\n",
            "Epoch 62/100\n",
            "30/30 [==============================] - 4s 141ms/step - loss: 0.0018 - val_loss: 0.0017\n",
            "Epoch 63/100\n",
            "30/30 [==============================] - 4s 137ms/step - loss: 0.0016 - val_loss: 0.0028\n",
            "Epoch 64/100\n",
            "30/30 [==============================] - 4s 139ms/step - loss: 0.0017 - val_loss: 0.0011\n",
            "Epoch 65/100\n",
            "30/30 [==============================] - 4s 139ms/step - loss: 0.0017 - val_loss: 0.0011\n",
            "Epoch 66/100\n",
            "30/30 [==============================] - 4s 140ms/step - loss: 0.0015 - val_loss: 0.0021\n",
            "Epoch 67/100\n",
            "30/30 [==============================] - 4s 142ms/step - loss: 0.0016 - val_loss: 0.0013\n",
            "Epoch 68/100\n",
            "30/30 [==============================] - 4s 141ms/step - loss: 0.0016 - val_loss: 0.0011\n",
            "Epoch 69/100\n",
            "30/30 [==============================] - 4s 141ms/step - loss: 0.0016 - val_loss: 0.0010\n",
            "Epoch 70/100\n",
            "30/30 [==============================] - 4s 141ms/step - loss: 0.0016 - val_loss: 0.0010\n",
            "Epoch 71/100\n",
            "30/30 [==============================] - 4s 143ms/step - loss: 0.0018 - val_loss: 0.0049\n",
            "Epoch 72/100\n",
            "30/30 [==============================] - 4s 141ms/step - loss: 0.0017 - val_loss: 0.0010\n",
            "Epoch 73/100\n",
            "30/30 [==============================] - 4s 138ms/step - loss: 0.0016 - val_loss: 0.0026\n",
            "Epoch 74/100\n",
            "30/30 [==============================] - 4s 141ms/step - loss: 0.0016 - val_loss: 0.0012\n",
            "Epoch 75/100\n",
            "30/30 [==============================] - 4s 143ms/step - loss: 0.0018 - val_loss: 0.0017\n",
            "Epoch 76/100\n",
            "30/30 [==============================] - 4s 146ms/step - loss: 0.0017 - val_loss: 0.0034\n",
            "Epoch 77/100\n",
            "30/30 [==============================] - 4s 149ms/step - loss: 0.0015 - val_loss: 0.0011\n",
            "Epoch 78/100\n",
            "30/30 [==============================] - 4s 149ms/step - loss: 0.0015 - val_loss: 0.0011\n",
            "Epoch 79/100\n",
            "30/30 [==============================] - 4s 146ms/step - loss: 0.0012 - val_loss: 0.0026\n",
            "Epoch 80/100\n",
            "30/30 [==============================] - 4s 144ms/step - loss: 0.0016 - val_loss: 0.0026\n",
            "Epoch 81/100\n",
            "30/30 [==============================] - 4s 142ms/step - loss: 0.0014 - val_loss: 0.0011\n",
            "Epoch 82/100\n",
            "30/30 [==============================] - 4s 142ms/step - loss: 0.0013 - val_loss: 8.9003e-04\n",
            "Epoch 83/100\n",
            "30/30 [==============================] - 4s 140ms/step - loss: 0.0014 - val_loss: 8.9155e-04\n",
            "Epoch 84/100\n",
            "30/30 [==============================] - 4s 140ms/step - loss: 0.0014 - val_loss: 0.0016\n",
            "Epoch 85/100\n",
            "30/30 [==============================] - 4s 141ms/step - loss: 0.0014 - val_loss: 0.0016\n",
            "Epoch 86/100\n",
            "30/30 [==============================] - 4s 142ms/step - loss: 0.0016 - val_loss: 9.1013e-04\n",
            "Epoch 87/100\n",
            "30/30 [==============================] - 4s 141ms/step - loss: 0.0013 - val_loss: 8.9204e-04\n",
            "Epoch 88/100\n",
            "30/30 [==============================] - 4s 139ms/step - loss: 0.0014 - val_loss: 9.8261e-04\n",
            "Epoch 89/100\n",
            "30/30 [==============================] - 4s 139ms/step - loss: 0.0013 - val_loss: 9.0482e-04\n",
            "Epoch 90/100\n",
            "30/30 [==============================] - 4s 141ms/step - loss: 0.0014 - val_loss: 8.5123e-04\n",
            "Epoch 91/100\n",
            "30/30 [==============================] - 4s 139ms/step - loss: 0.0013 - val_loss: 8.3061e-04\n",
            "Epoch 92/100\n",
            "30/30 [==============================] - 4s 139ms/step - loss: 0.0014 - val_loss: 8.2025e-04\n",
            "Epoch 93/100\n",
            "30/30 [==============================] - 4s 140ms/step - loss: 0.0014 - val_loss: 0.0012\n",
            "Epoch 94/100\n",
            "30/30 [==============================] - 4s 141ms/step - loss: 0.0012 - val_loss: 0.0018\n",
            "Epoch 95/100\n",
            "30/30 [==============================] - 4s 142ms/step - loss: 0.0013 - val_loss: 0.0024\n",
            "Epoch 96/100\n",
            "30/30 [==============================] - 4s 139ms/step - loss: 0.0014 - val_loss: 0.0025\n",
            "Epoch 97/100\n",
            "30/30 [==============================] - 4s 141ms/step - loss: 0.0013 - val_loss: 0.0018\n",
            "Epoch 98/100\n",
            "30/30 [==============================] - 4s 142ms/step - loss: 0.0013 - val_loss: 0.0013\n",
            "Epoch 99/100\n",
            "30/30 [==============================] - 4s 141ms/step - loss: 0.0012 - val_loss: 0.0020\n",
            "Epoch 100/100\n",
            "30/30 [==============================] - 4s 140ms/step - loss: 0.0012 - val_loss: 0.0064\n"
          ]
        }
      ]
    },
    {
      "cell_type": "code",
      "source": [
        "plt.plot(history.history['loss'], label='train')\n",
        "plt.plot(history.history['val_loss'], label='test')\n",
        "plt.title('Loss Graph') \n",
        "plt.xlabel('Epochs')  \n",
        "plt.ylabel('Loss') \n",
        "plt.legend();"
      ],
      "metadata": {
        "colab": {
          "base_uri": "https://localhost:8080/",
          "height": 295
        },
        "id": "xuim1SmawQqj",
        "outputId": "5b1f5aa5-2cc9-4afa-dd70-ca764bd89ecc"
      },
      "execution_count": 14,
      "outputs": [
        {
          "output_type": "display_data",
          "data": {
            "text/plain": [
              "<Figure size 432x288 with 1 Axes>"
            ],
            "image/png": "[encoded data removed]"
          },
          "metadata": {
            "needs_background": "light"
          }
        }
      ]
    },
    {
      "cell_type": "code",
      "source": [
        "# Getting the real stock price of 2017  \n",
        "dataset_test = pd.read_csv('/content/drive/MyDrive/Datasets/Google_Stock_Price_Test.csv')  \n",
        "real_stock_price = dataset_test.iloc[:, 1:2].values  "
      ],
      "metadata": {
        "id": "9IUPZnm21c_T"
      },
      "execution_count": 15,
      "outputs": []
    },
    {
      "cell_type": "code",
      "source": [
        "print(dataset_test.shape,real_stock_price.shape)"
      ],
      "metadata": {
        "colab": {
          "base_uri": "https://localhost:8080/"
        },
        "id": "GeOK624iHQF5",
        "outputId": "67e39958-c0bb-420d-8d96-b6a3cfd46193"
      },
      "execution_count": 16,
      "outputs": [
        {
          "output_type": "stream",
          "name": "stdout",
          "text": [
            "(20, 6) (20, 1)\n"
          ]
        }
      ]
    },
    {
      "cell_type": "code",
      "source": [
        "# Getting the predicted stock price of 2017  \n",
        "dataset_total = pd.concat((dataset_train['Open'], dataset_test['Open']), axis = 0)  \n",
        "inputs = dataset_total[len(dataset_total) - len(dataset_test) - 60:].values  \n",
        "inputs = inputs.reshape(-1,1)  \n",
        "inputs = sc.transform(inputs)  "
      ],
      "metadata": {
        "id": "2_X0xpfe1dB2"
      },
      "execution_count": 17,
      "outputs": []
    },
    {
      "cell_type": "code",
      "source": [
        "X_test = []  \n",
        "for i in range(60, 80):  \n",
        "    X_test.append(inputs[i-60:i, 0])  \n",
        "X_test = np.array(X_test)  \n",
        "X_test = np.reshape(X_test, (X_test.shape[0], X_test.shape[1], 1))  \n",
        "predicted_stock_price = regressor.predict(X_test)  \n",
        "predicted_stock_price = sc.inverse_transform(predicted_stock_price)  "
      ],
      "metadata": {
        "id": "c0RB6gBX19Y1"
      },
      "execution_count": 18,
      "outputs": []
    },
    {
      "cell_type": "code",
      "source": [
        "# Visualizing the results  \n",
        "plt.plot(real_stock_price, color = 'red', label = 'Real Google Stock Price')  \n",
        "plt.plot(predicted_stock_price, color = 'blue', label = 'Predicted Google Stock Price')  \n",
        "plt.title('Google Stock Price Prediction')  \n",
        "plt.xlabel('Time')  \n",
        "plt.ylabel('Google Stock Price')  \n",
        "plt.legend()  \n",
        "plt.show()  "
      ],
      "metadata": {
        "colab": {
          "base_uri": "https://localhost:8080/",
          "height": 295
        },
        "id": "yIIoebsb19cJ",
        "outputId": "e3dd6059-32a8-4d37-d2bf-602e52f00bec"
      },
      "execution_count": 19,
      "outputs": [
        {
          "output_type": "display_data",
          "data": {
            "text/plain": [
              "<Figure size 432x288 with 1 Axes>"
            ],
            "image/png": "[encoded data removed]"
          },
          "metadata": {
            "needs_background": "light"
          }
        }
      ]
    }
  ]
}