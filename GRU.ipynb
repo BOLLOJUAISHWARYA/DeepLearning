{
  "nbformat": 4,
  "nbformat_minor": 0,
  "metadata": {
    "colab": {
      "name": "GRU.ipynb",
      "provenance": [],
      "collapsed_sections": [],
      "mount_file_id": "13kvYHARbP_1-LcDooxItN2DpMfahpGzx",
      "authorship_tag": "ABX9TyPNFGZWXHSBUAPObuzqtlFj",
      "include_colab_link": true
    },
    "kernelspec": {
      "name": "python3",
      "display_name": "Python 3"
    },
    "language_info": {
      "name": "python"
    }
  },
  "cells": [
    {
      "cell_type": "markdown",
      "metadata": {
        "id": "view-in-github",
        "colab_type": "text"
      },
      "source": [
        "<a href=\"https://colab.research.google.com/github/BOLLOJUAISHWARYA/DeepLearning/blob/main/GRU.ipynb\" target=\"_parent\"><img src=\"https://colab.research.google.com/assets/colab-badge.svg\" alt=\"Open In Colab\"/></a>"
      ]
    },
    {
      "cell_type": "code",
      "execution_count": null,
      "metadata": {
        "id": "xBQHmin81IKh"
      },
      "outputs": [],
      "source": [
        "# Importing the libraries  \n",
        "import numpy as np  \n",
        "import matplotlib.pyplot as plt  \n",
        "import pandas as pd  "
      ]
    },
    {
      "cell_type": "code",
      "source": [
        "# Importing the training set  \n",
        "dataset_train = pd.read_csv('/content/drive/MyDrive/Datasets/Google_Stock_Price_Train.csv')  \n",
        "training_set = dataset_train.iloc[:, 1:2].values  "
      ],
      "metadata": {
        "id": "lf5EDU_A1NAk"
      },
      "execution_count": null,
      "outputs": []
    },
    {
      "cell_type": "code",
      "source": [
        "print(dataset_train.shape,training_set.shape)"
      ],
      "metadata": {
        "colab": {
          "base_uri": "https://localhost:8080/"
        },
        "id": "itZBGQgPHVLD",
        "outputId": "b672907a-020b-497f-a3ff-ae2a4122a862"
      },
      "execution_count": null,
      "outputs": [
        {
          "output_type": "stream",
          "name": "stdout",
          "text": [
            "(1258, 6) (1258, 1)\n"
          ]
        }
      ]
    },
    {
      "cell_type": "code",
      "source": [
        "# Feature Scaling  \n",
        "from sklearn.preprocessing import MinMaxScaler  \n",
        "sc = MinMaxScaler(feature_range = (0, 1))  \n",
        "training_set_scaled = sc.fit_transform(training_set)  "
      ],
      "metadata": {
        "id": "QSxqgVwk1NDG"
      },
      "execution_count": null,
      "outputs": []
    },
    {
      "cell_type": "code",
      "source": [
        "# Creating a data structure with 60 timesteps and 1 output  \n",
        "X_train = []  \n",
        "y_train = []  \n",
        "for i in range(60, 1258):  \n",
        "    X_train.append(training_set_scaled[i-60:i, 0])  \n",
        "    y_train.append(training_set_scaled[i, 0])  \n",
        "X_train, y_train = np.array(X_train), np.array(y_train)  "
      ],
      "metadata": {
        "id": "LNhP_w3I1NFl"
      },
      "execution_count": null,
      "outputs": []
    },
    {
      "cell_type": "code",
      "source": [
        "# Reshaping  \n",
        "X_train = np.reshape(X_train, (X_train.shape[0], X_train.shape[1], 1))  "
      ],
      "metadata": {
        "id": "WLDyIfxo1NIX"
      },
      "execution_count": null,
      "outputs": []
    },
    {
      "cell_type": "code",
      "source": [
        "print(X_train.shape,y_train.shape)"
      ],
      "metadata": {
        "id": "0QEEtTWgHddD",
        "outputId": "0446a908-7515-4fb3-fc9b-e5209d612ba2",
        "colab": {
          "base_uri": "https://localhost:8080/"
        }
      },
      "execution_count": null,
      "outputs": [
        {
          "output_type": "stream",
          "name": "stdout",
          "text": [
            "(1198, 60, 1) (1198,)\n"
          ]
        }
      ]
    },
    {
      "cell_type": "code",
      "source": [
        "# Importing the Keras libraries and packages  \n",
        "from keras.models import Sequential  \n",
        "from keras.layers import Dense  \n",
        "from keras.layers import LSTM,GRU\n",
        "from keras.layers import Dropout  "
      ],
      "metadata": {
        "id": "p4z7gJt41NKw"
      },
      "execution_count": null,
      "outputs": []
    },
    {
      "cell_type": "code",
      "source": [
        "# Initialising the RNN  \n",
        "regressor = Sequential()  \n",
        "# Adding the first GRU layer and some Dropout regularization  \n",
        "regressor.add(GRU(units = 50, return_sequences = True, input_shape = (X_train.shape[1], 1)))  \n",
        "regressor.add(Dropout(0.2))  \n",
        "# Adding a second GRU layer and some Dropout regularization  \n",
        "regressor.add(GRU(units = 50, return_sequences = True))  \n",
        "regressor.add(Dropout(0.2))  \n",
        "# Adding a third GRU layer and some Dropout regularization  \n",
        "regressor.add(GRU(units = 50, return_sequences = True))  \n",
        "regressor.add(Dropout(0.2))  \n",
        "# Adding a fourth GRU layer and some Dropout regularization  \n",
        "regressor.add(GRU(units = 50))  \n",
        "regressor.add(Dropout(0.2))  \n",
        "# Adding the output layer  \n",
        "regressor.add(Dense(units = 1))  \n",
        "# Compiling the RNN  \n",
        "regressor.compile(optimizer = 'adam', loss = 'mean_squared_error')  \n",
        "# Fitting the RNN to the Training set  \n",
        "history = regressor.fit(X_train, y_train, epochs = 100,validation_split=0.2, batch_size = 32)  "
      ],
      "metadata": {
        "colab": {
          "base_uri": "https://localhost:8080/"
        },
        "id": "J6mRl_bY1c81",
        "outputId": "92fb7880-2362-48e3-a7d8-d193499e0dce"
      },
      "execution_count": null,
      "outputs": [
        {
          "output_type": "stream",
          "name": "stdout",
          "text": [
            "Epoch 1/100\n",
            "30/30 [==============================] - 14s 183ms/step - loss: 0.0285 - val_loss: 0.0224\n",
            "Epoch 2/100\n",
            "30/30 [==============================] - 4s 133ms/step - loss: 0.0046 - val_loss: 0.0013\n",
            "Epoch 3/100\n",
            "30/30 [==============================] - 4s 130ms/step - loss: 0.0036 - val_loss: 0.0015\n",
            "Epoch 4/100\n",
            "30/30 [==============================] - 4s 129ms/step - loss: 0.0035 - val_loss: 0.0015\n",
            "Epoch 5/100\n",
            "30/30 [==============================] - 4s 128ms/step - loss: 0.0035 - val_loss: 0.0013\n",
            "Epoch 6/100\n",
            "30/30 [==============================] - 4s 131ms/step - loss: 0.0028 - val_loss: 0.0019\n",
            "Epoch 7/100\n",
            "30/30 [==============================] - 4s 133ms/step - loss: 0.0026 - val_loss: 0.0020\n",
            "Epoch 8/100\n",
            "30/30 [==============================] - 4s 130ms/step - loss: 0.0027 - val_loss: 0.0014\n",
            "Epoch 9/100\n",
            "30/30 [==============================] - 4s 131ms/step - loss: 0.0027 - val_loss: 0.0023\n",
            "Epoch 10/100\n",
            "30/30 [==============================] - 4s 131ms/step - loss: 0.0023 - val_loss: 0.0010\n",
            "Epoch 11/100\n",
            "30/30 [==============================] - 4s 132ms/step - loss: 0.0025 - val_loss: 0.0027\n",
            "Epoch 12/100\n",
            "30/30 [==============================] - 4s 130ms/step - loss: 0.0024 - val_loss: 9.8889e-04\n",
            "Epoch 13/100\n",
            "30/30 [==============================] - 4s 130ms/step - loss: 0.0024 - val_loss: 0.0011\n",
            "Epoch 14/100\n",
            "30/30 [==============================] - 4s 130ms/step - loss: 0.0024 - val_loss: 0.0012\n",
            "Epoch 15/100\n",
            "30/30 [==============================] - 4s 128ms/step - loss: 0.0023 - val_loss: 0.0040\n",
            "Epoch 16/100\n",
            "30/30 [==============================] - 4s 130ms/step - loss: 0.0025 - val_loss: 0.0014\n",
            "Epoch 17/100\n",
            "30/30 [==============================] - 4s 130ms/step - loss: 0.0024 - val_loss: 0.0018\n",
            "Epoch 18/100\n",
            "30/30 [==============================] - 4s 130ms/step - loss: 0.0024 - val_loss: 0.0111\n",
            "Epoch 19/100\n",
            "30/30 [==============================] - 4s 132ms/step - loss: 0.0024 - val_loss: 0.0015\n",
            "Epoch 20/100\n",
            "30/30 [==============================] - 4s 134ms/step - loss: 0.0022 - val_loss: 0.0013\n",
            "Epoch 21/100\n",
            "30/30 [==============================] - 4s 131ms/step - loss: 0.0028 - val_loss: 0.0011\n",
            "Epoch 22/100\n",
            "30/30 [==============================] - 4s 131ms/step - loss: 0.0020 - val_loss: 0.0028\n",
            "Epoch 23/100\n",
            "30/30 [==============================] - 5s 153ms/step - loss: 0.0021 - val_loss: 0.0011\n",
            "Epoch 24/100\n",
            "30/30 [==============================] - 4s 128ms/step - loss: 0.0021 - val_loss: 0.0039\n",
            "Epoch 25/100\n",
            "30/30 [==============================] - 4s 128ms/step - loss: 0.0020 - val_loss: 8.1054e-04\n",
            "Epoch 26/100\n",
            "30/30 [==============================] - 4s 131ms/step - loss: 0.0019 - val_loss: 0.0013\n",
            "Epoch 27/100\n",
            "30/30 [==============================] - 5s 152ms/step - loss: 0.0020 - val_loss: 0.0023\n",
            "Epoch 28/100\n",
            "30/30 [==============================] - 4s 145ms/step - loss: 0.0019 - val_loss: 9.7606e-04\n",
            "Epoch 29/100\n",
            "30/30 [==============================] - 4s 134ms/step - loss: 0.0019 - val_loss: 0.0011\n",
            "Epoch 30/100\n",
            "30/30 [==============================] - 4s 128ms/step - loss: 0.0020 - val_loss: 0.0014\n",
            "Epoch 31/100\n",
            "30/30 [==============================] - 4s 131ms/step - loss: 0.0018 - val_loss: 7.6295e-04\n",
            "Epoch 32/100\n",
            "30/30 [==============================] - 4s 130ms/step - loss: 0.0018 - val_loss: 7.9133e-04\n",
            "Epoch 33/100\n",
            "30/30 [==============================] - 4s 130ms/step - loss: 0.0018 - val_loss: 0.0043\n",
            "Epoch 34/100\n",
            "30/30 [==============================] - 4s 129ms/step - loss: 0.0018 - val_loss: 0.0013\n",
            "Epoch 35/100\n",
            "30/30 [==============================] - 4s 129ms/step - loss: 0.0016 - val_loss: 7.2643e-04\n",
            "Epoch 36/100\n",
            "30/30 [==============================] - 4s 130ms/step - loss: 0.0017 - val_loss: 0.0010\n",
            "Epoch 37/100\n",
            "30/30 [==============================] - 4s 130ms/step - loss: 0.0018 - val_loss: 0.0011\n",
            "Epoch 38/100\n",
            "30/30 [==============================] - 4s 132ms/step - loss: 0.0018 - val_loss: 0.0052\n",
            "Epoch 39/100\n",
            "30/30 [==============================] - 4s 130ms/step - loss: 0.0019 - val_loss: 0.0021\n",
            "Epoch 40/100\n",
            "30/30 [==============================] - 4s 132ms/step - loss: 0.0017 - val_loss: 0.0028\n",
            "Epoch 41/100\n",
            "30/30 [==============================] - 4s 131ms/step - loss: 0.0016 - val_loss: 0.0010\n",
            "Epoch 42/100\n",
            "30/30 [==============================] - 4s 130ms/step - loss: 0.0016 - val_loss: 9.3536e-04\n",
            "Epoch 43/100\n",
            "30/30 [==============================] - 4s 133ms/step - loss: 0.0016 - val_loss: 0.0011\n",
            "Epoch 44/100\n",
            "30/30 [==============================] - 4s 131ms/step - loss: 0.0015 - val_loss: 7.4111e-04\n",
            "Epoch 45/100\n",
            "30/30 [==============================] - 4s 130ms/step - loss: 0.0017 - val_loss: 0.0028\n",
            "Epoch 46/100\n",
            "30/30 [==============================] - 4s 132ms/step - loss: 0.0015 - val_loss: 6.4369e-04\n",
            "Epoch 47/100\n",
            "30/30 [==============================] - 4s 133ms/step - loss: 0.0015 - val_loss: 0.0012\n",
            "Epoch 48/100\n",
            "30/30 [==============================] - 4s 133ms/step - loss: 0.0015 - val_loss: 9.0596e-04\n",
            "Epoch 49/100\n",
            "30/30 [==============================] - 4s 132ms/step - loss: 0.0013 - val_loss: 7.4544e-04\n",
            "Epoch 50/100\n",
            "30/30 [==============================] - 4s 131ms/step - loss: 0.0017 - val_loss: 6.0840e-04\n",
            "Epoch 51/100\n",
            "30/30 [==============================] - 4s 133ms/step - loss: 0.0014 - val_loss: 7.0074e-04\n",
            "Epoch 52/100\n",
            "30/30 [==============================] - 4s 131ms/step - loss: 0.0015 - val_loss: 0.0015\n",
            "Epoch 53/100\n",
            "30/30 [==============================] - 4s 132ms/step - loss: 0.0014 - val_loss: 5.5975e-04\n",
            "Epoch 54/100\n",
            "30/30 [==============================] - 4s 131ms/step - loss: 0.0014 - val_loss: 6.1033e-04\n",
            "Epoch 55/100\n",
            "30/30 [==============================] - 4s 130ms/step - loss: 0.0013 - val_loss: 9.2410e-04\n",
            "Epoch 56/100\n",
            "30/30 [==============================] - 4s 131ms/step - loss: 0.0013 - val_loss: 6.0992e-04\n",
            "Epoch 57/100\n",
            "30/30 [==============================] - 4s 130ms/step - loss: 0.0015 - val_loss: 5.5216e-04\n",
            "Epoch 58/100\n",
            "30/30 [==============================] - 4s 128ms/step - loss: 0.0015 - val_loss: 0.0041\n",
            "Epoch 59/100\n",
            "30/30 [==============================] - 4s 131ms/step - loss: 0.0014 - val_loss: 0.0013\n",
            "Epoch 60/100\n",
            "30/30 [==============================] - 4s 130ms/step - loss: 0.0015 - val_loss: 0.0040\n",
            "Epoch 61/100\n",
            "30/30 [==============================] - 4s 131ms/step - loss: 0.0016 - val_loss: 7.7681e-04\n",
            "Epoch 62/100\n",
            "30/30 [==============================] - 4s 133ms/step - loss: 0.0015 - val_loss: 0.0013\n",
            "Epoch 63/100\n",
            "30/30 [==============================] - 4s 130ms/step - loss: 0.0014 - val_loss: 4.9965e-04\n",
            "Epoch 64/100\n",
            "30/30 [==============================] - 4s 132ms/step - loss: 0.0013 - val_loss: 0.0014\n",
            "Epoch 65/100\n",
            "30/30 [==============================] - 4s 130ms/step - loss: 0.0013 - val_loss: 5.0458e-04\n",
            "Epoch 66/100\n",
            "30/30 [==============================] - 4s 134ms/step - loss: 0.0013 - val_loss: 0.0014\n",
            "Epoch 67/100\n",
            "30/30 [==============================] - 4s 133ms/step - loss: 0.0012 - val_loss: 0.0010\n",
            "Epoch 68/100\n",
            "30/30 [==============================] - 4s 133ms/step - loss: 0.0013 - val_loss: 6.7859e-04\n",
            "Epoch 69/100\n",
            "30/30 [==============================] - 4s 133ms/step - loss: 0.0011 - val_loss: 8.6639e-04\n",
            "Epoch 70/100\n",
            "30/30 [==============================] - 4s 132ms/step - loss: 0.0015 - val_loss: 0.0015\n",
            "Epoch 71/100\n",
            "30/30 [==============================] - 4s 131ms/step - loss: 0.0015 - val_loss: 5.5093e-04\n",
            "Epoch 72/100\n",
            "30/30 [==============================] - 4s 133ms/step - loss: 0.0013 - val_loss: 0.0021\n",
            "Epoch 73/100\n",
            "30/30 [==============================] - 4s 133ms/step - loss: 0.0011 - val_loss: 4.5605e-04\n",
            "Epoch 74/100\n",
            "30/30 [==============================] - 4s 131ms/step - loss: 0.0012 - val_loss: 6.8022e-04\n",
            "Epoch 75/100\n",
            "30/30 [==============================] - 4s 131ms/step - loss: 0.0013 - val_loss: 9.0177e-04\n",
            "Epoch 76/100\n",
            "30/30 [==============================] - 4s 131ms/step - loss: 0.0011 - val_loss: 5.8695e-04\n",
            "Epoch 77/100\n",
            "30/30 [==============================] - 4s 133ms/step - loss: 0.0011 - val_loss: 4.6914e-04\n",
            "Epoch 78/100\n",
            "30/30 [==============================] - 4s 132ms/step - loss: 0.0011 - val_loss: 4.9693e-04\n",
            "Epoch 79/100\n",
            "30/30 [==============================] - 4s 130ms/step - loss: 0.0011 - val_loss: 9.1231e-04\n",
            "Epoch 80/100\n",
            "30/30 [==============================] - 4s 131ms/step - loss: 0.0011 - val_loss: 0.0040\n",
            "Epoch 81/100\n",
            "30/30 [==============================] - 4s 130ms/step - loss: 0.0013 - val_loss: 0.0011\n",
            "Epoch 82/100\n",
            "30/30 [==============================] - 4s 131ms/step - loss: 0.0012 - val_loss: 4.2128e-04\n",
            "Epoch 83/100\n",
            "30/30 [==============================] - 4s 131ms/step - loss: 0.0012 - val_loss: 0.0022\n",
            "Epoch 84/100\n",
            "30/30 [==============================] - 4s 131ms/step - loss: 0.0012 - val_loss: 0.0026\n",
            "Epoch 85/100\n",
            "30/30 [==============================] - 4s 131ms/step - loss: 0.0011 - val_loss: 9.4283e-04\n",
            "Epoch 86/100\n",
            "30/30 [==============================] - 4s 131ms/step - loss: 0.0012 - val_loss: 4.2574e-04\n",
            "Epoch 87/100\n",
            "30/30 [==============================] - 4s 132ms/step - loss: 0.0011 - val_loss: 9.7982e-04\n",
            "Epoch 88/100\n",
            "30/30 [==============================] - 4s 132ms/step - loss: 0.0014 - val_loss: 0.0027\n",
            "Epoch 89/100\n",
            "30/30 [==============================] - 4s 132ms/step - loss: 0.0012 - val_loss: 9.5161e-04\n",
            "Epoch 90/100\n",
            "30/30 [==============================] - 4s 130ms/step - loss: 0.0012 - val_loss: 6.3166e-04\n",
            "Epoch 91/100\n",
            "30/30 [==============================] - 4s 132ms/step - loss: 0.0011 - val_loss: 4.0692e-04\n",
            "Epoch 92/100\n",
            "30/30 [==============================] - 4s 133ms/step - loss: 0.0011 - val_loss: 4.5033e-04\n",
            "Epoch 93/100\n",
            "30/30 [==============================] - 4s 133ms/step - loss: 0.0011 - val_loss: 0.0012\n",
            "Epoch 94/100\n",
            "30/30 [==============================] - 4s 131ms/step - loss: 9.8312e-04 - val_loss: 7.9476e-04\n",
            "Epoch 95/100\n",
            "30/30 [==============================] - 4s 134ms/step - loss: 9.7562e-04 - val_loss: 0.0017\n",
            "Epoch 96/100\n",
            "30/30 [==============================] - 4s 132ms/step - loss: 0.0010 - val_loss: 3.9268e-04\n",
            "Epoch 97/100\n",
            "30/30 [==============================] - 4s 130ms/step - loss: 0.0011 - val_loss: 4.1533e-04\n",
            "Epoch 98/100\n",
            "30/30 [==============================] - 4s 131ms/step - loss: 8.0337e-04 - val_loss: 4.7599e-04\n",
            "Epoch 99/100\n",
            "30/30 [==============================] - 4s 133ms/step - loss: 0.0011 - val_loss: 4.0718e-04\n",
            "Epoch 100/100\n",
            "30/30 [==============================] - 4s 131ms/step - loss: 0.0012 - val_loss: 9.4073e-04\n"
          ]
        }
      ]
    },
    {
      "cell_type": "code",
      "source": [
        "plt.plot(history.history['loss'], label='train')\n",
        "plt.plot(history.history['val_loss'], label='test')\n",
        "plt.legend();"
      ],
      "metadata": {
        "colab": {
          "base_uri": "https://localhost:8080/",
          "height": 265
        },
        "id": "pCs2BSzO5x5W",
        "outputId": "77f57b30-ecd9-4a33-dc92-01664d9c22be"
      },
      "execution_count": null,
      "outputs": [
        {
          "output_type": "display_data",
          "data": {
            "text/plain": [
              "<Figure size 432x288 with 1 Axes>"
            ],
            "image/png": "[encoded data removed]"
          },
          "metadata": {
            "needs_background": "light"
          }
        }
      ]
    },
    {
      "cell_type": "code",
      "source": [
        "# Getting the real stock price of 2017  \n",
        "dataset_test = pd.read_csv('/content/drive/MyDrive/Datasets/Google_Stock_Price_Test.csv')  \n",
        "real_stock_price = dataset_test.iloc[:, 1:2].values  "
      ],
      "metadata": {
        "id": "9IUPZnm21c_T"
      },
      "execution_count": null,
      "outputs": []
    },
    {
      "cell_type": "code",
      "source": [
        "print(dataset_test.shape,real_stock_price.shape)"
      ],
      "metadata": {
        "colab": {
          "base_uri": "https://localhost:8080/"
        },
        "id": "GeOK624iHQF5",
        "outputId": "b354dff5-7d58-40dd-d03f-becaad542dbf"
      },
      "execution_count": null,
      "outputs": [
        {
          "output_type": "stream",
          "name": "stdout",
          "text": [
            "(20, 6) (20, 1)\n"
          ]
        }
      ]
    },
    {
      "cell_type": "code",
      "source": [
        "# Getting the predicted stock price of 2017  \n",
        "dataset_total = pd.concat((dataset_train['Open'], dataset_test['Open']), axis = 0)  \n",
        "inputs = dataset_total[len(dataset_total) - len(dataset_test) - 60:].values  \n",
        "inputs = inputs.reshape(-1,1)  \n",
        "inputs = sc.transform(inputs)  "
      ],
      "metadata": {
        "id": "2_X0xpfe1dB2"
      },
      "execution_count": null,
      "outputs": []
    },
    {
      "cell_type": "code",
      "source": [
        "X_test = []  \n",
        "for i in range(60, 80):  \n",
        "    X_test.append(inputs[i-60:i, 0])  \n",
        "X_test = np.array(X_test)  \n",
        "X_test = np.reshape(X_test, (X_test.shape[0], X_test.shape[1], 1))  \n",
        "predicted_stock_price = regressor.predict(X_test)  \n",
        "predicted_stock_price = sc.inverse_transform(predicted_stock_price)  "
      ],
      "metadata": {
        "id": "c0RB6gBX19Y1"
      },
      "execution_count": null,
      "outputs": []
    },
    {
      "cell_type": "code",
      "source": [
        "# Visualizing the results  \n",
        "plt.plot(real_stock_price, color = 'red', label = 'Real Google Stock Price')  \n",
        "plt.plot(predicted_stock_price, color = 'blue', label = 'Predicted Google Stock Price')  \n",
        "plt.title('Google Stock Price Prediction')  \n",
        "plt.xlabel('Time')  \n",
        "plt.ylabel('Google Stock Price')  \n",
        "plt.legend()  \n",
        "plt.show()  "
      ],
      "metadata": {
        "colab": {
          "base_uri": "https://localhost:8080/",
          "height": 295
        },
        "id": "yIIoebsb19cJ",
        "outputId": "1fdac32b-6b73-4306-e4e5-1fd057f42c2f"
      },
      "execution_count": null,
      "outputs": [
        {
          "output_type": "display_data",
          "data": {
            "text/plain": [
              "<Figure size 432x288 with 1 Axes>"
            ],
            "image/png": "[encoded data removed]"
          },
          "metadata": {
            "needs_background": "light"
          }
        }
      ]
    }
  ]
}