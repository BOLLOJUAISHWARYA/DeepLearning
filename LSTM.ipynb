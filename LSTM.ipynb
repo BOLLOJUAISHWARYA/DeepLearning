{
  "nbformat": 4,
  "nbformat_minor": 0,
  "metadata": {
    "colab": {
      "name": "LSTM.ipynb",
      "provenance": [],
      "collapsed_sections": [],
      "mount_file_id": "1mUlruvBH6vsX0GVdrPzOPNDG_oaFACu4",
      "authorship_tag": "ABX9TyNOy4gjq9lc+TtLNfZKeZcf",
      "include_colab_link": true
    },
    "kernelspec": {
      "name": "python3",
      "display_name": "Python 3"
    },
    "language_info": {
      "name": "python"
    }
  },
  "cells": [
    {
      "cell_type": "markdown",
      "metadata": {
        "id": "view-in-github",
        "colab_type": "text"
      },
      "source": [
        "<a href=\"https://colab.research.google.com/github/BOLLOJUAISHWARYA/DeepLearning/blob/main/LSTM.ipynb\" target=\"_parent\"><img src=\"https://colab.research.google.com/assets/colab-badge.svg\" alt=\"Open In Colab\"/></a>"
      ]
    },
    {
      "cell_type": "code",
      "execution_count": null,
      "metadata": {
        "id": "xBQHmin81IKh"
      },
      "outputs": [],
      "source": [
        "# Importing the libraries  \n",
        "import numpy as np  \n",
        "import matplotlib.pyplot as plt  \n",
        "import pandas as pd  "
      ]
    },
    {
      "cell_type": "code",
      "source": [
        "# Importing the training set  \n",
        "dataset_train = pd.read_csv('/content/drive/MyDrive/Datasets/Google_Stock_Price_Train.csv')  \n",
        "training_set = dataset_train.iloc[:, 1:2].values  "
      ],
      "metadata": {
        "id": "lf5EDU_A1NAk"
      },
      "execution_count": null,
      "outputs": []
    },
    {
      "cell_type": "code",
      "source": [
        "print(dataset_train,training_set)#In training set we taking only opening value of the stock"
      ],
      "metadata": {
        "colab": {
          "base_uri": "https://localhost:8080/"
        },
        "id": "k8U-mR5yE00B",
        "outputId": "9486027f-a91d-4664-a9e7-6addcf9b7d28"
      },
      "execution_count": null,
      "outputs": [
        {
          "output_type": "stream",
          "name": "stdout",
          "text": [
            "            Date    Open    High     Low   Close      Volume\n",
            "0       1/3/2012  325.25  332.83  324.97  663.59   7,380,500\n",
            "1       1/4/2012  331.27  333.87  329.08  666.45   5,749,400\n",
            "2       1/5/2012  329.83  330.75  326.89  657.21   6,590,300\n",
            "3       1/6/2012  328.34  328.77  323.68  648.24   5,405,900\n",
            "4       1/9/2012  322.04  322.29  309.46  620.76  11,688,800\n",
            "...          ...     ...     ...     ...     ...         ...\n",
            "1253  12/23/2016  790.90  792.74  787.28  789.91     623,400\n",
            "1254  12/27/2016  790.68  797.86  787.66  791.55     789,100\n",
            "1255  12/28/2016  793.70  794.23  783.20  785.05   1,153,800\n",
            "1256  12/29/2016  783.33  785.93  778.92  782.79     744,300\n",
            "1257  12/30/2016  782.75  782.78  770.41  771.82   1,770,000\n",
            "\n",
            "[1258 rows x 6 columns] [[325.25]\n",
            " [331.27]\n",
            " [329.83]\n",
            " ...\n",
            " [793.7 ]\n",
            " [783.33]\n",
            " [782.75]]\n"
          ]
        }
      ]
    },
    {
      "cell_type": "code",
      "source": [
        "print(dataset_train.shape,training_set.shape)"
      ],
      "metadata": {
        "colab": {
          "base_uri": "https://localhost:8080/"
        },
        "id": "xsqc-TGmFTOo",
        "outputId": "915c915d-ebf4-491d-f534-5bb082b769d6"
      },
      "execution_count": null,
      "outputs": [
        {
          "output_type": "stream",
          "name": "stdout",
          "text": [
            "(1258, 6) (1258, 1)\n"
          ]
        }
      ]
    },
    {
      "cell_type": "code",
      "source": [
        "# Feature Scaling  \n",
        "from sklearn.preprocessing import MinMaxScaler  \n",
        "sc = MinMaxScaler(feature_range = (0, 1))  \n",
        "training_set_scaled = sc.fit_transform(training_set)  "
      ],
      "metadata": {
        "id": "QSxqgVwk1NDG"
      },
      "execution_count": null,
      "outputs": []
    },
    {
      "cell_type": "code",
      "source": [
        "print(training_set_scaled)"
      ],
      "metadata": {
        "colab": {
          "base_uri": "https://localhost:8080/"
        },
        "id": "bkgxx0DJFKdM",
        "outputId": "ccfc566f-d4ff-412d-f305-322bbf08b9e1"
      },
      "execution_count": null,
      "outputs": [
        {
          "output_type": "stream",
          "name": "stdout",
          "text": [
            "[[0.08581368]\n",
            " [0.09701243]\n",
            " [0.09433366]\n",
            " ...\n",
            " [0.95725128]\n",
            " [0.93796041]\n",
            " [0.93688146]]\n"
          ]
        }
      ]
    },
    {
      "cell_type": "code",
      "source": [
        "X_train = []  \n",
        "y_train = []  \n",
        "for i in range(10, 1258):  \n",
        "    X_train.append(training_set_scaled[i-10:i, 0])  \n",
        "    y_train.append(training_set_scaled[i, 0])  \n",
        "X_train, y_train = np.array(X_train), np.array(y_train)  "
      ],
      "metadata": {
        "id": "1BugVHoARrzu"
      },
      "execution_count": null,
      "outputs": []
    },
    {
      "cell_type": "code",
      "source": [
        "print(X_train.shape,y_train.shape)"
      ],
      "metadata": {
        "colab": {
          "base_uri": "https://localhost:8080/"
        },
        "id": "YskQ7acrFgfP",
        "outputId": "4bad6daa-e901-47ae-b13c-166bedc47e10"
      },
      "execution_count": null,
      "outputs": [
        {
          "output_type": "stream",
          "name": "stdout",
          "text": [
            "(1248, 10) (1248,)\n"
          ]
        }
      ]
    },
    {
      "cell_type": "code",
      "source": [
        "print(X_train[:1])"
      ],
      "metadata": {
        "colab": {
          "base_uri": "https://localhost:8080/"
        },
        "id": "98nDMXxJFzj9",
        "outputId": "5e6acad0-cbf9-4132-cc07-22eba633df2e"
      },
      "execution_count": null,
      "outputs": [
        {
          "output_type": "stream",
          "name": "stdout",
          "text": [
            "[[0.08581368 0.09701243 0.09433366 0.09156187 0.07984225 0.0643277\n",
            "  0.0585423  0.06568569 0.06109085 0.06639259]]\n"
          ]
        }
      ]
    },
    {
      "cell_type": "code",
      "source": [
        "print(y_train)"
      ],
      "metadata": {
        "colab": {
          "base_uri": "https://localhost:8080/"
        },
        "id": "WZx1sHm7R4Ow",
        "outputId": "d9f2e0d0-ab30-4bac-a698-df8223a9e0f0"
      },
      "execution_count": null,
      "outputs": [
        {
          "output_type": "stream",
          "name": "stdout",
          "text": [
            "[0.0614257  0.07474514 0.02797827 ... 0.95725128 0.93796041 0.93688146]\n"
          ]
        }
      ]
    },
    {
      "cell_type": "code",
      "source": [
        "# Reshaping  \n",
        "X_train = np.reshape(X_train, (X_train.shape[0], X_train.shape[1], 1))  "
      ],
      "metadata": {
        "id": "WLDyIfxo1NIX"
      },
      "execution_count": null,
      "outputs": []
    },
    {
      "cell_type": "code",
      "source": [
        "print(X_train.shape)\n",
        "print(y_train.shape)"
      ],
      "metadata": {
        "colab": {
          "base_uri": "https://localhost:8080/"
        },
        "id": "ckmd5iM_Fror",
        "outputId": "29ad529c-39dd-4a06-b0ac-f7a9c1fc99ef"
      },
      "execution_count": null,
      "outputs": [
        {
          "output_type": "stream",
          "name": "stdout",
          "text": [
            "(1248, 10, 1)\n",
            "(1248,)\n"
          ]
        }
      ]
    },
    {
      "cell_type": "code",
      "source": [
        "# Importing the Keras libraries and packages  \n",
        "from keras.models import Sequential  \n",
        "from keras.layers import Dense  \n",
        "from keras.layers import LSTM  \n",
        "from keras.layers import Dropout  "
      ],
      "metadata": {
        "id": "p4z7gJt41NKw"
      },
      "execution_count": null,
      "outputs": []
    },
    {
      "cell_type": "code",
      "source": [
        "# Initialising the RNN  \n",
        "regressor = Sequential()  \n",
        "# Adding the first LSTM layer and some Dropout regularization  \n",
        "regressor.add(LSTM(units = 50, return_sequences = True, input_shape = (X_train.shape[1], 1)))  \n",
        "regressor.add(Dropout(0.2))  \n",
        "# Adding a second LSTM layer and some Dropout regularization  \n",
        "regressor.add(LSTM(units = 50, return_sequences = True))  \n",
        "regressor.add(Dropout(0.2))  \n",
        "# Adding a third LSTM layer and some Dropout regularization  \n",
        "regressor.add(LSTM(units = 50, return_sequences = True))  \n",
        "regressor.add(Dropout(0.2))  \n",
        "# Adding a fourth LSTM layer and some Dropout regularization  \n",
        "regressor.add(LSTM(units = 50))  \n",
        "regressor.add(Dropout(0.2))  \n",
        "# Adding the output layer  \n",
        "regressor.add(Dense(units = 1))  \n",
        "# Compiling the RNN  \n",
        "regressor.compile(optimizer = 'adam', loss = 'mean_squared_error')  \n",
        "# Fitting the RNN to the Training set  \n",
        "history = regressor.fit(X_train, y_train, epochs = 100,validation_split=0.2, batch_size = 32)  "
      ],
      "metadata": {
        "colab": {
          "base_uri": "https://localhost:8080/"
        },
        "id": "J6mRl_bY1c81",
        "outputId": "152dea42-d960-4e15-f248-1b986f359b26"
      },
      "execution_count": null,
      "outputs": [
        {
          "output_type": "stream",
          "name": "stdout",
          "text": [
            "Epoch 1/100\n",
            "32/32 [==============================] - 11s 77ms/step - loss: 0.0483 - val_loss: 0.0019\n",
            "Epoch 2/100\n",
            "32/32 [==============================] - 1s 27ms/step - loss: 0.0060 - val_loss: 0.0017\n",
            "Epoch 3/100\n",
            "32/32 [==============================] - 1s 32ms/step - loss: 0.0042 - val_loss: 0.0017\n",
            "Epoch 4/100\n",
            "32/32 [==============================] - 1s 30ms/step - loss: 0.0034 - val_loss: 0.0046\n",
            "Epoch 5/100\n",
            "32/32 [==============================] - 1s 27ms/step - loss: 0.0032 - val_loss: 0.0021\n",
            "Epoch 6/100\n",
            "32/32 [==============================] - 1s 28ms/step - loss: 0.0034 - val_loss: 0.0061\n",
            "Epoch 7/100\n",
            "32/32 [==============================] - 1s 28ms/step - loss: 0.0040 - val_loss: 0.0021\n",
            "Epoch 8/100\n",
            "32/32 [==============================] - 1s 27ms/step - loss: 0.0034 - val_loss: 0.0032\n",
            "Epoch 9/100\n",
            "32/32 [==============================] - 1s 27ms/step - loss: 0.0029 - val_loss: 0.0026\n",
            "Epoch 10/100\n",
            "32/32 [==============================] - 1s 27ms/step - loss: 0.0029 - val_loss: 0.0017\n",
            "Epoch 11/100\n",
            "32/32 [==============================] - 1s 28ms/step - loss: 0.0026 - val_loss: 0.0053\n",
            "Epoch 12/100\n",
            "32/32 [==============================] - 1s 27ms/step - loss: 0.0033 - val_loss: 0.0065\n",
            "Epoch 13/100\n",
            "32/32 [==============================] - 1s 27ms/step - loss: 0.0029 - val_loss: 0.0018\n",
            "Epoch 14/100\n",
            "32/32 [==============================] - 1s 27ms/step - loss: 0.0024 - val_loss: 0.0022\n",
            "Epoch 15/100\n",
            "32/32 [==============================] - 1s 27ms/step - loss: 0.0027 - val_loss: 0.0030\n",
            "Epoch 16/100\n",
            "32/32 [==============================] - 1s 26ms/step - loss: 0.0029 - val_loss: 0.0021\n",
            "Epoch 17/100\n",
            "32/32 [==============================] - 1s 27ms/step - loss: 0.0027 - val_loss: 0.0016\n",
            "Epoch 18/100\n",
            "32/32 [==============================] - 1s 26ms/step - loss: 0.0023 - val_loss: 0.0042\n",
            "Epoch 19/100\n",
            "32/32 [==============================] - 1s 26ms/step - loss: 0.0025 - val_loss: 0.0016\n",
            "Epoch 20/100\n",
            "32/32 [==============================] - 1s 27ms/step - loss: 0.0024 - val_loss: 0.0034\n",
            "Epoch 21/100\n",
            "32/32 [==============================] - 1s 27ms/step - loss: 0.0024 - val_loss: 0.0022\n",
            "Epoch 22/100\n",
            "32/32 [==============================] - 1s 27ms/step - loss: 0.0024 - val_loss: 0.0018\n",
            "Epoch 23/100\n",
            "32/32 [==============================] - 1s 27ms/step - loss: 0.0023 - val_loss: 0.0020\n",
            "Epoch 24/100\n",
            "32/32 [==============================] - 1s 27ms/step - loss: 0.0026 - val_loss: 0.0060\n",
            "Epoch 25/100\n",
            "32/32 [==============================] - 1s 27ms/step - loss: 0.0022 - val_loss: 0.0017\n",
            "Epoch 26/100\n",
            "32/32 [==============================] - 1s 28ms/step - loss: 0.0024 - val_loss: 0.0016\n",
            "Epoch 27/100\n",
            "32/32 [==============================] - 1s 43ms/step - loss: 0.0023 - val_loss: 0.0020\n",
            "Epoch 28/100\n",
            "32/32 [==============================] - 1s 35ms/step - loss: 0.0022 - val_loss: 0.0016\n",
            "Epoch 29/100\n",
            "32/32 [==============================] - 1s 28ms/step - loss: 0.0022 - val_loss: 0.0015\n",
            "Epoch 30/100\n",
            "32/32 [==============================] - 1s 26ms/step - loss: 0.0021 - val_loss: 0.0025\n",
            "Epoch 31/100\n",
            "32/32 [==============================] - 1s 27ms/step - loss: 0.0019 - val_loss: 0.0021\n",
            "Epoch 32/100\n",
            "32/32 [==============================] - 1s 27ms/step - loss: 0.0019 - val_loss: 0.0016\n",
            "Epoch 33/100\n",
            "32/32 [==============================] - 1s 27ms/step - loss: 0.0020 - val_loss: 0.0019\n",
            "Epoch 34/100\n",
            "32/32 [==============================] - 1s 27ms/step - loss: 0.0021 - val_loss: 0.0023\n",
            "Epoch 35/100\n",
            "32/32 [==============================] - 1s 33ms/step - loss: 0.0023 - val_loss: 0.0022\n",
            "Epoch 36/100\n",
            "32/32 [==============================] - 1s 35ms/step - loss: 0.0019 - val_loss: 0.0016\n",
            "Epoch 37/100\n",
            "32/32 [==============================] - 1s 35ms/step - loss: 0.0020 - val_loss: 0.0022\n",
            "Epoch 38/100\n",
            "32/32 [==============================] - 1s 28ms/step - loss: 0.0019 - val_loss: 0.0021\n",
            "Epoch 39/100\n",
            "32/32 [==============================] - 1s 28ms/step - loss: 0.0023 - val_loss: 0.0015\n",
            "Epoch 40/100\n",
            "32/32 [==============================] - 1s 27ms/step - loss: 0.0022 - val_loss: 0.0017\n",
            "Epoch 41/100\n",
            "32/32 [==============================] - 1s 26ms/step - loss: 0.0019 - val_loss: 0.0024\n",
            "Epoch 42/100\n",
            "32/32 [==============================] - 1s 28ms/step - loss: 0.0020 - val_loss: 0.0015\n",
            "Epoch 43/100\n",
            "32/32 [==============================] - 1s 31ms/step - loss: 0.0017 - val_loss: 0.0015\n",
            "Epoch 44/100\n",
            "32/32 [==============================] - 1s 26ms/step - loss: 0.0021 - val_loss: 0.0013\n",
            "Epoch 45/100\n",
            "32/32 [==============================] - 1s 26ms/step - loss: 0.0021 - val_loss: 0.0014\n",
            "Epoch 46/100\n",
            "32/32 [==============================] - 1s 27ms/step - loss: 0.0018 - val_loss: 0.0014\n",
            "Epoch 47/100\n",
            "32/32 [==============================] - 1s 27ms/step - loss: 0.0019 - val_loss: 0.0031\n",
            "Epoch 48/100\n",
            "32/32 [==============================] - 1s 27ms/step - loss: 0.0019 - val_loss: 0.0014\n",
            "Epoch 49/100\n",
            "32/32 [==============================] - 1s 26ms/step - loss: 0.0017 - val_loss: 0.0013\n",
            "Epoch 50/100\n",
            "32/32 [==============================] - 1s 27ms/step - loss: 0.0021 - val_loss: 0.0014\n",
            "Epoch 51/100\n",
            "32/32 [==============================] - 1s 27ms/step - loss: 0.0022 - val_loss: 0.0013\n",
            "Epoch 52/100\n",
            "32/32 [==============================] - 1s 27ms/step - loss: 0.0019 - val_loss: 0.0014\n",
            "Epoch 53/100\n",
            "32/32 [==============================] - 1s 26ms/step - loss: 0.0019 - val_loss: 0.0037\n",
            "Epoch 54/100\n",
            "32/32 [==============================] - 1s 27ms/step - loss: 0.0020 - val_loss: 0.0013\n",
            "Epoch 55/100\n",
            "32/32 [==============================] - 1s 29ms/step - loss: 0.0016 - val_loss: 0.0013\n",
            "Epoch 56/100\n",
            "32/32 [==============================] - 1s 29ms/step - loss: 0.0018 - val_loss: 0.0017\n",
            "Epoch 57/100\n",
            "32/32 [==============================] - 1s 28ms/step - loss: 0.0018 - val_loss: 0.0021\n",
            "Epoch 58/100\n",
            "32/32 [==============================] - 1s 27ms/step - loss: 0.0018 - val_loss: 0.0018\n",
            "Epoch 59/100\n",
            "32/32 [==============================] - 1s 27ms/step - loss: 0.0018 - val_loss: 0.0012\n",
            "Epoch 60/100\n",
            "32/32 [==============================] - 1s 27ms/step - loss: 0.0016 - val_loss: 0.0016\n",
            "Epoch 61/100\n",
            "32/32 [==============================] - 1s 26ms/step - loss: 0.0017 - val_loss: 0.0014\n",
            "Epoch 62/100\n",
            "32/32 [==============================] - 1s 27ms/step - loss: 0.0021 - val_loss: 0.0047\n",
            "Epoch 63/100\n",
            "32/32 [==============================] - 1s 27ms/step - loss: 0.0021 - val_loss: 0.0016\n",
            "Epoch 64/100\n",
            "32/32 [==============================] - 1s 28ms/step - loss: 0.0017 - val_loss: 0.0012\n",
            "Epoch 65/100\n",
            "32/32 [==============================] - 1s 27ms/step - loss: 0.0016 - val_loss: 0.0018\n",
            "Epoch 66/100\n",
            "32/32 [==============================] - 1s 26ms/step - loss: 0.0015 - val_loss: 0.0011\n",
            "Epoch 67/100\n",
            "32/32 [==============================] - 1s 32ms/step - loss: 0.0015 - val_loss: 0.0018\n",
            "Epoch 68/100\n",
            "32/32 [==============================] - 1s 32ms/step - loss: 0.0015 - val_loss: 0.0017\n",
            "Epoch 69/100\n",
            "32/32 [==============================] - 1s 27ms/step - loss: 0.0014 - val_loss: 0.0012\n",
            "Epoch 70/100\n",
            "32/32 [==============================] - 1s 28ms/step - loss: 0.0017 - val_loss: 0.0026\n",
            "Epoch 71/100\n",
            "32/32 [==============================] - 1s 27ms/step - loss: 0.0016 - val_loss: 0.0020\n",
            "Epoch 72/100\n",
            "32/32 [==============================] - 1s 27ms/step - loss: 0.0016 - val_loss: 0.0012\n",
            "Epoch 73/100\n",
            "32/32 [==============================] - 1s 27ms/step - loss: 0.0015 - val_loss: 0.0056\n",
            "Epoch 74/100\n",
            "32/32 [==============================] - 1s 28ms/step - loss: 0.0015 - val_loss: 0.0010\n",
            "Epoch 75/100\n",
            "32/32 [==============================] - 1s 27ms/step - loss: 0.0017 - val_loss: 0.0051\n",
            "Epoch 76/100\n",
            "32/32 [==============================] - 1s 32ms/step - loss: 0.0016 - val_loss: 0.0024\n",
            "Epoch 77/100\n",
            "32/32 [==============================] - 1s 28ms/step - loss: 0.0015 - val_loss: 0.0017\n",
            "Epoch 78/100\n",
            "32/32 [==============================] - 1s 27ms/step - loss: 0.0014 - val_loss: 9.8267e-04\n",
            "Epoch 79/100\n",
            "32/32 [==============================] - 1s 26ms/step - loss: 0.0015 - val_loss: 9.8139e-04\n",
            "Epoch 80/100\n",
            "32/32 [==============================] - 1s 28ms/step - loss: 0.0015 - val_loss: 0.0011\n",
            "Epoch 81/100\n",
            "32/32 [==============================] - 1s 27ms/step - loss: 0.0016 - val_loss: 0.0010\n",
            "Epoch 82/100\n",
            "32/32 [==============================] - 1s 27ms/step - loss: 0.0014 - val_loss: 0.0012\n",
            "Epoch 83/100\n",
            "32/32 [==============================] - 1s 28ms/step - loss: 0.0014 - val_loss: 9.0596e-04\n",
            "Epoch 84/100\n",
            "32/32 [==============================] - 1s 32ms/step - loss: 0.0014 - val_loss: 0.0016\n",
            "Epoch 85/100\n",
            "32/32 [==============================] - 1s 28ms/step - loss: 0.0014 - val_loss: 9.0197e-04\n",
            "Epoch 86/100\n",
            "32/32 [==============================] - 1s 27ms/step - loss: 0.0014 - val_loss: 0.0017\n",
            "Epoch 87/100\n",
            "32/32 [==============================] - 1s 27ms/step - loss: 0.0015 - val_loss: 0.0020\n",
            "Epoch 88/100\n",
            "32/32 [==============================] - 1s 27ms/step - loss: 0.0011 - val_loss: 0.0013\n",
            "Epoch 89/100\n",
            "32/32 [==============================] - 1s 26ms/step - loss: 0.0015 - val_loss: 8.8963e-04\n",
            "Epoch 90/100\n",
            "32/32 [==============================] - 1s 27ms/step - loss: 0.0013 - val_loss: 0.0024\n",
            "Epoch 91/100\n",
            "32/32 [==============================] - 1s 27ms/step - loss: 0.0013 - val_loss: 0.0025\n",
            "Epoch 92/100\n",
            "32/32 [==============================] - 1s 28ms/step - loss: 0.0015 - val_loss: 0.0017\n",
            "Epoch 93/100\n",
            "32/32 [==============================] - 1s 28ms/step - loss: 0.0013 - val_loss: 9.1325e-04\n",
            "Epoch 94/100\n",
            "32/32 [==============================] - 1s 27ms/step - loss: 0.0013 - val_loss: 8.5589e-04\n",
            "Epoch 95/100\n",
            "32/32 [==============================] - 1s 28ms/step - loss: 0.0011 - val_loss: 8.3692e-04\n",
            "Epoch 96/100\n",
            "32/32 [==============================] - 1s 28ms/step - loss: 0.0012 - val_loss: 0.0030\n",
            "Epoch 97/100\n",
            "32/32 [==============================] - 1s 28ms/step - loss: 0.0014 - val_loss: 9.1465e-04\n",
            "Epoch 98/100\n",
            "32/32 [==============================] - 1s 28ms/step - loss: 0.0011 - val_loss: 9.0756e-04\n",
            "Epoch 99/100\n",
            "32/32 [==============================] - 1s 27ms/step - loss: 0.0011 - val_loss: 0.0036\n",
            "Epoch 100/100\n",
            "32/32 [==============================] - 1s 27ms/step - loss: 0.0012 - val_loss: 0.0018\n"
          ]
        }
      ]
    },
    {
      "cell_type": "code",
      "source": [
        "plt.plot(history.history['loss'], label='train')\n",
        "plt.plot(history.history['val_loss'], label='test')\n",
        "plt.title('Loss Graph') \n",
        "plt.xlabel('Epochs')  \n",
        "plt.ylabel('Loss') \n",
        "plt.legend();"
      ],
      "metadata": {
        "colab": {
          "base_uri": "https://localhost:8080/",
          "height": 295
        },
        "id": "pCs2BSzO5x5W",
        "outputId": "d1808767-2f2b-444b-c015-566b46d108bb"
      },
      "execution_count": null,
      "outputs": [
        {
          "output_type": "display_data",
          "data": {
            "text/plain": [
              "<Figure size 432x288 with 1 Axes>"
            ],
            "image/png": "[encoded data removed]"
          },
          "metadata": {
            "needs_background": "light"
          }
        }
      ]
    },
    {
      "cell_type": "code",
      "source": [
        "# Creating a data structure with 30 timesteps and 1 output  \n",
        "X_train = []  \n",
        "y_train = []  \n",
        "for i in range(30, 1258):  \n",
        "    X_train.append(training_set_scaled[i-30:i, 0])  \n",
        "    y_train.append(training_set_scaled[i, 0])  \n",
        "X_train, y_train = np.array(X_train), np.array(y_train)  \n",
        "X_train = np.reshape(X_train, (X_train.shape[0], X_train.shape[1], 1))  \n",
        "# Initialising the RNN  \n",
        "regressor = Sequential()  \n",
        "# Adding the first LSTM layer and some Dropout regularization  \n",
        "regressor.add(LSTM(units = 50, return_sequences = True, input_shape = (X_train.shape[1], 1)))  \n",
        "regressor.add(Dropout(0.2))  \n",
        "# Adding a second LSTM layer and some Dropout regularization  \n",
        "regressor.add(LSTM(units = 50, return_sequences = True))  \n",
        "regressor.add(Dropout(0.2))  \n",
        "# Adding a third LSTM layer and some Dropout regularization  \n",
        "regressor.add(LSTM(units = 50, return_sequences = True))  \n",
        "regressor.add(Dropout(0.2))  \n",
        "# Adding a fourth LSTM layer and some Dropout regularization  \n",
        "regressor.add(LSTM(units = 50))  \n",
        "regressor.add(Dropout(0.2))  \n",
        "# Adding the output layer  \n",
        "regressor.add(Dense(units = 1))  \n",
        "# Compiling the RNN  \n",
        "regressor.compile(optimizer = 'adam', loss = 'mean_squared_error')  \n",
        "# Fitting the RNN to the Training set  \n",
        "history = regressor.fit(X_train, y_train, epochs = 100,validation_split=0.2, batch_size = 32)  \n"
      ],
      "metadata": {
        "colab": {
          "base_uri": "https://localhost:8080/"
        },
        "id": "GMfGs-r_Sww_",
        "outputId": "ee8db837-2e52-4c6b-93fb-c31d10f74cf8"
      },
      "execution_count": null,
      "outputs": [
        {
          "output_type": "stream",
          "name": "stdout",
          "text": [
            "Epoch 1/100\n",
            "31/31 [==============================] - 11s 121ms/step - loss: 0.0360 - val_loss: 0.0308\n",
            "Epoch 2/100\n",
            "31/31 [==============================] - 2s 68ms/step - loss: 0.0052 - val_loss: 0.0032\n",
            "Epoch 3/100\n",
            "31/31 [==============================] - 2s 68ms/step - loss: 0.0046 - val_loss: 0.0040\n",
            "Epoch 4/100\n",
            "31/31 [==============================] - 2s 67ms/step - loss: 0.0040 - val_loss: 0.0029\n",
            "Epoch 5/100\n",
            "31/31 [==============================] - 2s 67ms/step - loss: 0.0039 - val_loss: 0.0051\n",
            "Epoch 6/100\n",
            "31/31 [==============================] - 2s 68ms/step - loss: 0.0038 - val_loss: 0.0021\n",
            "Epoch 7/100\n",
            "31/31 [==============================] - 2s 71ms/step - loss: 0.0034 - val_loss: 0.0021\n",
            "Epoch 8/100\n",
            "31/31 [==============================] - 2s 69ms/step - loss: 0.0032 - val_loss: 0.0020\n",
            "Epoch 9/100\n",
            "31/31 [==============================] - 2s 67ms/step - loss: 0.0035 - val_loss: 0.0051\n",
            "Epoch 10/100\n",
            "31/31 [==============================] - 2s 67ms/step - loss: 0.0032 - val_loss: 0.0020\n",
            "Epoch 11/100\n",
            "31/31 [==============================] - 2s 68ms/step - loss: 0.0033 - val_loss: 0.0037\n",
            "Epoch 12/100\n",
            "31/31 [==============================] - 2s 72ms/step - loss: 0.0037 - val_loss: 0.0037\n",
            "Epoch 13/100\n",
            "31/31 [==============================] - 2s 74ms/step - loss: 0.0031 - val_loss: 0.0023\n",
            "Epoch 14/100\n",
            "31/31 [==============================] - 2s 69ms/step - loss: 0.0033 - val_loss: 0.0022\n",
            "Epoch 15/100\n",
            "31/31 [==============================] - 2s 68ms/step - loss: 0.0028 - val_loss: 0.0018\n",
            "Epoch 16/100\n",
            "31/31 [==============================] - 2s 69ms/step - loss: 0.0030 - val_loss: 0.0040\n",
            "Epoch 17/100\n",
            "31/31 [==============================] - 2s 69ms/step - loss: 0.0026 - val_loss: 0.0024\n",
            "Epoch 18/100\n",
            "31/31 [==============================] - 2s 67ms/step - loss: 0.0027 - val_loss: 0.0033\n",
            "Epoch 19/100\n",
            "31/31 [==============================] - 2s 68ms/step - loss: 0.0026 - val_loss: 0.0019\n",
            "Epoch 20/100\n",
            "31/31 [==============================] - 2s 73ms/step - loss: 0.0025 - val_loss: 0.0024\n",
            "Epoch 21/100\n",
            "31/31 [==============================] - 2s 67ms/step - loss: 0.0028 - val_loss: 0.0026\n",
            "Epoch 22/100\n",
            "31/31 [==============================] - 2s 67ms/step - loss: 0.0025 - val_loss: 0.0025\n",
            "Epoch 23/100\n",
            "31/31 [==============================] - 2s 66ms/step - loss: 0.0026 - val_loss: 0.0017\n",
            "Epoch 24/100\n",
            "31/31 [==============================] - 2s 68ms/step - loss: 0.0025 - val_loss: 0.0026\n",
            "Epoch 25/100\n",
            "31/31 [==============================] - 2s 67ms/step - loss: 0.0026 - val_loss: 0.0051\n",
            "Epoch 26/100\n",
            "31/31 [==============================] - 2s 68ms/step - loss: 0.0029 - val_loss: 0.0038\n",
            "Epoch 27/100\n",
            "31/31 [==============================] - 2s 68ms/step - loss: 0.0027 - val_loss: 0.0067\n",
            "Epoch 28/100\n",
            "31/31 [==============================] - 2s 67ms/step - loss: 0.0024 - val_loss: 0.0017\n",
            "Epoch 29/100\n",
            "31/31 [==============================] - 2s 69ms/step - loss: 0.0021 - val_loss: 0.0016\n",
            "Epoch 30/100\n",
            "31/31 [==============================] - 2s 74ms/step - loss: 0.0022 - val_loss: 0.0038\n",
            "Epoch 31/100\n",
            "31/31 [==============================] - 2s 76ms/step - loss: 0.0023 - val_loss: 0.0057\n",
            "Epoch 32/100\n",
            "31/31 [==============================] - 2s 68ms/step - loss: 0.0023 - val_loss: 0.0052\n",
            "Epoch 33/100\n",
            "31/31 [==============================] - 2s 68ms/step - loss: 0.0023 - val_loss: 0.0020\n",
            "Epoch 34/100\n",
            "31/31 [==============================] - 2s 68ms/step - loss: 0.0019 - val_loss: 0.0015\n",
            "Epoch 35/100\n",
            "31/31 [==============================] - 2s 69ms/step - loss: 0.0024 - val_loss: 0.0027\n",
            "Epoch 36/100\n",
            "31/31 [==============================] - 2s 69ms/step - loss: 0.0021 - val_loss: 0.0014\n",
            "Epoch 37/100\n",
            "31/31 [==============================] - 2s 68ms/step - loss: 0.0022 - val_loss: 0.0016\n",
            "Epoch 38/100\n",
            "31/31 [==============================] - 2s 67ms/step - loss: 0.0021 - val_loss: 0.0028\n",
            "Epoch 39/100\n",
            "31/31 [==============================] - 2s 68ms/step - loss: 0.0024 - val_loss: 0.0056\n",
            "Epoch 40/100\n",
            "31/31 [==============================] - 2s 68ms/step - loss: 0.0020 - val_loss: 0.0014\n",
            "Epoch 41/100\n",
            "31/31 [==============================] - 2s 74ms/step - loss: 0.0019 - val_loss: 0.0015\n",
            "Epoch 42/100\n",
            "31/31 [==============================] - 2s 68ms/step - loss: 0.0018 - val_loss: 0.0016\n",
            "Epoch 43/100\n",
            "31/31 [==============================] - 2s 67ms/step - loss: 0.0019 - val_loss: 0.0041\n",
            "Epoch 44/100\n",
            "31/31 [==============================] - 2s 67ms/step - loss: 0.0020 - val_loss: 0.0017\n",
            "Epoch 45/100\n",
            "31/31 [==============================] - 2s 67ms/step - loss: 0.0018 - val_loss: 0.0023\n",
            "Epoch 46/100\n",
            "31/31 [==============================] - 2s 71ms/step - loss: 0.0018 - val_loss: 0.0012\n",
            "Epoch 47/100\n",
            "31/31 [==============================] - 2s 79ms/step - loss: 0.0019 - val_loss: 0.0015\n",
            "Epoch 48/100\n",
            "31/31 [==============================] - 2s 72ms/step - loss: 0.0016 - val_loss: 0.0012\n",
            "Epoch 49/100\n",
            "31/31 [==============================] - 2s 68ms/step - loss: 0.0018 - val_loss: 0.0013\n",
            "Epoch 50/100\n",
            "31/31 [==============================] - 2s 68ms/step - loss: 0.0018 - val_loss: 0.0022\n",
            "Epoch 51/100\n",
            "31/31 [==============================] - 2s 67ms/step - loss: 0.0020 - val_loss: 0.0034\n",
            "Epoch 52/100\n",
            "31/31 [==============================] - 2s 68ms/step - loss: 0.0019 - val_loss: 0.0011\n",
            "Epoch 53/100\n",
            "31/31 [==============================] - 2s 68ms/step - loss: 0.0020 - val_loss: 0.0018\n",
            "Epoch 54/100\n",
            "31/31 [==============================] - 2s 68ms/step - loss: 0.0018 - val_loss: 0.0015\n",
            "Epoch 55/100\n",
            "31/31 [==============================] - 2s 69ms/step - loss: 0.0017 - val_loss: 0.0021\n",
            "Epoch 56/100\n",
            "31/31 [==============================] - 2s 69ms/step - loss: 0.0016 - val_loss: 0.0010\n",
            "Epoch 57/100\n",
            "31/31 [==============================] - 2s 69ms/step - loss: 0.0016 - val_loss: 0.0016\n",
            "Epoch 58/100\n",
            "31/31 [==============================] - 2s 68ms/step - loss: 0.0015 - val_loss: 0.0021\n",
            "Epoch 59/100\n",
            "31/31 [==============================] - 2s 68ms/step - loss: 0.0014 - val_loss: 0.0010\n",
            "Epoch 60/100\n",
            "31/31 [==============================] - 2s 68ms/step - loss: 0.0016 - val_loss: 0.0010\n",
            "Epoch 61/100\n",
            "31/31 [==============================] - 2s 70ms/step - loss: 0.0015 - val_loss: 9.8957e-04\n",
            "Epoch 62/100\n",
            "31/31 [==============================] - 2s 70ms/step - loss: 0.0015 - val_loss: 0.0026\n",
            "Epoch 63/100\n",
            "31/31 [==============================] - 2s 70ms/step - loss: 0.0015 - val_loss: 9.2497e-04\n",
            "Epoch 64/100\n",
            "31/31 [==============================] - 2s 69ms/step - loss: 0.0018 - val_loss: 0.0028\n",
            "Epoch 65/100\n",
            "31/31 [==============================] - 2s 77ms/step - loss: 0.0014 - val_loss: 0.0010\n",
            "Epoch 66/100\n",
            "31/31 [==============================] - 2s 70ms/step - loss: 0.0014 - val_loss: 0.0012\n",
            "Epoch 67/100\n",
            "31/31 [==============================] - 2s 69ms/step - loss: 0.0014 - val_loss: 0.0019\n",
            "Epoch 68/100\n",
            "31/31 [==============================] - 2s 69ms/step - loss: 0.0014 - val_loss: 0.0020\n",
            "Epoch 69/100\n",
            "31/31 [==============================] - 2s 69ms/step - loss: 0.0016 - val_loss: 0.0020\n",
            "Epoch 70/100\n",
            "31/31 [==============================] - 2s 74ms/step - loss: 0.0014 - val_loss: 8.4424e-04\n",
            "Epoch 71/100\n",
            "31/31 [==============================] - 2s 71ms/step - loss: 0.0015 - val_loss: 8.8715e-04\n",
            "Epoch 72/100\n",
            "31/31 [==============================] - 2s 68ms/step - loss: 0.0016 - val_loss: 9.8180e-04\n",
            "Epoch 73/100\n",
            "31/31 [==============================] - 2s 68ms/step - loss: 0.0013 - val_loss: 9.8003e-04\n",
            "Epoch 74/100\n",
            "31/31 [==============================] - 2s 69ms/step - loss: 0.0014 - val_loss: 8.0940e-04\n",
            "Epoch 75/100\n",
            "31/31 [==============================] - 2s 69ms/step - loss: 0.0012 - val_loss: 0.0012\n",
            "Epoch 76/100\n",
            "31/31 [==============================] - 2s 68ms/step - loss: 0.0013 - val_loss: 7.8920e-04\n",
            "Epoch 77/100\n",
            "31/31 [==============================] - 2s 69ms/step - loss: 0.0013 - val_loss: 0.0012\n",
            "Epoch 78/100\n",
            "31/31 [==============================] - 2s 69ms/step - loss: 0.0011 - val_loss: 0.0014\n",
            "Epoch 79/100\n",
            "31/31 [==============================] - 2s 80ms/step - loss: 0.0013 - val_loss: 0.0021\n",
            "Epoch 80/100\n",
            "31/31 [==============================] - 2s 78ms/step - loss: 0.0014 - val_loss: 0.0010\n",
            "Epoch 81/100\n",
            "31/31 [==============================] - 2s 71ms/step - loss: 0.0012 - val_loss: 8.2240e-04\n",
            "Epoch 82/100\n",
            "31/31 [==============================] - 2s 73ms/step - loss: 0.0012 - val_loss: 9.1037e-04\n",
            "Epoch 83/100\n",
            "31/31 [==============================] - 2s 68ms/step - loss: 0.0012 - val_loss: 7.5549e-04\n",
            "Epoch 84/100\n",
            "31/31 [==============================] - 2s 69ms/step - loss: 0.0013 - val_loss: 9.7456e-04\n",
            "Epoch 85/100\n",
            "31/31 [==============================] - 2s 70ms/step - loss: 0.0013 - val_loss: 7.4203e-04\n",
            "Epoch 86/100\n",
            "31/31 [==============================] - 2s 71ms/step - loss: 0.0014 - val_loss: 9.3745e-04\n",
            "Epoch 87/100\n",
            "31/31 [==============================] - 2s 73ms/step - loss: 0.0012 - val_loss: 8.2158e-04\n",
            "Epoch 88/100\n",
            "31/31 [==============================] - 2s 71ms/step - loss: 0.0013 - val_loss: 9.6271e-04\n",
            "Epoch 89/100\n",
            "31/31 [==============================] - 2s 72ms/step - loss: 0.0012 - val_loss: 0.0016\n",
            "Epoch 90/100\n",
            "31/31 [==============================] - 2s 72ms/step - loss: 0.0014 - val_loss: 0.0040\n",
            "Epoch 91/100\n",
            "31/31 [==============================] - 2s 71ms/step - loss: 0.0015 - val_loss: 0.0023\n",
            "Epoch 92/100\n",
            "31/31 [==============================] - 2s 77ms/step - loss: 0.0013 - val_loss: 7.2423e-04\n",
            "Epoch 93/100\n",
            "31/31 [==============================] - 2s 74ms/step - loss: 0.0011 - val_loss: 0.0020\n",
            "Epoch 94/100\n",
            "31/31 [==============================] - 2s 75ms/step - loss: 0.0016 - val_loss: 6.6907e-04\n",
            "Epoch 95/100\n",
            "31/31 [==============================] - 2s 71ms/step - loss: 0.0012 - val_loss: 6.7148e-04\n",
            "Epoch 96/100\n",
            "31/31 [==============================] - 2s 70ms/step - loss: 0.0012 - val_loss: 6.4615e-04\n",
            "Epoch 97/100\n",
            "31/31 [==============================] - 2s 71ms/step - loss: 0.0011 - val_loss: 0.0020\n",
            "Epoch 98/100\n",
            "31/31 [==============================] - 2s 72ms/step - loss: 0.0011 - val_loss: 6.6878e-04\n",
            "Epoch 99/100\n",
            "31/31 [==============================] - 2s 73ms/step - loss: 0.0011 - val_loss: 7.6286e-04\n",
            "Epoch 100/100\n",
            "31/31 [==============================] - 2s 72ms/step - loss: 0.0013 - val_loss: 0.0011\n"
          ]
        }
      ]
    },
    {
      "cell_type": "code",
      "source": [
        "plt.plot(history.history['loss'], label='train')\n",
        "plt.plot(history.history['val_loss'], label='test')\n",
        "plt.title('Loss Graph') \n",
        "plt.xlabel('Epochs')  \n",
        "plt.ylabel('Loss') \n",
        "plt.legend();"
      ],
      "metadata": {
        "colab": {
          "base_uri": "https://localhost:8080/",
          "height": 295
        },
        "id": "Ry5VMSMWXKb1",
        "outputId": "49de5271-52dc-4a89-9c80-2bb79d501456"
      },
      "execution_count": null,
      "outputs": [
        {
          "output_type": "display_data",
          "data": {
            "text/plain": [
              "<Figure size 432x288 with 1 Axes>"
            ],
            "image/png": "[encoded data removed]"
          },
          "metadata": {
            "needs_background": "light"
          }
        }
      ]
    },
    {
      "cell_type": "code",
      "source": [
        "# Creating a data structure with 60 timesteps and 1 output  \n",
        "X_train = []  \n",
        "y_train = []  \n",
        "for i in range(60, 1258):  \n",
        "    X_train.append(training_set_scaled[i-60:i, 0])  \n",
        "    y_train.append(training_set_scaled[i, 0])  \n",
        "X_train, y_train = np.array(X_train), np.array(y_train)  \n",
        "X_train = np.reshape(X_train, (X_train.shape[0], X_train.shape[1], 1))  \n",
        "# Initialising the RNN  \n",
        "regressor = Sequential()  \n",
        "# Adding the first LSTM layer and some Dropout regularization  \n",
        "regressor.add(LSTM(units = 50, return_sequences = True, input_shape = (X_train.shape[1], 1)))  \n",
        "regressor.add(Dropout(0.2))  \n",
        "# Adding a second LSTM layer and some Dropout regularization  \n",
        "regressor.add(LSTM(units = 50, return_sequences = True))  \n",
        "regressor.add(Dropout(0.2))  \n",
        "# Adding a third LSTM layer and some Dropout regularization  \n",
        "regressor.add(LSTM(units = 50, return_sequences = True))  \n",
        "regressor.add(Dropout(0.2))  \n",
        "# Adding a fourth LSTM layer and some Dropout regularization  \n",
        "regressor.add(LSTM(units = 50))  \n",
        "regressor.add(Dropout(0.2))  \n",
        "# Adding the output layer  \n",
        "regressor.add(Dense(units = 1))  \n",
        "# Compiling the RNN  \n",
        "regressor.compile(optimizer = 'adam', loss = 'mean_squared_error')  \n",
        "# Fitting the RNN to the Training set  \n",
        "history = regressor.fit(X_train, y_train, epochs = 100,validation_split=0.2, batch_size = 32)  \n"
      ],
      "metadata": {
        "colab": {
          "base_uri": "https://localhost:8080/"
        },
        "id": "1wrHDss9Uk09",
        "outputId": "91e94d76-33e6-43da-c0be-0caaa6586930"
      },
      "execution_count": null,
      "outputs": [
        {
          "output_type": "stream",
          "name": "stdout",
          "text": [
            "Epoch 1/100\n",
            "30/30 [==============================] - 16s 203ms/step - loss: 0.0286 - val_loss: 0.0259\n",
            "Epoch 2/100\n",
            "30/30 [==============================] - 4s 130ms/step - loss: 0.0051 - val_loss: 0.0030\n",
            "Epoch 3/100\n",
            "30/30 [==============================] - 4s 131ms/step - loss: 0.0045 - val_loss: 0.0062\n",
            "Epoch 4/100\n",
            "30/30 [==============================] - 4s 136ms/step - loss: 0.0041 - val_loss: 0.0022\n",
            "Epoch 5/100\n",
            "30/30 [==============================] - 4s 143ms/step - loss: 0.0041 - val_loss: 0.0021\n",
            "Epoch 6/100\n",
            "30/30 [==============================] - 4s 130ms/step - loss: 0.0035 - val_loss: 0.0035\n",
            "Epoch 7/100\n",
            "30/30 [==============================] - 4s 135ms/step - loss: 0.0042 - val_loss: 0.0019\n",
            "Epoch 8/100\n",
            "30/30 [==============================] - 4s 129ms/step - loss: 0.0039 - val_loss: 0.0024\n",
            "Epoch 9/100\n",
            "30/30 [==============================] - 4s 130ms/step - loss: 0.0033 - val_loss: 0.0032\n",
            "Epoch 10/100\n",
            "30/30 [==============================] - 4s 137ms/step - loss: 0.0040 - val_loss: 0.0055\n",
            "Epoch 11/100\n",
            "30/30 [==============================] - 4s 130ms/step - loss: 0.0035 - val_loss: 0.0058\n",
            "Epoch 12/100\n",
            "30/30 [==============================] - 4s 127ms/step - loss: 0.0037 - val_loss: 0.0050\n",
            "Epoch 13/100\n",
            "30/30 [==============================] - 4s 130ms/step - loss: 0.0034 - val_loss: 0.0016\n",
            "Epoch 14/100\n",
            "30/30 [==============================] - 4s 131ms/step - loss: 0.0033 - val_loss: 0.0019\n",
            "Epoch 15/100\n",
            "30/30 [==============================] - 4s 135ms/step - loss: 0.0030 - val_loss: 0.0031\n",
            "Epoch 16/100\n",
            "30/30 [==============================] - 4s 131ms/step - loss: 0.0029 - val_loss: 0.0018\n",
            "Epoch 17/100\n",
            "30/30 [==============================] - 4s 129ms/step - loss: 0.0029 - val_loss: 0.0016\n",
            "Epoch 18/100\n",
            "30/30 [==============================] - 4s 136ms/step - loss: 0.0033 - val_loss: 0.0055\n",
            "Epoch 19/100\n",
            "30/30 [==============================] - 4s 133ms/step - loss: 0.0027 - val_loss: 0.0021\n",
            "Epoch 20/100\n",
            "30/30 [==============================] - 4s 132ms/step - loss: 0.0028 - val_loss: 0.0035\n",
            "Epoch 21/100\n",
            "30/30 [==============================] - 4s 132ms/step - loss: 0.0029 - val_loss: 0.0018\n",
            "Epoch 22/100\n",
            "30/30 [==============================] - 4s 132ms/step - loss: 0.0028 - val_loss: 0.0017\n",
            "Epoch 23/100\n",
            "30/30 [==============================] - 4s 132ms/step - loss: 0.0030 - val_loss: 0.0016\n",
            "Epoch 24/100\n",
            "30/30 [==============================] - 4s 130ms/step - loss: 0.0027 - val_loss: 0.0030\n",
            "Epoch 25/100\n",
            "30/30 [==============================] - 4s 135ms/step - loss: 0.0029 - val_loss: 0.0016\n",
            "Epoch 26/100\n",
            "30/30 [==============================] - 4s 129ms/step - loss: 0.0029 - val_loss: 0.0036\n",
            "Epoch 27/100\n",
            "30/30 [==============================] - 4s 132ms/step - loss: 0.0024 - val_loss: 0.0015\n",
            "Epoch 28/100\n",
            "30/30 [==============================] - 4s 131ms/step - loss: 0.0023 - val_loss: 0.0015\n",
            "Epoch 29/100\n",
            "30/30 [==============================] - 4s 131ms/step - loss: 0.0024 - val_loss: 0.0014\n",
            "Epoch 30/100\n",
            "30/30 [==============================] - 4s 129ms/step - loss: 0.0022 - val_loss: 0.0045\n",
            "Epoch 31/100\n",
            "30/30 [==============================] - 4s 129ms/step - loss: 0.0022 - val_loss: 0.0030\n",
            "Epoch 32/100\n",
            "30/30 [==============================] - 4s 135ms/step - loss: 0.0023 - val_loss: 0.0049\n",
            "Epoch 33/100\n",
            "30/30 [==============================] - 4s 131ms/step - loss: 0.0023 - val_loss: 0.0015\n",
            "Epoch 34/100\n",
            "30/30 [==============================] - 4s 131ms/step - loss: 0.0023 - val_loss: 0.0028\n",
            "Epoch 35/100\n",
            "30/30 [==============================] - 4s 133ms/step - loss: 0.0023 - val_loss: 0.0030\n",
            "Epoch 36/100\n",
            "30/30 [==============================] - 4s 135ms/step - loss: 0.0021 - val_loss: 0.0015\n",
            "Epoch 37/100\n",
            "30/30 [==============================] - 4s 128ms/step - loss: 0.0019 - val_loss: 0.0054\n",
            "Epoch 38/100\n",
            "30/30 [==============================] - 4s 130ms/step - loss: 0.0021 - val_loss: 0.0013\n",
            "Epoch 39/100\n",
            "30/30 [==============================] - 4s 130ms/step - loss: 0.0022 - val_loss: 0.0027\n",
            "Epoch 40/100\n",
            "30/30 [==============================] - 4s 136ms/step - loss: 0.0027 - val_loss: 0.0018\n",
            "Epoch 41/100\n",
            "30/30 [==============================] - 4s 134ms/step - loss: 0.0021 - val_loss: 0.0016\n",
            "Epoch 42/100\n",
            "30/30 [==============================] - 4s 128ms/step - loss: 0.0018 - val_loss: 0.0013\n",
            "Epoch 43/100\n",
            "30/30 [==============================] - 4s 133ms/step - loss: 0.0021 - val_loss: 0.0015\n",
            "Epoch 44/100\n",
            "30/30 [==============================] - 4s 130ms/step - loss: 0.0020 - val_loss: 0.0013\n",
            "Epoch 45/100\n",
            "30/30 [==============================] - 4s 129ms/step - loss: 0.0019 - val_loss: 0.0017\n",
            "Epoch 46/100\n",
            "30/30 [==============================] - 4s 129ms/step - loss: 0.0018 - val_loss: 0.0014\n",
            "Epoch 47/100\n",
            "30/30 [==============================] - 4s 126ms/step - loss: 0.0019 - val_loss: 0.0018\n",
            "Epoch 48/100\n",
            "30/30 [==============================] - 4s 134ms/step - loss: 0.0020 - val_loss: 0.0014\n",
            "Epoch 49/100\n",
            "30/30 [==============================] - 4s 131ms/step - loss: 0.0019 - val_loss: 0.0024\n",
            "Epoch 50/100\n",
            "30/30 [==============================] - 4s 135ms/step - loss: 0.0019 - val_loss: 0.0019\n",
            "Epoch 51/100\n",
            "30/30 [==============================] - 4s 129ms/step - loss: 0.0019 - val_loss: 0.0037\n",
            "Epoch 52/100\n",
            "30/30 [==============================] - 4s 129ms/step - loss: 0.0017 - val_loss: 0.0012\n",
            "Epoch 53/100\n",
            "30/30 [==============================] - 4s 134ms/step - loss: 0.0018 - val_loss: 0.0017\n",
            "Epoch 54/100\n",
            "30/30 [==============================] - 4s 129ms/step - loss: 0.0019 - val_loss: 0.0016\n",
            "Epoch 55/100\n",
            "30/30 [==============================] - 4s 130ms/step - loss: 0.0018 - val_loss: 0.0011\n",
            "Epoch 56/100\n",
            "30/30 [==============================] - 4s 129ms/step - loss: 0.0018 - val_loss: 0.0019\n",
            "Epoch 57/100\n",
            "30/30 [==============================] - 4s 133ms/step - loss: 0.0020 - val_loss: 0.0025\n",
            "Epoch 58/100\n",
            "30/30 [==============================] - 4s 130ms/step - loss: 0.0021 - val_loss: 0.0031\n",
            "Epoch 59/100\n",
            "30/30 [==============================] - 4s 128ms/step - loss: 0.0019 - val_loss: 0.0012\n",
            "Epoch 60/100\n",
            "30/30 [==============================] - 4s 128ms/step - loss: 0.0018 - val_loss: 0.0010\n",
            "Epoch 61/100\n",
            "30/30 [==============================] - 4s 129ms/step - loss: 0.0017 - val_loss: 0.0044\n",
            "Epoch 62/100\n",
            "30/30 [==============================] - 4s 135ms/step - loss: 0.0016 - val_loss: 0.0013\n",
            "Epoch 63/100\n",
            "30/30 [==============================] - 4s 128ms/step - loss: 0.0017 - val_loss: 0.0014\n",
            "Epoch 64/100\n",
            "30/30 [==============================] - 4s 131ms/step - loss: 0.0015 - val_loss: 0.0010\n",
            "Epoch 65/100\n",
            "30/30 [==============================] - 4s 133ms/step - loss: 0.0017 - val_loss: 9.5656e-04\n",
            "Epoch 66/100\n",
            "30/30 [==============================] - 4s 128ms/step - loss: 0.0015 - val_loss: 0.0010\n",
            "Epoch 67/100\n",
            "30/30 [==============================] - 4s 133ms/step - loss: 0.0016 - val_loss: 0.0019\n",
            "Epoch 68/100\n",
            "30/30 [==============================] - 4s 129ms/step - loss: 0.0017 - val_loss: 0.0015\n",
            "Epoch 69/100\n",
            "30/30 [==============================] - 4s 130ms/step - loss: 0.0015 - val_loss: 9.1364e-04\n",
            "Epoch 70/100\n",
            "30/30 [==============================] - 4s 129ms/step - loss: 0.0015 - val_loss: 9.4123e-04\n",
            "Epoch 71/100\n",
            "30/30 [==============================] - 4s 129ms/step - loss: 0.0015 - val_loss: 9.1379e-04\n",
            "Epoch 72/100\n",
            "30/30 [==============================] - 4s 129ms/step - loss: 0.0014 - val_loss: 0.0012\n",
            "Epoch 73/100\n",
            "30/30 [==============================] - 4s 131ms/step - loss: 0.0014 - val_loss: 9.7785e-04\n",
            "Epoch 74/100\n",
            "30/30 [==============================] - 4s 129ms/step - loss: 0.0017 - val_loss: 9.3629e-04\n",
            "Epoch 75/100\n",
            "30/30 [==============================] - 4s 129ms/step - loss: 0.0018 - val_loss: 8.5346e-04\n",
            "Epoch 76/100\n",
            "30/30 [==============================] - 4s 136ms/step - loss: 0.0016 - val_loss: 0.0035\n",
            "Epoch 77/100\n",
            "30/30 [==============================] - 4s 128ms/step - loss: 0.0015 - val_loss: 0.0031\n",
            "Epoch 78/100\n",
            "30/30 [==============================] - 4s 129ms/step - loss: 0.0015 - val_loss: 7.8517e-04\n",
            "Epoch 79/100\n",
            "30/30 [==============================] - 4s 145ms/step - loss: 0.0014 - val_loss: 7.8579e-04\n",
            "Epoch 80/100\n",
            "30/30 [==============================] - 4s 139ms/step - loss: 0.0014 - val_loss: 8.7078e-04\n",
            "Epoch 81/100\n",
            "30/30 [==============================] - 4s 131ms/step - loss: 0.0015 - val_loss: 0.0016\n",
            "Epoch 82/100\n",
            "30/30 [==============================] - 4s 139ms/step - loss: 0.0014 - val_loss: 0.0024\n",
            "Epoch 83/100\n",
            "30/30 [==============================] - 4s 140ms/step - loss: 0.0015 - val_loss: 0.0017\n",
            "Epoch 84/100\n",
            "30/30 [==============================] - 5s 156ms/step - loss: 0.0014 - val_loss: 0.0021\n",
            "Epoch 85/100\n",
            "30/30 [==============================] - 4s 131ms/step - loss: 0.0013 - val_loss: 7.4018e-04\n",
            "Epoch 86/100\n",
            "30/30 [==============================] - 4s 138ms/step - loss: 0.0013 - val_loss: 0.0014\n",
            "Epoch 87/100\n",
            "30/30 [==============================] - 4s 135ms/step - loss: 0.0013 - val_loss: 0.0020\n",
            "Epoch 88/100\n",
            "30/30 [==============================] - 4s 131ms/step - loss: 0.0012 - val_loss: 0.0017\n",
            "Epoch 89/100\n",
            "30/30 [==============================] - 4s 144ms/step - loss: 0.0014 - val_loss: 7.0596e-04\n",
            "Epoch 90/100\n",
            "30/30 [==============================] - 5s 150ms/step - loss: 0.0011 - val_loss: 7.0511e-04\n",
            "Epoch 91/100\n",
            "30/30 [==============================] - 4s 142ms/step - loss: 0.0013 - val_loss: 0.0011\n",
            "Epoch 92/100\n",
            "30/30 [==============================] - 4s 134ms/step - loss: 0.0013 - val_loss: 8.4088e-04\n",
            "Epoch 93/100\n",
            "30/30 [==============================] - 4s 135ms/step - loss: 0.0013 - val_loss: 0.0015\n",
            "Epoch 94/100\n",
            "30/30 [==============================] - 4s 147ms/step - loss: 0.0013 - val_loss: 6.9787e-04\n",
            "Epoch 95/100\n",
            "30/30 [==============================] - 4s 137ms/step - loss: 0.0013 - val_loss: 8.4224e-04\n",
            "Epoch 96/100\n",
            "30/30 [==============================] - 4s 136ms/step - loss: 0.0011 - val_loss: 7.0491e-04\n",
            "Epoch 97/100\n",
            "30/30 [==============================] - 4s 131ms/step - loss: 0.0011 - val_loss: 7.0245e-04\n",
            "Epoch 98/100\n",
            "30/30 [==============================] - 4s 130ms/step - loss: 0.0011 - val_loss: 0.0017\n",
            "Epoch 99/100\n",
            "30/30 [==============================] - 4s 131ms/step - loss: 0.0012 - val_loss: 7.0150e-04\n",
            "Epoch 100/100\n",
            "30/30 [==============================] - 4s 130ms/step - loss: 0.0013 - val_loss: 7.0849e-04\n"
          ]
        }
      ]
    },
    {
      "cell_type": "code",
      "source": [
        "plt.plot(history.history['loss'], label='train')\n",
        "plt.plot(history.history['val_loss'], label='test')\n",
        "plt.title('Loss Graph') \n",
        "plt.xlabel('Epochs')  \n",
        "plt.ylabel('Loss') \n",
        "plt.legend();"
      ],
      "metadata": {
        "colab": {
          "base_uri": "https://localhost:8080/",
          "height": 295
        },
        "id": "ap9FNsCwXHHW",
        "outputId": "618a0a86-e6c6-45ee-9870-af5f8cbea257"
      },
      "execution_count": null,
      "outputs": [
        {
          "output_type": "display_data",
          "data": {
            "text/plain": [
              "<Figure size 432x288 with 1 Axes>"
            ],
            "image/png": "[encoded data removed]"
          },
          "metadata": {
            "needs_background": "light"
          }
        }
      ]
    },
    {
      "cell_type": "code",
      "source": [
        "# Getting the real stock price of 2017  \n",
        "dataset_test = pd.read_csv('/content/drive/MyDrive/Datasets/Google_Stock_Price_Test.csv')  \n",
        "real_stock_price = dataset_test.iloc[:, 1:2].values  "
      ],
      "metadata": {
        "id": "9IUPZnm21c_T"
      },
      "execution_count": null,
      "outputs": []
    },
    {
      "cell_type": "code",
      "source": [
        "print(dataset_test.head(5))"
      ],
      "metadata": {
        "colab": {
          "base_uri": "https://localhost:8080/"
        },
        "id": "jxy1KK6cGu6T",
        "outputId": "7b4d7cf2-1901-47e1-ce23-c3044885e400"
      },
      "execution_count": null,
      "outputs": [
        {
          "output_type": "stream",
          "name": "stdout",
          "text": [
            "       Date    Open    High     Low   Close     Volume\n",
            "0  1/3/2017  778.81  789.63  775.80  786.14  1,657,300\n",
            "1  1/4/2017  788.36  791.34  783.16  786.90  1,073,000\n",
            "2  1/5/2017  786.08  794.48  785.02  794.02  1,335,200\n",
            "3  1/6/2017  795.26  807.90  792.20  806.15  1,640,200\n",
            "4  1/9/2017  806.40  809.97  802.83  806.65  1,272,400\n"
          ]
        }
      ]
    },
    {
      "cell_type": "code",
      "source": [
        "print(dataset_test.shape,real_stock_price.shape)"
      ],
      "metadata": {
        "colab": {
          "base_uri": "https://localhost:8080/"
        },
        "id": "n-e4CESbG0Cp",
        "outputId": "06ec285f-fce4-4921-9b66-650bb5071bc6"
      },
      "execution_count": null,
      "outputs": [
        {
          "output_type": "stream",
          "name": "stdout",
          "text": [
            "(20, 6) (20, 1)\n"
          ]
        }
      ]
    },
    {
      "cell_type": "code",
      "source": [
        "# Getting the predicted stock price of 2017  \n",
        "dataset_total = pd.concat((dataset_train['Open'], dataset_test['Open']), axis = 0)  \n",
        "inputs = dataset_total[len(dataset_total) - len(dataset_test) - 60:].values  \n",
        "inputs = inputs.reshape(-1,1)  \n",
        "inputs = sc.transform(inputs)  "
      ],
      "metadata": {
        "id": "2_X0xpfe1dB2"
      },
      "execution_count": null,
      "outputs": []
    },
    {
      "cell_type": "code",
      "source": [
        "X_test = []  \n",
        "for i in range(60, 80):  \n",
        "    X_test.append(inputs[i-60:i, 0])  \n",
        "X_test = np.array(X_test)  \n",
        "X_test = np.reshape(X_test, (X_test.shape[0], X_test.shape[1], 1))  \n",
        "predicted_stock_price = regressor.predict(X_test)  \n",
        "predicted_stock_price = sc.inverse_transform(predicted_stock_price)  "
      ],
      "metadata": {
        "id": "c0RB6gBX19Y1"
      },
      "execution_count": null,
      "outputs": []
    },
    {
      "cell_type": "code",
      "source": [
        "# Visualizing the results  \n",
        "plt.plot(real_stock_price, color = 'red', label = 'Real Google Stock Price')  \n",
        "plt.plot(predicted_stock_price, color = 'blue', label = 'Predicted Google Stock Price')  \n",
        "plt.title('Google Stock Price Prediction')  \n",
        "plt.xlabel('Time')  \n",
        "plt.ylabel('Google Stock Price')  \n",
        "plt.legend()  \n",
        "plt.show()  "
      ],
      "metadata": {
        "colab": {
          "base_uri": "https://localhost:8080/",
          "height": 295
        },
        "id": "yIIoebsb19cJ",
        "outputId": "27b57dc5-0a17-4a5a-ec83-b8ac0c9ee147"
      },
      "execution_count": null,
      "outputs": [
        {
          "output_type": "display_data",
          "data": {
            "text/plain": [
              "<Figure size 432x288 with 1 Axes>"
            ],
            "image/png": "[encoded data removed]"
          },
          "metadata": {
            "needs_background": "light"
          }
        }
      ]
    }
  ]
}