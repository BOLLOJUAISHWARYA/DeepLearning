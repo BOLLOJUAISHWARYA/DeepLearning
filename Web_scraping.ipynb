{
  "cells": [
    {
      "cell_type": "markdown",
      "metadata": {
        "id": "view-in-github",
        "colab_type": "text"
      },
      "source": [
        "<a href=\"https://colab.research.google.com/github/BOLLOJUAISHWARYA/DeepLearning/blob/main/Web_scraping.ipynb\" target=\"_parent\"><img src=\"https://colab.research.google.com/assets/colab-badge.svg\" alt=\"Open In Colab\"/></a>"
      ]
    },
    {
      "cell_type": "markdown",
      "metadata": {
        "id": "7zcuGeonIG9Z"
      },
      "source": [
        "Web scraping using BeautifulSoup"
      ]
    },
    {
      "cell_type": "code",
      "execution_count": null,
      "metadata": {
        "id": "3yKBSfOXwsZn"
      },
      "outputs": [],
      "source": [
        "import requests\n",
        "from bs4 import BeautifulSoup"
      ]
    },
    {
      "cell_type": "markdown",
      "metadata": {
        "id": "gddpqGoyIUbK"
      },
      "source": [
        "Using Rotten Tomatoes website for web scraping"
      ]
    },
    {
      "cell_type": "code",
      "execution_count": null,
      "metadata": {
        "id": "V_-gBnC5wt_S"
      },
      "outputs": [],
      "source": [
        "url=\"https://editorial.rottentomatoes.com/guide/140-essential-action-movies-to-watch-now/\""
      ]
    },
    {
      "cell_type": "markdown",
      "metadata": {
        "id": "SVfpD0rTIiCG"
      },
      "source": [
        "Checking status "
      ]
    },
    {
      "cell_type": "code",
      "execution_count": null,
      "metadata": {
        "colab": {
          "base_uri": "https://localhost:8080/"
        },
        "id": "QMmiCzMWwuBc",
        "outputId": "d2e261ca-1130-40ae-f2a2-c6da0e4ac6c0"
      },
      "outputs": [
        {
          "output_type": "execute_result",
          "data": {
            "text/plain": [
              "200"
            ]
          },
          "metadata": {},
          "execution_count": 3
        }
      ],
      "source": [
        "response = requests.get(url)\n",
        "response.status_code"
      ]
    },
    {
      "cell_type": "code",
      "execution_count": null,
      "metadata": {
        "id": "FrQdMJ3pwuDy"
      },
      "outputs": [],
      "source": [
        "soup = BeautifulSoup(response.content,'lxml')"
      ]
    },
    {
      "cell_type": "code",
      "execution_count": null,
      "metadata": {
        "colab": {
          "base_uri": "https://localhost:8080/"
        },
        "id": "sIlaItnEwuGZ",
        "outputId": "03045a17-9111-4956-9e56-9edee453681f"
      },
      "outputs": [
        {
          "output_type": "execute_result",
          "data": {
            "text/plain": [
              "[<div class=\"col-sm-18 col-full-xs countdown-item-content\">\n",
              " <div class=\"row countdown-item-title-bar\">\n",
              " <div class=\"col-sm-20 col-full-xs\" style=\"height: 100%;\">\n",
              " <div class=\"article_movie_title\" style=\"float: left;\">\n",
              " <div><h2><a href=\"https://www.rottentomatoes.com/m/1018009-running_scared\">Running Scared</a> <span class=\"subtle start-year\">(1986)</span> <span class=\"icon tiny rotten\" title=\"Rotten\"></span> <span class=\"tMeterScore\">59%</span></h2></div>\n",
              " </div>\n",
              " </div>\n",
              " <div class=\"col-sm-4 col-full-xs\" style=\"height: 100%;\">\n",
              " <div class=\"countdown-index\">#140</div>\n",
              " </div>\n",
              " </div>\n",
              " <div class=\"row countdown-item-details\">\n",
              " <div class=\"col-sm-24\">\n",
              " <div class=\"info countdown-adjusted-score\"><span class=\"descriptor\">Adjusted Score: </span>59009% <span class=\"glyphicon glyphicon-question-sign\" data-html=\"true\" data-original-title=\"The Adjusted Score comes from a weighted formula (Bayesian) that we use that accounts for variation in the number of reviews per movie.\" data-placement=\"top\" data-toggle=\"tooltip\" rel=\"tooltip\" title=\"\"></span></div>\n",
              " <div class=\"info critics-consensus\"><span class=\"descriptor\">Critics Consensus:</span> <em>Running Scared</em> struggles to strike a consistent balance between violent action and humor, but the chemistry between its well-matched leads keeps things entertaining.</div>\n",
              " <div class=\"info synopsis\"><span class=\"descriptor\">Synopsis:</span> Ray and Danny (Gregory Hines, Billy Crystal) are two Chicago police detectives hot on the trail of drug kingpin Julio...<a class=\"\" data-pageheader=\"\" href=\"https://www.rottentomatoes.com/m/1018009-running_scared\" target=\"_top\"> [More]</a></div>\n",
              " <div class=\"info cast\">\n",
              " <span class=\"descriptor\">Starring:</span> <a class=\"\" href=\"//www.rottentomatoes.com/celebrity/gregory_hines\">Gregory Hines</a>, <a class=\"\" href=\"//www.rottentomatoes.com/celebrity/billy_crystal\">Billy Crystal</a>, <a class=\"\" href=\"//www.rottentomatoes.com/celebrity/jimmy_smits\">Jimmy Smits</a>, <a class=\"\" href=\"//www.rottentomatoes.com/celebrity/steven_bauer\">Steven Bauer</a></div>\n",
              " <div class=\"info director\">\n",
              " <span class=\"descriptor\">Directed By:</span> <a class=\"\" href=\"//www.rottentomatoes.com/celebrity/peter_hyams\">Peter Hyams</a></div>\n",
              " </div>\n",
              " </div>\n",
              " </div>]"
            ]
          },
          "metadata": {},
          "execution_count": 5
        }
      ],
      "source": [
        "divs = soup.find_all('div',{'class':\"col-sm-18 col-full-xs countdown-item-content\"})\n",
        "divs[:1]"
      ]
    },
    {
      "cell_type": "code",
      "execution_count": null,
      "metadata": {
        "colab": {
          "base_uri": "https://localhost:8080/"
        },
        "id": "b1JOtcLLTuqi",
        "outputId": "6c5993ed-e58c-4d23-be37-0a95d40c527b"
      },
      "outputs": [
        {
          "data": {
            "text/plain": [
              "<h2><a href=\"https://www.rottentomatoes.com/m/1018009-running_scared\">Running Scared</a> <span class=\"subtle start-year\">(1986)</span> <span class=\"icon tiny rotten\" title=\"Rotten\"></span> <span class=\"tMeterScore\">59%</span></h2>"
            ]
          },
          "execution_count": 9,
          "metadata": {},
          "output_type": "execute_result"
        }
      ],
      "source": [
        "divs[0].find('h2')"
      ]
    },
    {
      "cell_type": "code",
      "execution_count": null,
      "metadata": {
        "id": "90uugya-Tuy3"
      },
      "outputs": [],
      "source": [
        "headings = [div.find('h2') for div in divs]\n"
      ]
    },
    {
      "cell_type": "code",
      "execution_count": null,
      "metadata": {
        "colab": {
          "base_uri": "https://localhost:8080/"
        },
        "id": "k_ayjrWVTu2u",
        "outputId": "96e6e172-b257-4ce6-8696-c259895dd429"
      },
      "outputs": [
        {
          "data": {
            "text/plain": [
              "['Running Scared',\n",
              " 'Equilibrium',\n",
              " 'Hero',\n",
              " 'Road House',\n",
              " 'Unstoppable',\n",
              " 'Shaft',\n",
              " 'The Villainess',\n",
              " 'Highlander',\n",
              " 'Die Hard 2',\n",
              " 'National Treasure']"
            ]
          },
          "execution_count": 11,
          "metadata": {},
          "output_type": "execute_result"
        }
      ],
      "source": [
        "movie_names = [heading.find('a').string for heading in headings]\n",
        "movie_names[:10]"
      ]
    },
    {
      "cell_type": "code",
      "execution_count": null,
      "metadata": {
        "colab": {
          "base_uri": "https://localhost:8080/"
        },
        "id": "euUzVTHDTu5j",
        "outputId": "423e261a-382a-456a-9a90-e415c931c55f"
      },
      "outputs": [
        {
          "data": {
            "text/plain": [
              "[59, 41, 94, 37, 87, 86, 85, 70, 69, 46]"
            ]
          },
          "execution_count": 12,
          "metadata": {},
          "output_type": "execute_result"
        }
      ],
      "source": [
        "score = [heading.find('span',class_='tMeterScore').string[:-1] for heading in headings]\n",
        "score = [int(score) for score in score]\n",
        "score[:10]"
      ]
    },
    {
      "cell_type": "code",
      "execution_count": null,
      "metadata": {
        "colab": {
          "base_uri": "https://localhost:8080/"
        },
        "id": "T4caVo-lTu8E",
        "outputId": "41ecbd4f-139a-409d-d906-7557b3a6f8ea"
      },
      "outputs": [
        {
          "data": {
            "text/plain": [
              "[1986, 2002, 2002, 1989, 2010, 1971, 2017, 1986, 1990, 2004]"
            ]
          },
          "execution_count": 13,
          "metadata": {},
          "output_type": "execute_result"
        }
      ],
      "source": [
        "year = [heading.find('span',class_='subtle start-year').string[1:-1] for heading in headings]\n",
        "year = [int(year) for year in year]\n",
        "year[:10]"
      ]
    },
    {
      "cell_type": "code",
      "execution_count": null,
      "metadata": {
        "colab": {
          "base_uri": "https://localhost:8080/"
        },
        "id": "YjLcMTnVTu-a",
        "outputId": "de26e56e-89db-4ddb-d571-3ca34158d6ba"
      },
      "outputs": [
        {
          "data": {
            "text/plain": [
              "<div class=\"info director\">\n",
              "<span class=\"descriptor\">Directed By:</span> <a class=\"\" href=\"//www.rottentomatoes.com/celebrity/peter_hyams\">Peter Hyams</a></div>"
            ]
          },
          "execution_count": 14,
          "metadata": {},
          "output_type": "execute_result"
        }
      ],
      "source": [
        "directors = [div.find('div',class_=\"info director\") for div in divs]\n",
        "directors[0]"
      ]
    },
    {
      "cell_type": "code",
      "execution_count": null,
      "metadata": {
        "colab": {
          "base_uri": "https://localhost:8080/"
        },
        "id": "OBg4JavJxPSE",
        "outputId": "caceae34-30c5-4d5e-9651-aec1ad49fc79"
      },
      "outputs": [
        {
          "data": {
            "text/plain": [
              "['Peter Hyams',\n",
              " 'Kurt Wimmer',\n",
              " 'Zhang Yimou',\n",
              " 'Rowdy Herrington',\n",
              " 'Tony Scott',\n",
              " 'Gordon Parks',\n",
              " 'Jeong Byeong-gil',\n",
              " 'Russell Mulcahy',\n",
              " 'Renny Harlin',\n",
              " 'Jon Turteltaub']"
            ]
          },
          "execution_count": 15,
          "metadata": {},
          "output_type": "execute_result"
        }
      ],
      "source": [
        "director = [director.find('a').string for director in directors]\n",
        "director[:10]"
      ]
    },
    {
      "cell_type": "code",
      "execution_count": null,
      "metadata": {
        "colab": {
          "base_uri": "https://localhost:8080/"
        },
        "id": "rcAho0nUxPUw",
        "outputId": "bd4e600b-7457-454d-bd12-201c83e9902f"
      },
      "outputs": [
        {
          "data": {
            "text/plain": [
              "['Gregory Hines, Billy Crystal, Jimmy Smits, Steven Bauer',\n",
              " 'Christian Bale, Emily Watson, Taye Diggs, Angus Macfadyen',\n",
              " 'Jet Li, Tony Leung Chiu Wai, Maggie Cheung Man-yuk, Donnie Yen',\n",
              " 'Patrick Swayze, Kelly Lynch, Sam Elliott, Ben Gazzara',\n",
              " 'Denzel Washington, Chris Pine, Rosario Dawson, Kevin Dunn',\n",
              " 'Richard Roundtree, Moses Gunn, Christopher St. John, Charles Cioffi',\n",
              " 'Kim Ok-bin, Shin Ha-kyun, Sung Joon, Kim Seo-hyung',\n",
              " 'Christopher Lambert, Sean Connery, Roxanne Hart, Clancy Brown',\n",
              " 'Bruce Willis, Bonnie Bedelia, William Atherton, Reginald VelJohnson',\n",
              " 'Nicolas Cage, Diane Kruger, Justin Bartha, Sean Bean']"
            ]
          },
          "execution_count": 16,
          "metadata": {},
          "output_type": "execute_result"
        }
      ],
      "source": [
        "casting = [div.find('div',class_=\"info cast\") for div in divs]\n",
        "cast = []\n",
        "for c in casting:\n",
        "    cast_links = c.find_all('a')\n",
        "    cast_names = [link.string for link in cast_links]\n",
        "    cast.append(', '.join(cast_names))\n",
        "    \n",
        "cast[:10]"
      ]
    },
    {
      "cell_type": "code",
      "execution_count": null,
      "metadata": {
        "id": "Uia62MyMxPYR"
      },
      "outputs": [],
      "source": [
        "import pandas as pd"
      ]
    },
    {
      "cell_type": "markdown",
      "metadata": {
        "id": "47GyShIqOutP"
      },
      "source": [
        "Forming Dataframe and inserting the data"
      ]
    },
    {
      "cell_type": "code",
      "execution_count": null,
      "metadata": {
        "id": "uOPH0nsRfaE3"
      },
      "outputs": [],
      "source": [
        "movies = pd.DataFrame()\n",
        "movies['Title'] = movie_names\n",
        "movies['Year'] = year\n",
        "movies['Genre'] = 'Action'\n",
        "movies['Rating'] = score\n",
        "movies['cast'] = cast\n",
        "movies['Director'] = director\n"
      ]
    },
    {
      "cell_type": "code",
      "execution_count": null,
      "metadata": {
        "colab": {
          "base_uri": "https://localhost:8080/",
          "height": 424
        },
        "id": "_O5XQPc1gK_k",
        "outputId": "3a528dd4-795e-4936-b9be-82277352f776"
      },
      "outputs": [
        {
          "data": {
            "text/html": [
              "<div>\n",
              "<style scoped>\n",
              "    .dataframe tbody tr th:only-of-type {\n",
              "        vertical-align: middle;\n",
              "    }\n",
              "\n",
              "    .dataframe tbody tr th {\n",
              "        vertical-align: top;\n",
              "    }\n",
              "\n",
              "    .dataframe thead th {\n",
              "        text-align: right;\n",
              "    }\n",
              "</style>\n",
              "<table border=\"1\" class=\"dataframe\">\n",
              "  <thead>\n",
              "    <tr style=\"text-align: right;\">\n",
              "      <th></th>\n",
              "      <th>Title</th>\n",
              "      <th>Year</th>\n",
              "      <th>Genre</th>\n",
              "      <th>Rating</th>\n",
              "      <th>cast</th>\n",
              "      <th>Director</th>\n",
              "    </tr>\n",
              "  </thead>\n",
              "  <tbody>\n",
              "    <tr>\n",
              "      <th>0</th>\n",
              "      <td>Running Scared</td>\n",
              "      <td>1986</td>\n",
              "      <td>Action</td>\n",
              "      <td>59</td>\n",
              "      <td>Gregory Hines, Billy Crystal, Jimmy Smits, Ste...</td>\n",
              "      <td>Peter Hyams</td>\n",
              "    </tr>\n",
              "    <tr>\n",
              "      <th>1</th>\n",
              "      <td>Equilibrium</td>\n",
              "      <td>2002</td>\n",
              "      <td>Action</td>\n",
              "      <td>41</td>\n",
              "      <td>Christian Bale, Emily Watson, Taye Diggs, Angu...</td>\n",
              "      <td>Kurt Wimmer</td>\n",
              "    </tr>\n",
              "    <tr>\n",
              "      <th>2</th>\n",
              "      <td>Hero</td>\n",
              "      <td>2002</td>\n",
              "      <td>Action</td>\n",
              "      <td>94</td>\n",
              "      <td>Jet Li, Tony Leung Chiu Wai, Maggie Cheung Man...</td>\n",
              "      <td>Zhang Yimou</td>\n",
              "    </tr>\n",
              "    <tr>\n",
              "      <th>3</th>\n",
              "      <td>Road House</td>\n",
              "      <td>1989</td>\n",
              "      <td>Action</td>\n",
              "      <td>37</td>\n",
              "      <td>Patrick Swayze, Kelly Lynch, Sam Elliott, Ben ...</td>\n",
              "      <td>Rowdy Herrington</td>\n",
              "    </tr>\n",
              "    <tr>\n",
              "      <th>4</th>\n",
              "      <td>Unstoppable</td>\n",
              "      <td>2010</td>\n",
              "      <td>Action</td>\n",
              "      <td>87</td>\n",
              "      <td>Denzel Washington, Chris Pine, Rosario Dawson,...</td>\n",
              "      <td>Tony Scott</td>\n",
              "    </tr>\n",
              "    <tr>\n",
              "      <th>...</th>\n",
              "      <td>...</td>\n",
              "      <td>...</td>\n",
              "      <td>...</td>\n",
              "      <td>...</td>\n",
              "      <td>...</td>\n",
              "      <td>...</td>\n",
              "    </tr>\n",
              "    <tr>\n",
              "      <th>135</th>\n",
              "      <td>Hard-Boiled</td>\n",
              "      <td>1992</td>\n",
              "      <td>Action</td>\n",
              "      <td>94</td>\n",
              "      <td>Chow Yun-Fat, Bowie Lam, Philip Chan, Tony Leu...</td>\n",
              "      <td>John Woo</td>\n",
              "    </tr>\n",
              "    <tr>\n",
              "      <th>136</th>\n",
              "      <td>The Matrix</td>\n",
              "      <td>1999</td>\n",
              "      <td>Action</td>\n",
              "      <td>88</td>\n",
              "      <td>Keanu Reeves, Laurence Fishburne, Carrie-Anne ...</td>\n",
              "      <td>Andy Wachowski</td>\n",
              "    </tr>\n",
              "    <tr>\n",
              "      <th>137</th>\n",
              "      <td>Terminator 2: Judgment Day</td>\n",
              "      <td>1991</td>\n",
              "      <td>Action</td>\n",
              "      <td>93</td>\n",
              "      <td>Arnold Schwarzenegger, Linda Hamilton, Edward ...</td>\n",
              "      <td>James Cameron</td>\n",
              "    </tr>\n",
              "    <tr>\n",
              "      <th>138</th>\n",
              "      <td>Die Hard</td>\n",
              "      <td>1988</td>\n",
              "      <td>Action</td>\n",
              "      <td>94</td>\n",
              "      <td>Bruce Willis, Alan Rickman, Bonnie Bedelia, Re...</td>\n",
              "      <td>John McTiernan</td>\n",
              "    </tr>\n",
              "    <tr>\n",
              "      <th>139</th>\n",
              "      <td>Mad Max: Fury Road</td>\n",
              "      <td>2015</td>\n",
              "      <td>Action</td>\n",
              "      <td>97</td>\n",
              "      <td>Tom Hardy, Charlize Theron, Nicholas Hoult, Hu...</td>\n",
              "      <td>George Miller</td>\n",
              "    </tr>\n",
              "  </tbody>\n",
              "</table>\n",
              "<p>140 rows × 6 columns</p>\n",
              "</div>"
            ],
            "text/plain": [
              "                          Title  Year   Genre  Rating  \\\n",
              "0                Running Scared  1986  Action      59   \n",
              "1                   Equilibrium  2002  Action      41   \n",
              "2                          Hero  2002  Action      94   \n",
              "3                    Road House  1989  Action      37   \n",
              "4                   Unstoppable  2010  Action      87   \n",
              "..                          ...   ...     ...     ...   \n",
              "135                 Hard-Boiled  1992  Action      94   \n",
              "136                  The Matrix  1999  Action      88   \n",
              "137  Terminator 2: Judgment Day  1991  Action      93   \n",
              "138                    Die Hard  1988  Action      94   \n",
              "139          Mad Max: Fury Road  2015  Action      97   \n",
              "\n",
              "                                                  cast          Director  \n",
              "0    Gregory Hines, Billy Crystal, Jimmy Smits, Ste...       Peter Hyams  \n",
              "1    Christian Bale, Emily Watson, Taye Diggs, Angu...       Kurt Wimmer  \n",
              "2    Jet Li, Tony Leung Chiu Wai, Maggie Cheung Man...       Zhang Yimou  \n",
              "3    Patrick Swayze, Kelly Lynch, Sam Elliott, Ben ...  Rowdy Herrington  \n",
              "4    Denzel Washington, Chris Pine, Rosario Dawson,...        Tony Scott  \n",
              "..                                                 ...               ...  \n",
              "135  Chow Yun-Fat, Bowie Lam, Philip Chan, Tony Leu...          John Woo  \n",
              "136  Keanu Reeves, Laurence Fishburne, Carrie-Anne ...    Andy Wachowski  \n",
              "137  Arnold Schwarzenegger, Linda Hamilton, Edward ...     James Cameron  \n",
              "138  Bruce Willis, Alan Rickman, Bonnie Bedelia, Re...    John McTiernan  \n",
              "139  Tom Hardy, Charlize Theron, Nicholas Hoult, Hu...     George Miller  \n",
              "\n",
              "[140 rows x 6 columns]"
            ]
          },
          "execution_count": 19,
          "metadata": {},
          "output_type": "execute_result"
        }
      ],
      "source": [
        "movies"
      ]
    },
    {
      "cell_type": "markdown",
      "metadata": {
        "id": "dqTD6FBUPSu4"
      },
      "source": [
        "Writing into csv"
      ]
    },
    {
      "cell_type": "code",
      "execution_count": null,
      "metadata": {
        "id": "rJ4ulr7BgLBc"
      },
      "outputs": [],
      "source": [
        "movies.to_csv('movies.csv',index = False ,header =True)"
      ]
    },
    {
      "cell_type": "markdown",
      "metadata": {
        "id": "_OdfNA_cPcT1"
      },
      "source": [
        "Connecting to sqlite3 and creating a table and inserting into it"
      ]
    },
    {
      "cell_type": "code",
      "execution_count": null,
      "metadata": {
        "colab": {
          "base_uri": "https://localhost:8080/"
        },
        "id": "V87EfiCxg8sD",
        "outputId": "9d0ff8d3-2e07-4471-b34a-63d9e1764118"
      },
      "outputs": [
        {
          "name": "stdout",
          "output_type": "stream",
          "text": [
            "('Running Scared', 1986, 'Action', 59, 'Gregory Hines, Billy Crystal, Jimmy Smits, Steven Bauer', 'Peter Hyams')\n",
            "('Equilibrium', 2002, 'Action', 41, 'Christian Bale, Emily Watson, Taye Diggs, Angus Macfadyen', 'Kurt Wimmer')\n",
            "('Hero', 2002, 'Action', 94, 'Jet Li, Tony Leung Chiu Wai, Maggie Cheung Man-yuk, Donnie Yen', 'Zhang Yimou')\n",
            "('Road House', 1989, 'Action', 37, 'Patrick Swayze, Kelly Lynch, Sam Elliott, Ben Gazzara', 'Rowdy Herrington')\n",
            "('Unstoppable', 2010, 'Action', 87, 'Denzel Washington, Chris Pine, Rosario Dawson, Kevin Dunn', 'Tony Scott')\n",
            "('Shaft', 1971, 'Action', 86, 'Richard Roundtree, Moses Gunn, Christopher St. John, Charles Cioffi', 'Gordon Parks')\n",
            "('The Villainess', 2017, 'Action', 85, 'Kim Ok-bin, Shin Ha-kyun, Sung Joon, Kim Seo-hyung', 'Jeong Byeong-gil')\n",
            "('Highlander', 1986, 'Action', 70, 'Christopher Lambert, Sean Connery, Roxanne Hart, Clancy Brown', 'Russell Mulcahy')\n",
            "('Die Hard 2', 1990, 'Action', 69, 'Bruce Willis, Bonnie Bedelia, William Atherton, Reginald VelJohnson', 'Renny Harlin')\n",
            "('National Treasure', 2004, 'Action', 46, 'Nicolas Cage, Diane Kruger, Justin Bartha, Sean Bean', 'Jon Turteltaub')\n",
            "('The Protector', 2005, 'Action', 53, 'Tony Jaa, Johnny Nguyen, Nathan Jones, Petchtai Wongkamlao', 'Prachya Pinkaew')\n",
            "('Revenge', 2017, 'Action', 93, 'Matilda Lutz, Kevin Janssens, Vincent Colombe, Guillaume Bouchède', 'Coralie Fargeat')\n",
            "('El Mariachi', 1992, 'Action', 91, 'Carlos Gallardo, Consuelo Gómez, Reinol Martinez, Peter Marquardt', 'Robert Rodriguez')\n",
            "('A Touch of Zen', 1971, 'Action', 97, 'Feng Hsu, Chun Shih, Pai Ying, Roy Chiao', 'King Hu')\n",
            "('Top Gun', 1986, 'Action', 56, 'Tom Cruise, Kelly McGillis, Anthony Edwards, Val Kilmer', 'Tony Scott')\n",
            "('Con Air', 1997, 'Action', 55, 'Nicolas Cage, John Cusack, John Malkovich, Steve Buscemi', 'Simon West')\n",
            "('The Expendables 2', 2012, 'Action', 67, 'Sylvester Stallone, Jason Statham, Jet Li, Dolph Lundgren', 'Simon West')\n",
            "('The Mummy', 1999, 'Action', 61, 'Brendan Fraser, Rachel Weisz, John Hannah, Arnold Vosloo', 'Stephen Sommers')\n",
            "('Mr. & Mrs. Smith', 2005, 'Action', 60, 'Brad Pitt, Angelina Jolie, Vince Vaughn, Adam Brody', 'Doug Liman')\n",
            "('Rush Hour', 1998, 'Action', 61, 'Jackie Chan, Chris Tucker, Tom Wilkinson, Elizabeth Peña', 'Brett Ratner')\n",
            "('The Equalizer', 2014, 'Action', 60, 'Denzel Washington, Marton Csokas, Chloë Grace Moretz, David Harbour', 'Antoine Fuqua')\n",
            "('Captain America: Civil War', 2016, 'Action', 90, 'Chris Evans, Robert Downey Jr., Scarlett Johansson, Sebastian Stan', 'Anthony Russo')\n",
            "('Air Force One', 1997, 'Action', 78, 'Harrison Ford, Gary Oldman, Glenn Close, Wendy Crewson', 'Wolfgang Petersen')\n",
            "('Bloodsport', 1988, 'Action', 46, 'Jean-Claude Van Damme, Donald Gibb, Leah Ayres, Norman Burton', 'Newt Arnold')\n",
            "('Blade', 1998, 'Action', 57, \"Wesley Snipes, Stephen Dorff, Kris Kristofferson, N'Bushe Wright\", 'Stephen Norrington')\n",
            "('Bad Boys', 1995, 'Action', 42, 'Martin Lawrence, Will Smith, Tea Leoni, Tcheky Karyo', 'Michael Bay')\n",
            "('Die Hard With a Vengeance', 1995, 'Action', 59, 'Bruce Willis, Jeremy Irons, Samuel L. Jackson, Graham Greene', 'John McTiernan')\n",
            "('The Running Man', 1987, 'Action', 66, 'Arnold Schwarzenegger, Maria Conchita Alonso, Richard Dawson, Yaphet Kotto', 'Paul Michael Glaser')\n",
            "('Code of Silence', 1985, 'Action', 70, 'Chuck Norris, Henry Silva, Bert Remsen, Mike Genovese', 'Andrew Davis')\n",
            "(\"Shoot 'Em Up\", 2007, 'Action', 67, 'Clive Owen, Paul Giamatti, Monica Bellucci, Daniel Pilon', 'Michael Davis')\n",
            "('Crank', 2006, 'Action', 61, 'Jason Statham, Amy Smart, Jose Pablo Cantillo, Efren Ramirez', 'Mark Neveldine')\n",
            "('Machete', 2010, 'Action', 72, 'Danny Trejo, Robert De Niro, Jessica Alba, Steven Seagal', 'Robert Rodriguez')\n",
            "('Drive', 2011, 'Action', 93, 'Ryan Gosling, Carey Mulligan, Bryan Cranston, Albert Brooks', 'Nicolas Winding Refn')\n",
            "('Batman', 1989, 'Action', 72, 'Jack Nicholson, Michael Keaton, Kim Basinger, Robert Wuhl', 'Tim Burton')\n",
            "('Under Siege', 1992, 'Action', 79, 'Steven Seagal, Tommy Lee Jones, Gary Busey, Erika Eleniak', 'Andrew Davis')\n",
            "('Independence Day', 1996, 'Action', 67, 'Will Smith, Bill Pullman, Jeff Goldblum, Mary McDonnell', 'Roland Emmerich')\n",
            "('Bullitt', 1968, 'Action', 98, 'Steve McQueen, Robert Vaughn, Jacqueline Bisset, Don Gordon', 'Peter Yates')\n",
            "('Wanted', 2008, 'Action', 71, 'James McAvoy, Morgan Freeman, Angelina Jolie, Terence Stamp', 'Timur Bekmambetov')\n",
            "('Superman: The Movie', 1978, 'Action', 94, 'Christopher Reeve, Gene Hackman, Marlon Brando, Margot Kidder', 'Richard Donner')\n",
            "('Ronin', 1998, 'Action', 69, 'Robert De Niro, Jean Reno, Natascha McElhone, Stellan Skarsgard', 'John Frankenheimer')\n",
            "('They Live', 1988, 'Action', 85, 'Roddy Piper, Keith David, Meg Foster, George \"Buck\" Flower', 'John Carpenter')\n",
            "('Cliffhanger', 1993, 'Action', 67, 'Sylvester Stallone, John Lithgow, Michael Rooker, Janine Turner', 'Renny Harlin')\n",
            "(\"Marvel's the Avengers\", 2012, 'Action', 91, 'Robert Downey Jr., Chris Evans, Mark Ruffalo, Chris Hemsworth', 'Joss Whedon')\n",
            "('Hot Fuzz', 2007, 'Action', 91, 'Simon Pegg, Nick Frost, Jim Broadbent, Paddy Considine', 'Edgar Wright')\n",
            "('The Warriors', 1979, 'Action', 87, 'Michael Beck, James Remar, Dorsey Wright, Brian Tyler', 'Walter Hill')\n",
            "('Starship Troopers', 1997, 'Action', 66, 'Casper Van Dien, Dina Meyer, Denise Richards, Jake Busey', 'Paul Verhoeven')\n",
            "('Elite Squad 2', 2010, 'Action', 91, 'Wagner Moura, Irandhir Santos, André Ramiro, Pedro Van-Held', 'José Padilha')\n",
            "('Point Break', 1991, 'Action', 69, 'Patrick Swayze, Keanu Reeves, Gary Busey, Lori Petty', 'Kathryn Bigelow')\n",
            "('The Long Kiss Goodnight', 1996, 'Action', 68, 'Geena Davis, Samuel L. Jackson, Patrick Malahide, Craig Bierko', 'Renny Harlin')\n",
            "('The Guest', 2014, 'Action', 92, 'Dan Stevens, Maika Monroe, Leland Orser, Sheila Kelley', 'Adam Wingard')\n",
            "('Taken', 2008, 'Action', 59, 'Liam Neeson, Maggie Grace, Famke Janssen, Leland Orser', 'Pierre Morel')\n",
            "('300', 2006, 'Action', 61, 'Gerard Butler, Lena Headey, David Wenham, Dominic West', 'Zack Snyder')\n",
            "('True Lies', 1994, 'Action', 69, 'Arnold Schwarzenegger, Jamie Lee Curtis, Tom Arnold, Bill Paxton', 'James Cameron')\n",
            "('Demolition Man', 1993, 'Action', 62, 'Sylvester Stallone, Wesley Snipes, Sandra Bullock, Nigel Hawthorne', 'Marco Brambilla')\n",
            "('Hardcore Henry', 2015, 'Action', 51, 'Sharlto Copley, Danila Kozlovsky, Haley Bennett, Dasha Charusha', 'Ilya Naishuller')\n",
            "('Police Story', 1985, 'Action', 93, 'Jackie Chan, Brigitte Lin, Maggie Cheung, Bill Tung', 'Jackie Chan')\n",
            "('Brotherhood of the Wolf', 2001, 'Action', 73, 'Samuel Le Bihan, Mark Dacascos, Émilie Dequenne, Vincent Cassel', 'Christophe Gans')\n",
            "('Kingsman: The Secret Service', 2014, 'Action', 75, 'Colin Firth, Michael Caine, Taron Egerton, Samuel L. Jackson', 'Matthew Vaughn')\n",
            "('The Fifth Element', 1997, 'Action', 70, 'Bruce Willis, Gary Oldman, Ian Holm, Milla Jovovich', 'Luc Besson')\n",
            "('Big Trouble in Little China', 1986, 'Action', 75, 'Kurt Russell, Kim Cattrall, Dennis Dun, James Hong', 'John Carpenter')\n",
            "('Atomic Blonde', 2017, 'Action', 79, 'Charlize Theron, James McAvoy, Eddie Marsan, John Goodman', 'David Leitch')\n",
            "('Rumble in the Bronx', 1995, 'Action', 80, 'Jackie Chan, Anita Mui, Bill Tung, Françoise Yip', 'Stanley Tong')\n",
            "('District B13', 2004, 'Action', 80, \"Cyril Raffaelli, David Belle, Tony D'Amario, Larbi Naceri\", 'Pierre Morel')\n",
            "('Beverly Hills Cop', 1984, 'Action', 83, 'Eddie Murphy, Judge Reinhold, John Ashton, Lisa Eilbacher', 'Martin Brest')\n",
            "('Ong-Bak: The Thai Warrior', 2003, 'Action', 85, 'Tony Jaa, Pumwaree Yodkamol, Petchtai Wongkamlao, Suchao Pongwilai', 'Prachya Pinkaew')\n",
            "('Collateral', 2004, 'Action', 86, 'Tom Cruise, Jamie Foxx, Jada Pinkett Smith, Mark Ruffalo', 'Michael Mann')\n",
            "('Iron Monkey', 1993, 'Action', 91, 'Rongguang Yu, Donnie Yen, Sze-Man Tsang, Jean Wang', 'Woo-Ping Yuen')\n",
            "('Escape From New York', 1981, 'Action', 85, 'Kurt Russell, Ernest Borgnine, Adrienne Barbeau, Lee Van Cleef', 'John Carpenter')\n",
            "('Battle Royale', 2000, 'Action', 88, 'Tatsuya Fujiwara, Aki Maeda, Taro Yamamoto, Masanobu Andô', 'Kinji Fukasaku')\n",
            "('Spider-Man 2', 2004, 'Action', 93, 'Tobey Maguire, Kirsten Dunst, James Franco, Alfred Molina', 'Sam Raimi')\n",
            "('13 Assassins', 2010, 'Action', 95, 'Koji Yakusho, Takayuki Yamada, Yusuke Iseya, Goro Inagaki', 'Takashi Miike')\n",
            "('Full Contact', 1992, 'Action', 88, 'Chow Yun-Fat, Simon Yam, Bonnie Fu, Wong Chow-Sang', 'Ringo Lam')\n",
            "('Indiana Jones and the Last Crusade', 1989, 'Action', 88, 'Harrison Ford, Sean Connery, Denholm Elliott, Alison Doody', 'Steven Spielberg')\n",
            "('Kung Fu Hustle', 2004, 'Action', 90, 'Stephen Chow, Yuen Wah, Yuen Qiu, Siu-Lung Leung', 'Stephen Chow')\n",
            "('A Better Tomorrow', 1986, 'Action', 93, 'Ti Lung, Chow Yun-Fat, Leslie Cheung, Emily Chu', 'John Woo')\n",
            "('Iron Man', 2008, 'Action', 94, 'Robert Downey Jr., Terrence Howard, Gwyneth Paltrow, Jeff Bridges', 'Jon Favreau')\n",
            "('The Night Comes for Us', 2018, 'Action', 91, 'Joe Taslim, Iko Uwais, Julie Estelle, Sunny Pang', 'Timo Tjahjanto')\n",
            "('Logan', 2017, 'Action', 94, 'Hugh Jackman, Patrick Stewart, Dafne Keen, Richard E. Grant', 'James Mangold')\n",
            "('Goldfinger', 1964, 'Action', 99, 'Sean Connery, Gert Frobe, Honor Blackman, Shirley Eaton', 'Guy Hamilton')\n",
            "('Assault on Precinct 13', 1976, 'Action', 95, 'Austin Stoker, Darwin Joston, Laurie Zimmer, Martin West', 'John Carpenter')\n",
            "('Wonder Woman', 2017, 'Action', 93, 'Gal Gadot, Chris Pine, Connie Nielsen, Robin Wright', 'Patty Jenkins')\n",
            "('The Chinese Connection', 1972, 'Action', 83, 'Bruce Lee, Miao Ker Hsiu, James Tien, Robert Baker', 'Lo Wei')\n",
            "('Captain America: The Winter Soldier', 2014, 'Action', 90, 'Chris Evans, Scarlett Johansson, Samuel L. Jackson, Sebastian Stan', 'Anthony Russo')\n",
            "('Oldboy', 2003, 'Action', 81, 'Choi Min-sik, Yoo Ji-tae, Kang Hye-jung, Ji Dae-han', 'Park Chan-wook')\n",
            "('The French Connection', 1971, 'Action', 97, 'Gene Hackman, Fernando Rey, Roy Scheider, Tony Lo Bianco', 'William Friedkin')\n",
            "('Furious 7', 2015, 'Action', 82, 'Vin Diesel, Paul Walker, Dwayne Johnson, Michelle Rodriguez', 'James Wan')\n",
            "('La Femme Nikita', 1990, 'Action', 89, 'Anne Parillaud, Jean-Hugues Anglade, Tcheky Karyo, Jeanne Moreau', 'Luc Besson')\n",
            "('Supercop', 1992, 'Action', 96, 'Jackie Chan, Michelle Yeaoh, Maggie Cheung, Ken Tsang', 'Stanley Tong')\n",
            "('Dirty Harry', 1971, 'Action', 88, 'Clint Eastwood, Harry Guardino, Reni Santoni, John Larch', 'Don Siegel')\n",
            "('Edge of Tomorrow', 2014, 'Action', 91, 'Tom Cruise, Emily Blunt, Brendan Gleeson, Bill Paxton', 'Doug Liman')\n",
            "('X2', 2003, 'Action', 85, 'Patrick Stewart, Hugh Jackman, Ian McKellen, Halle Berry', 'Bryan Singer')\n",
            "('The Fugitive', 1993, 'Action', 96, 'Harrison Ford, Tommy Lee Jones, Sela Ward, Julianne Moore', 'Andrew Davis')\n",
            "('Black Panther', 2018, 'Action', 96, \"Chadwick Boseman, Michael B. Jordan, Lupita Nyong'o, Danai Gurira\", 'Ryan Coogler')\n",
            "('Inception', 2010, 'Action', 87, 'Leonardo DiCaprio, Joseph Gordon-Levitt, Ellen Page, Tom Hardy', 'Christopher Nolan')\n",
            "('Braveheart', 1995, 'Action', 76, 'Mel Gibson, Sophie Marceau, Patrick McGoohan, Catherine McCormack', 'Mel Gibson')\n",
            "('Minority Report', 2002, 'Action', 90, 'Tom Cruise, Colin Farrell, Samantha Morton, Max von Sydow', 'Steven Spielberg')\n",
            "('Avengers: Endgame', 2019, 'Action', 94, 'Robert Downey Jr., Chris Evans, Mark Ruffalo, Chris Hemsworth', 'Anthony Russo')\n",
            "('Dredd', 2012, 'Action', 79, 'Karl Urban, Olivia Thirlby, Lena Headey, Wood Harris', 'Pete Travis')\n",
            "('The Bourne Identity', 2002, 'Action', 84, 'Matt Damon, Franka Potente, Chris Cooper, Clive Owen', 'Doug Liman')\n",
            "('Ip Man', 2008, 'Action', 86, 'Donnie Yen, Simon Yam, Siu-wong Fan, Ka Tung Lam', 'Wilson Yip')\n",
            "('Face/Off', 1997, 'Action', 92, 'John Travolta, Nicolas Cage, Joan Allen, Alessandro Nivola', 'John Woo')\n",
            "('To Live and Die in L.A.', 1985, 'Action', 85, 'William L. Petersen, Willem Dafoe, John Pankow, Debra Feuer', 'William Friedkin')\n",
            "('The Dark Knight', 2008, 'Action', 94, 'Christian Bale, Heath Ledger, Aaron Eckhart, Michael Caine', 'Christopher Nolan')\n",
            "('Mission: Impossible -- Ghost Protocol', 2011, 'Action', 93, 'Tom Cruise, Jeremy Renner, Simon Pegg, Paula Patton', 'Brad Bird')\n",
            "('Fast Five', 2011, 'Action', 77, 'Vin Diesel, Paul Walker, Jordana Brewster, Tyrese Gibson', 'Justin Lin')\n",
            "('Lethal Weapon', 1987, 'Action', 80, 'Mel Gibson, Danny Glover, Gary Busey, Mitchell Ryan', 'Richard Donner')\n",
            "('The Rock', 1996, 'Action', 68, 'Sean Connery, Nicolas Cage, Ed Harris, Michael Biehn', 'Michael Bay')\n",
            "('RoboCop', 1987, 'Action', 91, \"Peter Weller, Nancy Allen, Ronny Cox, Daniel O'Herlihy\", 'Paul Verhoeven')\n",
            "('John Wick: Chapter 2', 2017, 'Action', 89, 'Keanu Reeves, Common, Laurence Fishburne, Riccardo Scamarcio', 'Chad Stahelski')\n",
            "('Casino Royale', 2006, 'Action', 94, 'Daniel Craig, Eva Green, Mads Mikkelsen, Judi Dench', 'Martin Campbell')\n",
            "('Baby Driver', 2017, 'Action', 92, 'Ansel Elgort, Kevin Spacey, Lily James, Jon Bernthal', 'Edgar Wright')\n",
            "('Fist of Legend', 1994, 'Action', 100, 'Jet Li, Chin Siu Ho, Billy Chow, Yasuaki Kurata', 'Gordon Chan')\n",
            "('The Killer', 1989, 'Action', 98, 'Chow Yun-Fat, Danny Lee, Sally Yeh, Kenneth Tsang', 'John Woo')\n",
            "('The Raid 2', 2014, 'Action', 82, 'Iko Uwais, Yayan Ruhian, Arifin Putra, Oka Antara', 'Gareth Evans')\n",
            "('Enter the Dragon', 1973, 'Action', 95, 'Bruce Lee, John Saxon, Jim Kelly, Ahna Capri', 'Robert Clouse')\n",
            "('Commando', 1985, 'Action', 69, 'Arnold Schwarzenegger, Rae Dawn Chong, Dan Hedaya, Vernon Wells', 'Mark L. Lester')\n",
            "('First Blood', 1982, 'Action', 87, 'Sylvester Stallone, Richard Crenna, Brian Dennehy, David Caruso', 'Ted Kotcheff')\n",
            "('Mission: Impossible Rogue Nation', 2015, 'Action', 94, 'Tom Cruise, Jeremy Renner, Simon Pegg, Rebecca Ferguson', 'Christopher McQuarrie')\n",
            "('The Terminator', 1984, 'Action', 100, 'Arnold Schwarzenegger, Linda Hamilton, Michael Biehn, Paul Winfield', 'James Cameron')\n",
            "('Gladiator', 2000, 'Action', 78, 'Russell Crowe, Joaquin Phoenix, Connie Nielsen, Oliver Reed', 'Ridley Scott')\n",
            "('Kill Bill: Vol. 1', 2003, 'Action', 85, 'Uma Thurman, Lucy Liu, Vivica A. Fox, Michael Madsen', 'Quentin Tarantino')\n",
            "('The Professional', 1994, 'Action', 73, 'Jean Reno, Gary Oldman, Natalie Portman, Danny Aiello', 'Luc Besson')\n",
            "('Speed', 1994, 'Action', 94, 'Keanu Reeves, Dennis Hopper, Sandra Bullock, Joe Morton', 'Jan de Bont')\n",
            "('Drunken Master II', 1994, 'Action', 84, 'Jackie Chan, Ti Lung, Anita Mui, Kar-leung Lau', 'Chia-Liang Liu')\n",
            "('John Wick', 2014, 'Action', 86, 'Keanu Reeves, Michael Nyqvist, Alfie Allen, Willem Dafoe', 'Chad Stahelski')\n",
            "('Crouching Tiger, Hidden Dragon', 2000, 'Action', 97, 'Chow Yun-Fat, Michelle Yeoh, Zhang Ziyi, Chen Chang', 'Ang Lee')\n",
            "('Predator', 1987, 'Action', 80, 'Arnold Schwarzenegger, Carl Weathers, Jesse Ventura, Elpidia Carrillo', 'John McTiernan')\n",
            "('The Bourne Ultimatum', 2007, 'Action', 92, 'Matt Damon, Julia Stiles, Joan Allen, David Strathairn', 'Paul Greengrass')\n",
            "('Total Recall', 1990, 'Action', 82, 'Arnold Schwarzenegger, Rachel Ticotin, Sharon Stone, Ronny Cox', 'Paul Verhoeven')\n",
            "('Mad Max 2', 1981, 'Action', 94, 'Mel Gibson, Bruce Spence, Emil Minty, Vernon Wells', 'George Miller')\n",
            "('Heat', 1995, 'Action', 88, 'Al Pacino, Robert De Niro, Val Kilmer, Jon Voight', 'Michael Mann')\n",
            "('The Raid: Redemption', 2011, 'Action', 87, 'Iko Uwais, Joe Taslim, Doni Alamsyah, Yayan Ruhian', 'Gareth Huw Evans')\n",
            "('Mission: Impossible -- Fallout', 2018, 'Action', 97, 'Tom Cruise, Henry Cavill, Ving Rhames, Simon Pegg', 'Christopher McQuarrie')\n",
            "('Raiders of the Lost Ark', 1981, 'Action', 95, 'Harrison Ford, Karen Allen, Paul Freeman, Wolf Kahler', 'Steven Spielberg')\n",
            "('Aliens', 1986, 'Action', 97, 'Sigourney Weaver, Carrie Henn, Michael Biehn, Paul Reiser', 'James Cameron')\n",
            "('Hard-Boiled', 1992, 'Action', 94, 'Chow Yun-Fat, Bowie Lam, Philip Chan, Tony Leung Chiu Wai', 'John Woo')\n",
            "('The Matrix', 1999, 'Action', 88, 'Keanu Reeves, Laurence Fishburne, Carrie-Anne Moss, Hugo Weaving', 'Andy Wachowski')\n",
            "('Terminator 2: Judgment Day', 1991, 'Action', 93, 'Arnold Schwarzenegger, Linda Hamilton, Edward Furlong, Robert Patrick', 'James Cameron')\n",
            "('Die Hard', 1988, 'Action', 94, 'Bruce Willis, Alan Rickman, Bonnie Bedelia, Reginald VelJohnson', 'John McTiernan')\n",
            "('Mad Max: Fury Road', 2015, 'Action', 97, 'Tom Hardy, Charlize Theron, Nicholas Hoult, Hugh Keays-Byrne', 'George Miller')\n"
          ]
        }
      ],
      "source": [
        "import sqlite3\n",
        "conn = sqlite3.connect('movies_database')\n",
        "c = conn.cursor()\n",
        "\n",
        "movies.to_sql('movies', conn,if_exists='replace', index = False)\n",
        "\n",
        "c.execute(''' select * from movies ''')\n",
        "\n",
        "for row in c.fetchall():\n",
        "    print (row)"
      ]
    },
    {
      "cell_type": "markdown",
      "metadata": {
        "id": "XdfDJon7Gy18"
      },
      "source": [
        "Importing pymongo and saved the movies document, then generated ER diagram/graph using moon moduler"
      ]
    },
    {
      "cell_type": "code",
      "execution_count": null,
      "metadata": {
        "id": "_nZA2lSnElVq"
      },
      "outputs": [],
      "source": [
        "import pymongo\n",
        "import json"
      ]
    },
    {
      "cell_type": "code",
      "execution_count": null,
      "metadata": {
        "id": "-zGDGSK8Eld8"
      },
      "outputs": [],
      "source": [
        "client = pymongo.MongoClient(\"mongodb://localhost:27017\")"
      ]
    },
    {
      "cell_type": "code",
      "execution_count": null,
      "metadata": {
        "id": "HQUIqbK7Elgo"
      },
      "outputs": [],
      "source": [
        "df = pd.read_csv(\"movies.csv\")"
      ]
    },
    {
      "cell_type": "code",
      "execution_count": null,
      "metadata": {
        "colab": {
          "base_uri": "https://localhost:8080/",
          "height": 206
        },
        "id": "MUHEgEyEEtR6",
        "outputId": "abdae67b-d6ef-4ed6-943f-1eea76b29c7c"
      },
      "outputs": [
        {
          "data": {
            "text/html": [
              "<div>\n",
              "<style scoped>\n",
              "    .dataframe tbody tr th:only-of-type {\n",
              "        vertical-align: middle;\n",
              "    }\n",
              "\n",
              "    .dataframe tbody tr th {\n",
              "        vertical-align: top;\n",
              "    }\n",
              "\n",
              "    .dataframe thead th {\n",
              "        text-align: right;\n",
              "    }\n",
              "</style>\n",
              "<table border=\"1\" class=\"dataframe\">\n",
              "  <thead>\n",
              "    <tr style=\"text-align: right;\">\n",
              "      <th></th>\n",
              "      <th>Title</th>\n",
              "      <th>Year</th>\n",
              "      <th>Genre</th>\n",
              "      <th>Rating</th>\n",
              "      <th>cast</th>\n",
              "      <th>Director</th>\n",
              "    </tr>\n",
              "  </thead>\n",
              "  <tbody>\n",
              "    <tr>\n",
              "      <th>135</th>\n",
              "      <td>Hard-Boiled</td>\n",
              "      <td>1992</td>\n",
              "      <td>Action</td>\n",
              "      <td>94</td>\n",
              "      <td>Chow Yun-Fat, Bowie Lam, Philip Chan, Tony Leu...</td>\n",
              "      <td>John Woo</td>\n",
              "    </tr>\n",
              "    <tr>\n",
              "      <th>136</th>\n",
              "      <td>The Matrix</td>\n",
              "      <td>1999</td>\n",
              "      <td>Action</td>\n",
              "      <td>88</td>\n",
              "      <td>Keanu Reeves, Laurence Fishburne, Carrie-Anne ...</td>\n",
              "      <td>Andy Wachowski</td>\n",
              "    </tr>\n",
              "    <tr>\n",
              "      <th>137</th>\n",
              "      <td>Terminator 2: Judgment Day</td>\n",
              "      <td>1991</td>\n",
              "      <td>Action</td>\n",
              "      <td>93</td>\n",
              "      <td>Arnold Schwarzenegger, Linda Hamilton, Edward ...</td>\n",
              "      <td>James Cameron</td>\n",
              "    </tr>\n",
              "    <tr>\n",
              "      <th>138</th>\n",
              "      <td>Die Hard</td>\n",
              "      <td>1988</td>\n",
              "      <td>Action</td>\n",
              "      <td>94</td>\n",
              "      <td>Bruce Willis, Alan Rickman, Bonnie Bedelia, Re...</td>\n",
              "      <td>John McTiernan</td>\n",
              "    </tr>\n",
              "    <tr>\n",
              "      <th>139</th>\n",
              "      <td>Mad Max: Fury Road</td>\n",
              "      <td>2015</td>\n",
              "      <td>Action</td>\n",
              "      <td>97</td>\n",
              "      <td>Tom Hardy, Charlize Theron, Nicholas Hoult, Hu...</td>\n",
              "      <td>George Miller</td>\n",
              "    </tr>\n",
              "  </tbody>\n",
              "</table>\n",
              "</div>"
            ],
            "text/plain": [
              "                          Title  Year   Genre  Rating  \\\n",
              "135                 Hard-Boiled  1992  Action      94   \n",
              "136                  The Matrix  1999  Action      88   \n",
              "137  Terminator 2: Judgment Day  1991  Action      93   \n",
              "138                    Die Hard  1988  Action      94   \n",
              "139          Mad Max: Fury Road  2015  Action      97   \n",
              "\n",
              "                                                  cast        Director  \n",
              "135  Chow Yun-Fat, Bowie Lam, Philip Chan, Tony Leu...        John Woo  \n",
              "136  Keanu Reeves, Laurence Fishburne, Carrie-Anne ...  Andy Wachowski  \n",
              "137  Arnold Schwarzenegger, Linda Hamilton, Edward ...   James Cameron  \n",
              "138  Bruce Willis, Alan Rickman, Bonnie Bedelia, Re...  John McTiernan  \n",
              "139  Tom Hardy, Charlize Theron, Nicholas Hoult, Hu...   George Miller  "
            ]
          },
          "execution_count": 26,
          "metadata": {},
          "output_type": "execute_result"
        }
      ],
      "source": [
        "df.tail()"
      ]
    },
    {
      "cell_type": "code",
      "execution_count": null,
      "metadata": {
        "colab": {
          "base_uri": "https://localhost:8080/"
        },
        "id": "_idnVPljEtUl",
        "outputId": "513a773d-b789-4b9f-feb4-7518d0ce9be6"
      },
      "outputs": [
        {
          "data": {
            "text/plain": [
              "(140, 6)"
            ]
          },
          "execution_count": 27,
          "metadata": {},
          "output_type": "execute_result"
        }
      ],
      "source": [
        "df.shape"
      ]
    },
    {
      "cell_type": "code",
      "execution_count": null,
      "metadata": {
        "id": "_kkCOs-jEtXP"
      },
      "outputs": [],
      "source": [
        "data = df.to_dict(orient = \"records\")"
      ]
    },
    {
      "cell_type": "code",
      "execution_count": null,
      "metadata": {
        "colab": {
          "base_uri": "https://localhost:8080/"
        },
        "id": "gvlAvoWZEzLH",
        "outputId": "2a9af4b0-330b-41e7-b2f3-6e6406f9268b"
      },
      "outputs": [
        {
          "data": {
            "text/plain": [
              "[{'Title': 'Running Scared',\n",
              "  'Year': 1986,\n",
              "  'Genre': 'Action',\n",
              "  'Rating': 59,\n",
              "  'cast': 'Gregory Hines, Billy Crystal, Jimmy Smits, Steven Bauer',\n",
              "  'Director': 'Peter Hyams'},\n",
              " {'Title': 'Equilibrium',\n",
              "  'Year': 2002,\n",
              "  'Genre': 'Action',\n",
              "  'Rating': 41,\n",
              "  'cast': 'Christian Bale, Emily Watson, Taye Diggs, Angus Macfadyen',\n",
              "  'Director': 'Kurt Wimmer'},\n",
              " {'Title': 'Hero',\n",
              "  'Year': 2002,\n",
              "  'Genre': 'Action',\n",
              "  'Rating': 94,\n",
              "  'cast': 'Jet Li, Tony Leung Chiu Wai, Maggie Cheung Man-yuk, Donnie Yen',\n",
              "  'Director': 'Zhang Yimou'},\n",
              " {'Title': 'Road House',\n",
              "  'Year': 1989,\n",
              "  'Genre': 'Action',\n",
              "  'Rating': 37,\n",
              "  'cast': 'Patrick Swayze, Kelly Lynch, Sam Elliott, Ben Gazzara',\n",
              "  'Director': 'Rowdy Herrington'},\n",
              " {'Title': 'Unstoppable',\n",
              "  'Year': 2010,\n",
              "  'Genre': 'Action',\n",
              "  'Rating': 87,\n",
              "  'cast': 'Denzel Washington, Chris Pine, Rosario Dawson, Kevin Dunn',\n",
              "  'Director': 'Tony Scott'},\n",
              " {'Title': 'Shaft',\n",
              "  'Year': 1971,\n",
              "  'Genre': 'Action',\n",
              "  'Rating': 86,\n",
              "  'cast': 'Richard Roundtree, Moses Gunn, Christopher St. John, Charles Cioffi',\n",
              "  'Director': 'Gordon Parks'},\n",
              " {'Title': 'The Villainess',\n",
              "  'Year': 2017,\n",
              "  'Genre': 'Action',\n",
              "  'Rating': 85,\n",
              "  'cast': 'Kim Ok-bin, Shin Ha-kyun, Sung Joon, Kim Seo-hyung',\n",
              "  'Director': 'Jeong Byeong-gil'},\n",
              " {'Title': 'Highlander',\n",
              "  'Year': 1986,\n",
              "  'Genre': 'Action',\n",
              "  'Rating': 70,\n",
              "  'cast': 'Christopher Lambert, Sean Connery, Roxanne Hart, Clancy Brown',\n",
              "  'Director': 'Russell Mulcahy'},\n",
              " {'Title': 'Die Hard 2',\n",
              "  'Year': 1990,\n",
              "  'Genre': 'Action',\n",
              "  'Rating': 69,\n",
              "  'cast': 'Bruce Willis, Bonnie Bedelia, William Atherton, Reginald VelJohnson',\n",
              "  'Director': 'Renny Harlin'},\n",
              " {'Title': 'National Treasure',\n",
              "  'Year': 2004,\n",
              "  'Genre': 'Action',\n",
              "  'Rating': 46,\n",
              "  'cast': 'Nicolas Cage, Diane Kruger, Justin Bartha, Sean Bean',\n",
              "  'Director': 'Jon Turteltaub'},\n",
              " {'Title': 'The Protector',\n",
              "  'Year': 2005,\n",
              "  'Genre': 'Action',\n",
              "  'Rating': 53,\n",
              "  'cast': 'Tony Jaa, Johnny Nguyen, Nathan Jones, Petchtai Wongkamlao',\n",
              "  'Director': 'Prachya Pinkaew'},\n",
              " {'Title': 'Revenge',\n",
              "  'Year': 2017,\n",
              "  'Genre': 'Action',\n",
              "  'Rating': 93,\n",
              "  'cast': 'Matilda Lutz, Kevin Janssens, Vincent Colombe, Guillaume Bouchède',\n",
              "  'Director': 'Coralie Fargeat'},\n",
              " {'Title': 'El Mariachi',\n",
              "  'Year': 1992,\n",
              "  'Genre': 'Action',\n",
              "  'Rating': 91,\n",
              "  'cast': 'Carlos Gallardo, Consuelo Gómez, Reinol Martinez, Peter Marquardt',\n",
              "  'Director': 'Robert Rodriguez'},\n",
              " {'Title': 'A Touch of Zen',\n",
              "  'Year': 1971,\n",
              "  'Genre': 'Action',\n",
              "  'Rating': 97,\n",
              "  'cast': 'Feng Hsu, Chun Shih, Pai Ying, Roy Chiao',\n",
              "  'Director': 'King Hu'},\n",
              " {'Title': 'Top Gun',\n",
              "  'Year': 1986,\n",
              "  'Genre': 'Action',\n",
              "  'Rating': 56,\n",
              "  'cast': 'Tom Cruise, Kelly McGillis, Anthony Edwards, Val Kilmer',\n",
              "  'Director': 'Tony Scott'},\n",
              " {'Title': 'Con Air',\n",
              "  'Year': 1997,\n",
              "  'Genre': 'Action',\n",
              "  'Rating': 55,\n",
              "  'cast': 'Nicolas Cage, John Cusack, John Malkovich, Steve Buscemi',\n",
              "  'Director': 'Simon West'},\n",
              " {'Title': 'The Expendables 2',\n",
              "  'Year': 2012,\n",
              "  'Genre': 'Action',\n",
              "  'Rating': 67,\n",
              "  'cast': 'Sylvester Stallone, Jason Statham, Jet Li, Dolph Lundgren',\n",
              "  'Director': 'Simon West'},\n",
              " {'Title': 'The Mummy',\n",
              "  'Year': 1999,\n",
              "  'Genre': 'Action',\n",
              "  'Rating': 61,\n",
              "  'cast': 'Brendan Fraser, Rachel Weisz, John Hannah, Arnold Vosloo',\n",
              "  'Director': 'Stephen Sommers'},\n",
              " {'Title': 'Mr. & Mrs. Smith',\n",
              "  'Year': 2005,\n",
              "  'Genre': 'Action',\n",
              "  'Rating': 60,\n",
              "  'cast': 'Brad Pitt, Angelina Jolie, Vince Vaughn, Adam Brody',\n",
              "  'Director': 'Doug Liman'},\n",
              " {'Title': 'Rush Hour',\n",
              "  'Year': 1998,\n",
              "  'Genre': 'Action',\n",
              "  'Rating': 61,\n",
              "  'cast': 'Jackie Chan, Chris Tucker, Tom Wilkinson, Elizabeth Peña',\n",
              "  'Director': 'Brett Ratner'},\n",
              " {'Title': 'The Equalizer',\n",
              "  'Year': 2014,\n",
              "  'Genre': 'Action',\n",
              "  'Rating': 60,\n",
              "  'cast': 'Denzel Washington, Marton Csokas, Chloë Grace Moretz, David Harbour',\n",
              "  'Director': 'Antoine Fuqua'},\n",
              " {'Title': 'Captain America: Civil War',\n",
              "  'Year': 2016,\n",
              "  'Genre': 'Action',\n",
              "  'Rating': 90,\n",
              "  'cast': 'Chris Evans, Robert Downey Jr., Scarlett Johansson, Sebastian Stan',\n",
              "  'Director': 'Anthony Russo'},\n",
              " {'Title': 'Air Force One',\n",
              "  'Year': 1997,\n",
              "  'Genre': 'Action',\n",
              "  'Rating': 78,\n",
              "  'cast': 'Harrison Ford, Gary Oldman, Glenn Close, Wendy Crewson',\n",
              "  'Director': 'Wolfgang Petersen'},\n",
              " {'Title': 'Bloodsport',\n",
              "  'Year': 1988,\n",
              "  'Genre': 'Action',\n",
              "  'Rating': 46,\n",
              "  'cast': 'Jean-Claude Van Damme, Donald Gibb, Leah Ayres, Norman Burton',\n",
              "  'Director': 'Newt Arnold'},\n",
              " {'Title': 'Blade',\n",
              "  'Year': 1998,\n",
              "  'Genre': 'Action',\n",
              "  'Rating': 57,\n",
              "  'cast': \"Wesley Snipes, Stephen Dorff, Kris Kristofferson, N'Bushe Wright\",\n",
              "  'Director': 'Stephen Norrington'},\n",
              " {'Title': 'Bad Boys',\n",
              "  'Year': 1995,\n",
              "  'Genre': 'Action',\n",
              "  'Rating': 42,\n",
              "  'cast': 'Martin Lawrence, Will Smith, Tea Leoni, Tcheky Karyo',\n",
              "  'Director': 'Michael Bay'},\n",
              " {'Title': 'Die Hard With a Vengeance',\n",
              "  'Year': 1995,\n",
              "  'Genre': 'Action',\n",
              "  'Rating': 59,\n",
              "  'cast': 'Bruce Willis, Jeremy Irons, Samuel L. Jackson, Graham Greene',\n",
              "  'Director': 'John McTiernan'},\n",
              " {'Title': 'The Running Man',\n",
              "  'Year': 1987,\n",
              "  'Genre': 'Action',\n",
              "  'Rating': 66,\n",
              "  'cast': 'Arnold Schwarzenegger, Maria Conchita Alonso, Richard Dawson, Yaphet Kotto',\n",
              "  'Director': 'Paul Michael Glaser'},\n",
              " {'Title': 'Code of Silence',\n",
              "  'Year': 1985,\n",
              "  'Genre': 'Action',\n",
              "  'Rating': 70,\n",
              "  'cast': 'Chuck Norris, Henry Silva, Bert Remsen, Mike Genovese',\n",
              "  'Director': 'Andrew Davis'},\n",
              " {'Title': \"Shoot 'Em Up\",\n",
              "  'Year': 2007,\n",
              "  'Genre': 'Action',\n",
              "  'Rating': 67,\n",
              "  'cast': 'Clive Owen, Paul Giamatti, Monica Bellucci, Daniel Pilon',\n",
              "  'Director': 'Michael Davis'},\n",
              " {'Title': 'Crank',\n",
              "  'Year': 2006,\n",
              "  'Genre': 'Action',\n",
              "  'Rating': 61,\n",
              "  'cast': 'Jason Statham, Amy Smart, Jose Pablo Cantillo, Efren Ramirez',\n",
              "  'Director': 'Mark Neveldine'},\n",
              " {'Title': 'Machete',\n",
              "  'Year': 2010,\n",
              "  'Genre': 'Action',\n",
              "  'Rating': 72,\n",
              "  'cast': 'Danny Trejo, Robert De Niro, Jessica Alba, Steven Seagal',\n",
              "  'Director': 'Robert Rodriguez'},\n",
              " {'Title': 'Drive',\n",
              "  'Year': 2011,\n",
              "  'Genre': 'Action',\n",
              "  'Rating': 93,\n",
              "  'cast': 'Ryan Gosling, Carey Mulligan, Bryan Cranston, Albert Brooks',\n",
              "  'Director': 'Nicolas Winding Refn'},\n",
              " {'Title': 'Batman',\n",
              "  'Year': 1989,\n",
              "  'Genre': 'Action',\n",
              "  'Rating': 72,\n",
              "  'cast': 'Jack Nicholson, Michael Keaton, Kim Basinger, Robert Wuhl',\n",
              "  'Director': 'Tim Burton'},\n",
              " {'Title': 'Under Siege',\n",
              "  'Year': 1992,\n",
              "  'Genre': 'Action',\n",
              "  'Rating': 79,\n",
              "  'cast': 'Steven Seagal, Tommy Lee Jones, Gary Busey, Erika Eleniak',\n",
              "  'Director': 'Andrew Davis'},\n",
              " {'Title': 'Independence Day',\n",
              "  'Year': 1996,\n",
              "  'Genre': 'Action',\n",
              "  'Rating': 67,\n",
              "  'cast': 'Will Smith, Bill Pullman, Jeff Goldblum, Mary McDonnell',\n",
              "  'Director': 'Roland Emmerich'},\n",
              " {'Title': 'Bullitt',\n",
              "  'Year': 1968,\n",
              "  'Genre': 'Action',\n",
              "  'Rating': 98,\n",
              "  'cast': 'Steve McQueen, Robert Vaughn, Jacqueline Bisset, Don Gordon',\n",
              "  'Director': 'Peter Yates'},\n",
              " {'Title': 'Wanted',\n",
              "  'Year': 2008,\n",
              "  'Genre': 'Action',\n",
              "  'Rating': 71,\n",
              "  'cast': 'James McAvoy, Morgan Freeman, Angelina Jolie, Terence Stamp',\n",
              "  'Director': 'Timur Bekmambetov'},\n",
              " {'Title': 'Superman: The Movie',\n",
              "  'Year': 1978,\n",
              "  'Genre': 'Action',\n",
              "  'Rating': 94,\n",
              "  'cast': 'Christopher Reeve, Gene Hackman, Marlon Brando, Margot Kidder',\n",
              "  'Director': 'Richard Donner'},\n",
              " {'Title': 'Ronin',\n",
              "  'Year': 1998,\n",
              "  'Genre': 'Action',\n",
              "  'Rating': 69,\n",
              "  'cast': 'Robert De Niro, Jean Reno, Natascha McElhone, Stellan Skarsgard',\n",
              "  'Director': 'John Frankenheimer'},\n",
              " {'Title': 'They Live',\n",
              "  'Year': 1988,\n",
              "  'Genre': 'Action',\n",
              "  'Rating': 85,\n",
              "  'cast': 'Roddy Piper, Keith David, Meg Foster, George \"Buck\" Flower',\n",
              "  'Director': 'John Carpenter'},\n",
              " {'Title': 'Cliffhanger',\n",
              "  'Year': 1993,\n",
              "  'Genre': 'Action',\n",
              "  'Rating': 67,\n",
              "  'cast': 'Sylvester Stallone, John Lithgow, Michael Rooker, Janine Turner',\n",
              "  'Director': 'Renny Harlin'},\n",
              " {'Title': \"Marvel's the Avengers\",\n",
              "  'Year': 2012,\n",
              "  'Genre': 'Action',\n",
              "  'Rating': 91,\n",
              "  'cast': 'Robert Downey Jr., Chris Evans, Mark Ruffalo, Chris Hemsworth',\n",
              "  'Director': 'Joss Whedon'},\n",
              " {'Title': 'Hot Fuzz',\n",
              "  'Year': 2007,\n",
              "  'Genre': 'Action',\n",
              "  'Rating': 91,\n",
              "  'cast': 'Simon Pegg, Nick Frost, Jim Broadbent, Paddy Considine',\n",
              "  'Director': 'Edgar Wright'},\n",
              " {'Title': 'The Warriors',\n",
              "  'Year': 1979,\n",
              "  'Genre': 'Action',\n",
              "  'Rating': 87,\n",
              "  'cast': 'Michael Beck, James Remar, Dorsey Wright, Brian Tyler',\n",
              "  'Director': 'Walter Hill'},\n",
              " {'Title': 'Starship Troopers',\n",
              "  'Year': 1997,\n",
              "  'Genre': 'Action',\n",
              "  'Rating': 66,\n",
              "  'cast': 'Casper Van Dien, Dina Meyer, Denise Richards, Jake Busey',\n",
              "  'Director': 'Paul Verhoeven'},\n",
              " {'Title': 'Elite Squad 2',\n",
              "  'Year': 2010,\n",
              "  'Genre': 'Action',\n",
              "  'Rating': 91,\n",
              "  'cast': 'Wagner Moura, Irandhir Santos, André Ramiro, Pedro Van-Held',\n",
              "  'Director': 'José Padilha'},\n",
              " {'Title': 'Point Break',\n",
              "  'Year': 1991,\n",
              "  'Genre': 'Action',\n",
              "  'Rating': 69,\n",
              "  'cast': 'Patrick Swayze, Keanu Reeves, Gary Busey, Lori Petty',\n",
              "  'Director': 'Kathryn Bigelow'},\n",
              " {'Title': 'The Long Kiss Goodnight',\n",
              "  'Year': 1996,\n",
              "  'Genre': 'Action',\n",
              "  'Rating': 68,\n",
              "  'cast': 'Geena Davis, Samuel L. Jackson, Patrick Malahide, Craig Bierko',\n",
              "  'Director': 'Renny Harlin'},\n",
              " {'Title': 'The Guest',\n",
              "  'Year': 2014,\n",
              "  'Genre': 'Action',\n",
              "  'Rating': 92,\n",
              "  'cast': 'Dan Stevens, Maika Monroe, Leland Orser, Sheila Kelley',\n",
              "  'Director': 'Adam Wingard'},\n",
              " {'Title': 'Taken',\n",
              "  'Year': 2008,\n",
              "  'Genre': 'Action',\n",
              "  'Rating': 59,\n",
              "  'cast': 'Liam Neeson, Maggie Grace, Famke Janssen, Leland Orser',\n",
              "  'Director': 'Pierre Morel'},\n",
              " {'Title': '300',\n",
              "  'Year': 2006,\n",
              "  'Genre': 'Action',\n",
              "  'Rating': 61,\n",
              "  'cast': 'Gerard Butler, Lena Headey, David Wenham, Dominic West',\n",
              "  'Director': 'Zack Snyder'},\n",
              " {'Title': 'True Lies',\n",
              "  'Year': 1994,\n",
              "  'Genre': 'Action',\n",
              "  'Rating': 69,\n",
              "  'cast': 'Arnold Schwarzenegger, Jamie Lee Curtis, Tom Arnold, Bill Paxton',\n",
              "  'Director': 'James Cameron'},\n",
              " {'Title': 'Demolition Man',\n",
              "  'Year': 1993,\n",
              "  'Genre': 'Action',\n",
              "  'Rating': 62,\n",
              "  'cast': 'Sylvester Stallone, Wesley Snipes, Sandra Bullock, Nigel Hawthorne',\n",
              "  'Director': 'Marco Brambilla'},\n",
              " {'Title': 'Hardcore Henry',\n",
              "  'Year': 2015,\n",
              "  'Genre': 'Action',\n",
              "  'Rating': 51,\n",
              "  'cast': 'Sharlto Copley, Danila Kozlovsky, Haley Bennett, Dasha Charusha',\n",
              "  'Director': 'Ilya Naishuller'},\n",
              " {'Title': 'Police Story',\n",
              "  'Year': 1985,\n",
              "  'Genre': 'Action',\n",
              "  'Rating': 93,\n",
              "  'cast': 'Jackie Chan, Brigitte Lin, Maggie Cheung, Bill Tung',\n",
              "  'Director': 'Jackie Chan'},\n",
              " {'Title': 'Brotherhood of the Wolf',\n",
              "  'Year': 2001,\n",
              "  'Genre': 'Action',\n",
              "  'Rating': 73,\n",
              "  'cast': 'Samuel Le Bihan, Mark Dacascos, Émilie Dequenne, Vincent Cassel',\n",
              "  'Director': 'Christophe Gans'},\n",
              " {'Title': 'Kingsman: The Secret Service',\n",
              "  'Year': 2014,\n",
              "  'Genre': 'Action',\n",
              "  'Rating': 75,\n",
              "  'cast': 'Colin Firth, Michael Caine, Taron Egerton, Samuel L. Jackson',\n",
              "  'Director': 'Matthew Vaughn'},\n",
              " {'Title': 'The Fifth Element',\n",
              "  'Year': 1997,\n",
              "  'Genre': 'Action',\n",
              "  'Rating': 70,\n",
              "  'cast': 'Bruce Willis, Gary Oldman, Ian Holm, Milla Jovovich',\n",
              "  'Director': 'Luc Besson'},\n",
              " {'Title': 'Big Trouble in Little China',\n",
              "  'Year': 1986,\n",
              "  'Genre': 'Action',\n",
              "  'Rating': 75,\n",
              "  'cast': 'Kurt Russell, Kim Cattrall, Dennis Dun, James Hong',\n",
              "  'Director': 'John Carpenter'},\n",
              " {'Title': 'Atomic Blonde',\n",
              "  'Year': 2017,\n",
              "  'Genre': 'Action',\n",
              "  'Rating': 79,\n",
              "  'cast': 'Charlize Theron, James McAvoy, Eddie Marsan, John Goodman',\n",
              "  'Director': 'David Leitch'},\n",
              " {'Title': 'Rumble in the Bronx',\n",
              "  'Year': 1995,\n",
              "  'Genre': 'Action',\n",
              "  'Rating': 80,\n",
              "  'cast': 'Jackie Chan, Anita Mui, Bill Tung, Françoise Yip',\n",
              "  'Director': 'Stanley Tong'},\n",
              " {'Title': 'District B13',\n",
              "  'Year': 2004,\n",
              "  'Genre': 'Action',\n",
              "  'Rating': 80,\n",
              "  'cast': \"Cyril Raffaelli, David Belle, Tony D'Amario, Larbi Naceri\",\n",
              "  'Director': 'Pierre Morel'},\n",
              " {'Title': 'Beverly Hills Cop',\n",
              "  'Year': 1984,\n",
              "  'Genre': 'Action',\n",
              "  'Rating': 83,\n",
              "  'cast': 'Eddie Murphy, Judge Reinhold, John Ashton, Lisa Eilbacher',\n",
              "  'Director': 'Martin Brest'},\n",
              " {'Title': 'Ong-Bak: The Thai Warrior',\n",
              "  'Year': 2003,\n",
              "  'Genre': 'Action',\n",
              "  'Rating': 85,\n",
              "  'cast': 'Tony Jaa, Pumwaree Yodkamol, Petchtai Wongkamlao, Suchao Pongwilai',\n",
              "  'Director': 'Prachya Pinkaew'},\n",
              " {'Title': 'Collateral',\n",
              "  'Year': 2004,\n",
              "  'Genre': 'Action',\n",
              "  'Rating': 86,\n",
              "  'cast': 'Tom Cruise, Jamie Foxx, Jada Pinkett Smith, Mark Ruffalo',\n",
              "  'Director': 'Michael Mann'},\n",
              " {'Title': 'Iron Monkey',\n",
              "  'Year': 1993,\n",
              "  'Genre': 'Action',\n",
              "  'Rating': 91,\n",
              "  'cast': 'Rongguang Yu, Donnie Yen, Sze-Man Tsang, Jean Wang',\n",
              "  'Director': 'Woo-Ping Yuen'},\n",
              " {'Title': 'Escape From New York',\n",
              "  'Year': 1981,\n",
              "  'Genre': 'Action',\n",
              "  'Rating': 85,\n",
              "  'cast': 'Kurt Russell, Ernest Borgnine, Adrienne Barbeau, Lee Van Cleef',\n",
              "  'Director': 'John Carpenter'},\n",
              " {'Title': 'Battle Royale',\n",
              "  'Year': 2000,\n",
              "  'Genre': 'Action',\n",
              "  'Rating': 88,\n",
              "  'cast': 'Tatsuya Fujiwara, Aki Maeda, Taro Yamamoto, Masanobu Andô',\n",
              "  'Director': 'Kinji Fukasaku'},\n",
              " {'Title': 'Spider-Man 2',\n",
              "  'Year': 2004,\n",
              "  'Genre': 'Action',\n",
              "  'Rating': 93,\n",
              "  'cast': 'Tobey Maguire, Kirsten Dunst, James Franco, Alfred Molina',\n",
              "  'Director': 'Sam Raimi'},\n",
              " {'Title': '13 Assassins',\n",
              "  'Year': 2010,\n",
              "  'Genre': 'Action',\n",
              "  'Rating': 95,\n",
              "  'cast': 'Koji Yakusho, Takayuki Yamada, Yusuke Iseya, Goro Inagaki',\n",
              "  'Director': 'Takashi Miike'},\n",
              " {'Title': 'Full Contact',\n",
              "  'Year': 1992,\n",
              "  'Genre': 'Action',\n",
              "  'Rating': 88,\n",
              "  'cast': 'Chow Yun-Fat, Simon Yam, Bonnie Fu, Wong Chow-Sang',\n",
              "  'Director': 'Ringo Lam'},\n",
              " {'Title': 'Indiana Jones and the Last Crusade',\n",
              "  'Year': 1989,\n",
              "  'Genre': 'Action',\n",
              "  'Rating': 88,\n",
              "  'cast': 'Harrison Ford, Sean Connery, Denholm Elliott, Alison Doody',\n",
              "  'Director': 'Steven Spielberg'},\n",
              " {'Title': 'Kung Fu Hustle',\n",
              "  'Year': 2004,\n",
              "  'Genre': 'Action',\n",
              "  'Rating': 90,\n",
              "  'cast': 'Stephen Chow, Yuen Wah, Yuen Qiu, Siu-Lung Leung',\n",
              "  'Director': 'Stephen Chow'},\n",
              " {'Title': 'A Better Tomorrow',\n",
              "  'Year': 1986,\n",
              "  'Genre': 'Action',\n",
              "  'Rating': 93,\n",
              "  'cast': 'Ti Lung, Chow Yun-Fat, Leslie Cheung, Emily Chu',\n",
              "  'Director': 'John Woo'},\n",
              " {'Title': 'Iron Man',\n",
              "  'Year': 2008,\n",
              "  'Genre': 'Action',\n",
              "  'Rating': 94,\n",
              "  'cast': 'Robert Downey Jr., Terrence Howard, Gwyneth Paltrow, Jeff Bridges',\n",
              "  'Director': 'Jon Favreau'},\n",
              " {'Title': 'The Night Comes for Us',\n",
              "  'Year': 2018,\n",
              "  'Genre': 'Action',\n",
              "  'Rating': 91,\n",
              "  'cast': 'Joe Taslim, Iko Uwais, Julie Estelle, Sunny Pang',\n",
              "  'Director': 'Timo Tjahjanto'},\n",
              " {'Title': 'Logan',\n",
              "  'Year': 2017,\n",
              "  'Genre': 'Action',\n",
              "  'Rating': 94,\n",
              "  'cast': 'Hugh Jackman, Patrick Stewart, Dafne Keen, Richard E. Grant',\n",
              "  'Director': 'James Mangold'},\n",
              " {'Title': 'Goldfinger',\n",
              "  'Year': 1964,\n",
              "  'Genre': 'Action',\n",
              "  'Rating': 99,\n",
              "  'cast': 'Sean Connery, Gert Frobe, Honor Blackman, Shirley Eaton',\n",
              "  'Director': 'Guy Hamilton'},\n",
              " {'Title': 'Assault on Precinct 13',\n",
              "  'Year': 1976,\n",
              "  'Genre': 'Action',\n",
              "  'Rating': 95,\n",
              "  'cast': 'Austin Stoker, Darwin Joston, Laurie Zimmer, Martin West',\n",
              "  'Director': 'John Carpenter'},\n",
              " {'Title': 'Wonder Woman',\n",
              "  'Year': 2017,\n",
              "  'Genre': 'Action',\n",
              "  'Rating': 93,\n",
              "  'cast': 'Gal Gadot, Chris Pine, Connie Nielsen, Robin Wright',\n",
              "  'Director': 'Patty Jenkins'},\n",
              " {'Title': 'The Chinese Connection',\n",
              "  'Year': 1972,\n",
              "  'Genre': 'Action',\n",
              "  'Rating': 83,\n",
              "  'cast': 'Bruce Lee, Miao Ker Hsiu, James Tien, Robert Baker',\n",
              "  'Director': 'Lo Wei'},\n",
              " {'Title': 'Captain America: The Winter Soldier',\n",
              "  'Year': 2014,\n",
              "  'Genre': 'Action',\n",
              "  'Rating': 90,\n",
              "  'cast': 'Chris Evans, Scarlett Johansson, Samuel L. Jackson, Sebastian Stan',\n",
              "  'Director': 'Anthony Russo'},\n",
              " {'Title': 'Oldboy',\n",
              "  'Year': 2003,\n",
              "  'Genre': 'Action',\n",
              "  'Rating': 81,\n",
              "  'cast': 'Choi Min-sik, Yoo Ji-tae, Kang Hye-jung, Ji Dae-han',\n",
              "  'Director': 'Park Chan-wook'},\n",
              " {'Title': 'The French Connection',\n",
              "  'Year': 1971,\n",
              "  'Genre': 'Action',\n",
              "  'Rating': 97,\n",
              "  'cast': 'Gene Hackman, Fernando Rey, Roy Scheider, Tony Lo Bianco',\n",
              "  'Director': 'William Friedkin'},\n",
              " {'Title': 'Furious 7',\n",
              "  'Year': 2015,\n",
              "  'Genre': 'Action',\n",
              "  'Rating': 82,\n",
              "  'cast': 'Vin Diesel, Paul Walker, Dwayne Johnson, Michelle Rodriguez',\n",
              "  'Director': 'James Wan'},\n",
              " {'Title': 'La Femme Nikita',\n",
              "  'Year': 1990,\n",
              "  'Genre': 'Action',\n",
              "  'Rating': 89,\n",
              "  'cast': 'Anne Parillaud, Jean-Hugues Anglade, Tcheky Karyo, Jeanne Moreau',\n",
              "  'Director': 'Luc Besson'},\n",
              " {'Title': 'Supercop',\n",
              "  'Year': 1992,\n",
              "  'Genre': 'Action',\n",
              "  'Rating': 96,\n",
              "  'cast': 'Jackie Chan, Michelle Yeaoh, Maggie Cheung, Ken Tsang',\n",
              "  'Director': 'Stanley Tong'},\n",
              " {'Title': 'Dirty Harry',\n",
              "  'Year': 1971,\n",
              "  'Genre': 'Action',\n",
              "  'Rating': 88,\n",
              "  'cast': 'Clint Eastwood, Harry Guardino, Reni Santoni, John Larch',\n",
              "  'Director': 'Don Siegel'},\n",
              " {'Title': 'Edge of Tomorrow',\n",
              "  'Year': 2014,\n",
              "  'Genre': 'Action',\n",
              "  'Rating': 91,\n",
              "  'cast': 'Tom Cruise, Emily Blunt, Brendan Gleeson, Bill Paxton',\n",
              "  'Director': 'Doug Liman'},\n",
              " {'Title': 'X2',\n",
              "  'Year': 2003,\n",
              "  'Genre': 'Action',\n",
              "  'Rating': 85,\n",
              "  'cast': 'Patrick Stewart, Hugh Jackman, Ian McKellen, Halle Berry',\n",
              "  'Director': 'Bryan Singer'},\n",
              " {'Title': 'The Fugitive',\n",
              "  'Year': 1993,\n",
              "  'Genre': 'Action',\n",
              "  'Rating': 96,\n",
              "  'cast': 'Harrison Ford, Tommy Lee Jones, Sela Ward, Julianne Moore',\n",
              "  'Director': 'Andrew Davis'},\n",
              " {'Title': 'Black Panther',\n",
              "  'Year': 2018,\n",
              "  'Genre': 'Action',\n",
              "  'Rating': 96,\n",
              "  'cast': \"Chadwick Boseman, Michael B. Jordan, Lupita Nyong'o, Danai Gurira\",\n",
              "  'Director': 'Ryan Coogler'},\n",
              " {'Title': 'Inception',\n",
              "  'Year': 2010,\n",
              "  'Genre': 'Action',\n",
              "  'Rating': 87,\n",
              "  'cast': 'Leonardo DiCaprio, Joseph Gordon-Levitt, Ellen Page, Tom Hardy',\n",
              "  'Director': 'Christopher Nolan'},\n",
              " {'Title': 'Braveheart',\n",
              "  'Year': 1995,\n",
              "  'Genre': 'Action',\n",
              "  'Rating': 76,\n",
              "  'cast': 'Mel Gibson, Sophie Marceau, Patrick McGoohan, Catherine McCormack',\n",
              "  'Director': 'Mel Gibson'},\n",
              " {'Title': 'Minority Report',\n",
              "  'Year': 2002,\n",
              "  'Genre': 'Action',\n",
              "  'Rating': 90,\n",
              "  'cast': 'Tom Cruise, Colin Farrell, Samantha Morton, Max von Sydow',\n",
              "  'Director': 'Steven Spielberg'},\n",
              " {'Title': 'Avengers: Endgame',\n",
              "  'Year': 2019,\n",
              "  'Genre': 'Action',\n",
              "  'Rating': 94,\n",
              "  'cast': 'Robert Downey Jr., Chris Evans, Mark Ruffalo, Chris Hemsworth',\n",
              "  'Director': 'Anthony Russo'},\n",
              " {'Title': 'Dredd',\n",
              "  'Year': 2012,\n",
              "  'Genre': 'Action',\n",
              "  'Rating': 79,\n",
              "  'cast': 'Karl Urban, Olivia Thirlby, Lena Headey, Wood Harris',\n",
              "  'Director': 'Pete Travis'},\n",
              " {'Title': 'The Bourne Identity',\n",
              "  'Year': 2002,\n",
              "  'Genre': 'Action',\n",
              "  'Rating': 84,\n",
              "  'cast': 'Matt Damon, Franka Potente, Chris Cooper, Clive Owen',\n",
              "  'Director': 'Doug Liman'},\n",
              " {'Title': 'Ip Man',\n",
              "  'Year': 2008,\n",
              "  'Genre': 'Action',\n",
              "  'Rating': 86,\n",
              "  'cast': 'Donnie Yen, Simon Yam, Siu-wong Fan, Ka Tung Lam',\n",
              "  'Director': 'Wilson Yip'},\n",
              " {'Title': 'Face/Off',\n",
              "  'Year': 1997,\n",
              "  'Genre': 'Action',\n",
              "  'Rating': 92,\n",
              "  'cast': 'John Travolta, Nicolas Cage, Joan Allen, Alessandro Nivola',\n",
              "  'Director': 'John Woo'},\n",
              " {'Title': 'To Live and Die in L.A.',\n",
              "  'Year': 1985,\n",
              "  'Genre': 'Action',\n",
              "  'Rating': 85,\n",
              "  'cast': 'William L. Petersen, Willem Dafoe, John Pankow, Debra Feuer',\n",
              "  'Director': 'William Friedkin'},\n",
              " {'Title': 'The Dark Knight',\n",
              "  'Year': 2008,\n",
              "  'Genre': 'Action',\n",
              "  'Rating': 94,\n",
              "  'cast': 'Christian Bale, Heath Ledger, Aaron Eckhart, Michael Caine',\n",
              "  'Director': 'Christopher Nolan'},\n",
              " {'Title': 'Mission: Impossible -- Ghost Protocol',\n",
              "  'Year': 2011,\n",
              "  'Genre': 'Action',\n",
              "  'Rating': 93,\n",
              "  'cast': 'Tom Cruise, Jeremy Renner, Simon Pegg, Paula Patton',\n",
              "  'Director': 'Brad Bird'},\n",
              " {'Title': 'Fast Five',\n",
              "  'Year': 2011,\n",
              "  'Genre': 'Action',\n",
              "  'Rating': 77,\n",
              "  'cast': 'Vin Diesel, Paul Walker, Jordana Brewster, Tyrese Gibson',\n",
              "  'Director': 'Justin Lin'},\n",
              " {'Title': 'Lethal Weapon',\n",
              "  'Year': 1987,\n",
              "  'Genre': 'Action',\n",
              "  'Rating': 80,\n",
              "  'cast': 'Mel Gibson, Danny Glover, Gary Busey, Mitchell Ryan',\n",
              "  'Director': 'Richard Donner'},\n",
              " {'Title': 'The Rock',\n",
              "  'Year': 1996,\n",
              "  'Genre': 'Action',\n",
              "  'Rating': 68,\n",
              "  'cast': 'Sean Connery, Nicolas Cage, Ed Harris, Michael Biehn',\n",
              "  'Director': 'Michael Bay'},\n",
              " {'Title': 'RoboCop',\n",
              "  'Year': 1987,\n",
              "  'Genre': 'Action',\n",
              "  'Rating': 91,\n",
              "  'cast': \"Peter Weller, Nancy Allen, Ronny Cox, Daniel O'Herlihy\",\n",
              "  'Director': 'Paul Verhoeven'},\n",
              " {'Title': 'John Wick: Chapter 2',\n",
              "  'Year': 2017,\n",
              "  'Genre': 'Action',\n",
              "  'Rating': 89,\n",
              "  'cast': 'Keanu Reeves, Common, Laurence Fishburne, Riccardo Scamarcio',\n",
              "  'Director': 'Chad Stahelski'},\n",
              " {'Title': 'Casino Royale',\n",
              "  'Year': 2006,\n",
              "  'Genre': 'Action',\n",
              "  'Rating': 94,\n",
              "  'cast': 'Daniel Craig, Eva Green, Mads Mikkelsen, Judi Dench',\n",
              "  'Director': 'Martin Campbell'},\n",
              " {'Title': 'Baby Driver',\n",
              "  'Year': 2017,\n",
              "  'Genre': 'Action',\n",
              "  'Rating': 92,\n",
              "  'cast': 'Ansel Elgort, Kevin Spacey, Lily James, Jon Bernthal',\n",
              "  'Director': 'Edgar Wright'},\n",
              " {'Title': 'Fist of Legend',\n",
              "  'Year': 1994,\n",
              "  'Genre': 'Action',\n",
              "  'Rating': 100,\n",
              "  'cast': 'Jet Li, Chin Siu Ho, Billy Chow, Yasuaki Kurata',\n",
              "  'Director': 'Gordon Chan'},\n",
              " {'Title': 'The Killer',\n",
              "  'Year': 1989,\n",
              "  'Genre': 'Action',\n",
              "  'Rating': 98,\n",
              "  'cast': 'Chow Yun-Fat, Danny Lee, Sally Yeh, Kenneth Tsang',\n",
              "  'Director': 'John Woo'},\n",
              " {'Title': 'The Raid 2',\n",
              "  'Year': 2014,\n",
              "  'Genre': 'Action',\n",
              "  'Rating': 82,\n",
              "  'cast': 'Iko Uwais, Yayan Ruhian, Arifin Putra, Oka Antara',\n",
              "  'Director': 'Gareth Evans'},\n",
              " {'Title': 'Enter the Dragon',\n",
              "  'Year': 1973,\n",
              "  'Genre': 'Action',\n",
              "  'Rating': 95,\n",
              "  'cast': 'Bruce Lee, John Saxon, Jim Kelly, Ahna Capri',\n",
              "  'Director': 'Robert Clouse'},\n",
              " {'Title': 'Commando',\n",
              "  'Year': 1985,\n",
              "  'Genre': 'Action',\n",
              "  'Rating': 69,\n",
              "  'cast': 'Arnold Schwarzenegger, Rae Dawn Chong, Dan Hedaya, Vernon Wells',\n",
              "  'Director': 'Mark L. Lester'},\n",
              " {'Title': 'First Blood',\n",
              "  'Year': 1982,\n",
              "  'Genre': 'Action',\n",
              "  'Rating': 87,\n",
              "  'cast': 'Sylvester Stallone, Richard Crenna, Brian Dennehy, David Caruso',\n",
              "  'Director': 'Ted Kotcheff'},\n",
              " {'Title': 'Mission: Impossible Rogue Nation',\n",
              "  'Year': 2015,\n",
              "  'Genre': 'Action',\n",
              "  'Rating': 94,\n",
              "  'cast': 'Tom Cruise, Jeremy Renner, Simon Pegg, Rebecca Ferguson',\n",
              "  'Director': 'Christopher McQuarrie'},\n",
              " {'Title': 'The Terminator',\n",
              "  'Year': 1984,\n",
              "  'Genre': 'Action',\n",
              "  'Rating': 100,\n",
              "  'cast': 'Arnold Schwarzenegger, Linda Hamilton, Michael Biehn, Paul Winfield',\n",
              "  'Director': 'James Cameron'},\n",
              " {'Title': 'Gladiator',\n",
              "  'Year': 2000,\n",
              "  'Genre': 'Action',\n",
              "  'Rating': 78,\n",
              "  'cast': 'Russell Crowe, Joaquin Phoenix, Connie Nielsen, Oliver Reed',\n",
              "  'Director': 'Ridley Scott'},\n",
              " {'Title': 'Kill Bill: Vol. 1',\n",
              "  'Year': 2003,\n",
              "  'Genre': 'Action',\n",
              "  'Rating': 85,\n",
              "  'cast': 'Uma Thurman, Lucy Liu, Vivica A. Fox, Michael Madsen',\n",
              "  'Director': 'Quentin Tarantino'},\n",
              " {'Title': 'The Professional',\n",
              "  'Year': 1994,\n",
              "  'Genre': 'Action',\n",
              "  'Rating': 73,\n",
              "  'cast': 'Jean Reno, Gary Oldman, Natalie Portman, Danny Aiello',\n",
              "  'Director': 'Luc Besson'},\n",
              " {'Title': 'Speed',\n",
              "  'Year': 1994,\n",
              "  'Genre': 'Action',\n",
              "  'Rating': 94,\n",
              "  'cast': 'Keanu Reeves, Dennis Hopper, Sandra Bullock, Joe Morton',\n",
              "  'Director': 'Jan de Bont'},\n",
              " {'Title': 'Drunken Master II',\n",
              "  'Year': 1994,\n",
              "  'Genre': 'Action',\n",
              "  'Rating': 84,\n",
              "  'cast': 'Jackie Chan, Ti Lung, Anita Mui, Kar-leung Lau',\n",
              "  'Director': 'Chia-Liang Liu'},\n",
              " {'Title': 'John Wick',\n",
              "  'Year': 2014,\n",
              "  'Genre': 'Action',\n",
              "  'Rating': 86,\n",
              "  'cast': 'Keanu Reeves, Michael Nyqvist, Alfie Allen, Willem Dafoe',\n",
              "  'Director': 'Chad Stahelski'},\n",
              " {'Title': 'Crouching Tiger, Hidden Dragon',\n",
              "  'Year': 2000,\n",
              "  'Genre': 'Action',\n",
              "  'Rating': 97,\n",
              "  'cast': 'Chow Yun-Fat, Michelle Yeoh, Zhang Ziyi, Chen Chang',\n",
              "  'Director': 'Ang Lee'},\n",
              " {'Title': 'Predator',\n",
              "  'Year': 1987,\n",
              "  'Genre': 'Action',\n",
              "  'Rating': 80,\n",
              "  'cast': 'Arnold Schwarzenegger, Carl Weathers, Jesse Ventura, Elpidia Carrillo',\n",
              "  'Director': 'John McTiernan'},\n",
              " {'Title': 'The Bourne Ultimatum',\n",
              "  'Year': 2007,\n",
              "  'Genre': 'Action',\n",
              "  'Rating': 92,\n",
              "  'cast': 'Matt Damon, Julia Stiles, Joan Allen, David Strathairn',\n",
              "  'Director': 'Paul Greengrass'},\n",
              " {'Title': 'Total Recall',\n",
              "  'Year': 1990,\n",
              "  'Genre': 'Action',\n",
              "  'Rating': 82,\n",
              "  'cast': 'Arnold Schwarzenegger, Rachel Ticotin, Sharon Stone, Ronny Cox',\n",
              "  'Director': 'Paul Verhoeven'},\n",
              " {'Title': 'Mad Max 2',\n",
              "  'Year': 1981,\n",
              "  'Genre': 'Action',\n",
              "  'Rating': 94,\n",
              "  'cast': 'Mel Gibson, Bruce Spence, Emil Minty, Vernon Wells',\n",
              "  'Director': 'George Miller'},\n",
              " {'Title': 'Heat',\n",
              "  'Year': 1995,\n",
              "  'Genre': 'Action',\n",
              "  'Rating': 88,\n",
              "  'cast': 'Al Pacino, Robert De Niro, Val Kilmer, Jon Voight',\n",
              "  'Director': 'Michael Mann'},\n",
              " {'Title': 'The Raid: Redemption',\n",
              "  'Year': 2011,\n",
              "  'Genre': 'Action',\n",
              "  'Rating': 87,\n",
              "  'cast': 'Iko Uwais, Joe Taslim, Doni Alamsyah, Yayan Ruhian',\n",
              "  'Director': 'Gareth Huw Evans'},\n",
              " {'Title': 'Mission: Impossible -- Fallout',\n",
              "  'Year': 2018,\n",
              "  'Genre': 'Action',\n",
              "  'Rating': 97,\n",
              "  'cast': 'Tom Cruise, Henry Cavill, Ving Rhames, Simon Pegg',\n",
              "  'Director': 'Christopher McQuarrie'},\n",
              " {'Title': 'Raiders of the Lost Ark',\n",
              "  'Year': 1981,\n",
              "  'Genre': 'Action',\n",
              "  'Rating': 95,\n",
              "  'cast': 'Harrison Ford, Karen Allen, Paul Freeman, Wolf Kahler',\n",
              "  'Director': 'Steven Spielberg'},\n",
              " {'Title': 'Aliens',\n",
              "  'Year': 1986,\n",
              "  'Genre': 'Action',\n",
              "  'Rating': 97,\n",
              "  'cast': 'Sigourney Weaver, Carrie Henn, Michael Biehn, Paul Reiser',\n",
              "  'Director': 'James Cameron'},\n",
              " {'Title': 'Hard-Boiled',\n",
              "  'Year': 1992,\n",
              "  'Genre': 'Action',\n",
              "  'Rating': 94,\n",
              "  'cast': 'Chow Yun-Fat, Bowie Lam, Philip Chan, Tony Leung Chiu Wai',\n",
              "  'Director': 'John Woo'},\n",
              " {'Title': 'The Matrix',\n",
              "  'Year': 1999,\n",
              "  'Genre': 'Action',\n",
              "  'Rating': 88,\n",
              "  'cast': 'Keanu Reeves, Laurence Fishburne, Carrie-Anne Moss, Hugo Weaving',\n",
              "  'Director': 'Andy Wachowski'},\n",
              " {'Title': 'Terminator 2: Judgment Day',\n",
              "  'Year': 1991,\n",
              "  'Genre': 'Action',\n",
              "  'Rating': 93,\n",
              "  'cast': 'Arnold Schwarzenegger, Linda Hamilton, Edward Furlong, Robert Patrick',\n",
              "  'Director': 'James Cameron'},\n",
              " {'Title': 'Die Hard',\n",
              "  'Year': 1988,\n",
              "  'Genre': 'Action',\n",
              "  'Rating': 94,\n",
              "  'cast': 'Bruce Willis, Alan Rickman, Bonnie Bedelia, Reginald VelJohnson',\n",
              "  'Director': 'John McTiernan'},\n",
              " {'Title': 'Mad Max: Fury Road',\n",
              "  'Year': 2015,\n",
              "  'Genre': 'Action',\n",
              "  'Rating': 97,\n",
              "  'cast': 'Tom Hardy, Charlize Theron, Nicholas Hoult, Hugh Keays-Byrne',\n",
              "  'Director': 'George Miller'}]"
            ]
          },
          "execution_count": 29,
          "metadata": {},
          "output_type": "execute_result"
        }
      ],
      "source": [
        "data"
      ]
    },
    {
      "cell_type": "code",
      "execution_count": null,
      "metadata": {
        "id": "JlJBIw_eEzNq"
      },
      "outputs": [],
      "source": [
        "db = client[\"Webscraping\"]"
      ]
    },
    {
      "cell_type": "code",
      "execution_count": null,
      "metadata": {
        "colab": {
          "base_uri": "https://localhost:8080/"
        },
        "id": "Hloe2isME6wC",
        "outputId": "070b7e2c-9484-4c59-8efe-06043162f931"
      },
      "outputs": [
        {
          "name": "stdout",
          "output_type": "stream",
          "text": [
            "Database(MongoClient(host=['localhost:27017'], document_class=dict, tz_aware=False, connect=True), 'Webscraping')\n"
          ]
        }
      ],
      "source": [
        "print(db)"
      ]
    },
    {
      "cell_type": "code",
      "execution_count": null,
      "metadata": {
        "colab": {
          "base_uri": "https://localhost:8080/",
          "height": 345
        },
        "id": "7Oz0wI9HE6yq",
        "outputId": "57b014e4-f0b3-47ba-f729-023af37f9684"
      },
      "outputs": [
        {
          "data": {
            "text/plain": [
              "<pymongo.results.InsertManyResult at 0x7fcbd04abfd0>"
            ]
          },
          "execution_count": 32,
          "metadata": {},
          "output_type": "execute_result"
        }
      ],
      "source": [
        "db.movies.insert_many(data)"
      ]
    }
  ],
  "metadata": {
    "colab": {
      "collapsed_sections": [],
      "name": "Web_scraping.ipynb",
      "provenance": [],
      "include_colab_link": true
    },
    "kernelspec": {
      "display_name": "Python 3 (ipykernel)",
      "language": "python",
      "name": "python3"
    },
    "language_info": {
      "codemirror_mode": {
        "name": "ipython",
        "version": 3
      },
      "file_extension": ".py",
      "mimetype": "text/x-python",
      "name": "python",
      "nbconvert_exporter": "python",
      "pygments_lexer": "ipython3",
      "version": "3.9.7"
    }
  },
  "nbformat": 4,
  "nbformat_minor": 0
}